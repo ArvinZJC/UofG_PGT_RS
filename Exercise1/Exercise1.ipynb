{
  "nbformat": 4,
  "nbformat_minor": 2,
  "metadata": {
    "colab": {
      "name": "Exercise1.ipynb",
      "provenance": [],
      "collapsed_sections": []
    },
    "kernelspec": {
      "name": "python3",
      "display_name": "Python 3.8.10 64-bit ('base': conda)"
    },
    "language_info": {
      "name": "python",
      "version": "3.8.10"
    },
    "interpreter": {
      "hash": "83ad9dc287f1bd68e1373a062e5fec25449c786b53be0804b995b765c2d61fc9"
    }
  },
  "cells": [
    {
      "cell_type": "markdown",
      "source": [
        "# Exercise 1\r\n",
        "\r\n",
        "The **aims** of this exercise are:\r\n",
        "\r\n",
        "- Allow you to practise slicing and analysing data with Pandas\r\n",
        "- Introduce you to the MovieLens dataset\r\n",
        "- Demonstrate use of Pandas to perform non-personalised and personalised recommendations\r\n",
        "\r\n",
        "This exercise is worth 5% of the contribution to your final mark for RecSys, and is expected to take approximately 5-7 hours of your time.\r\n",
        "\r\n",
        "**NB:** This is an individual exercise."
      ],
      "metadata": {
        "id": "zMRJzJXdfkNv"
      }
    },
    {
      "cell_type": "code",
      "execution_count": 1,
      "source": [
        "# Import modules.\r\n",
        "import matplotlib.pyplot as plt\r\n",
        "import numpy as np\r\n",
        "import pandas as pd"
      ],
      "outputs": [],
      "metadata": {
        "id": "D0FCwi-bIytL"
      }
    },
    {
      "cell_type": "markdown",
      "source": [
        "# Part A. MovieLens Exploration using Pandas\r\n",
        "\r\n",
        "This exercise will use the [Movielens](https://grouplens.org/datasets/movielens/) data. There is a large dataset with 25M ratings, however we will focus on the smallest one, that has only 100k ratings.  \r\n",
        "\r\n",
        "**Hint** : If you are using Colab, it might be good if you open these files, either on your own machine, or using Colab's inbuilt CSV viewer (via folder icon on the left hand sidebar). The CSV files are small enough to be searched using your favourite editor."
      ],
      "metadata": {
        "id": "uTkyfA-p51Oi"
      }
    },
    {
      "cell_type": "code",
      "execution_count": 2,
      "source": [
        "!curl -o ml-latest-small.zip http://files.grouplens.org/datasets/movielens/ml-latest-small.zip\r\n",
        "# !curl -o ml-latest-small.zip http://www.dcs.gla.ac.uk/~craigm/recsysHM/ml-latest-small.zip  # Backup location. Use it instead of the previous line if necessary.\r\n",
        "!unzip -o ml-latest-small.zip"
      ],
      "outputs": [
        {
          "output_type": "stream",
          "name": "stdout",
          "text": [
            "  % Total    % Received % Xferd  Average Speed   Time    Time     Time  Current\n",
            "                                 Dload  Upload   Total   Spent    Left  Speed\n",
            "100  955k  100  955k    0     0  1641k      0 --:--:-- --:--:-- --:--:-- 1641k\n",
            "Archive:  ml-latest-small.zip\n",
            "   creating: ml-latest-small/\n",
            "  inflating: ml-latest-small/links.csv  \n",
            "  inflating: ml-latest-small/tags.csv  \n",
            "  inflating: ml-latest-small/ratings.csv  \n",
            "  inflating: ml-latest-small/README.txt  \n",
            "  inflating: ml-latest-small/movies.csv  \n"
          ]
        }
      ],
      "metadata": {
        "id": "Hq-oSeM344Ca",
        "colab": {
          "base_uri": "https://localhost:8080/"
        },
        "outputId": "7443a296-87f7-4731-fa2b-239b8e7bfc1d"
      }
    },
    {
      "cell_type": "markdown",
      "source": [
        "Let's look into the files using Pandas."
      ],
      "metadata": {
        "id": "idTYNpH-6Pr3"
      }
    },
    {
      "cell_type": "code",
      "execution_count": 3,
      "source": [
        "ratings_df = pd.read_csv('ml-latest-small/ratings.csv')\r\n",
        "movies_df = pd.read_csv('ml-latest-small/movies.csv')\r\n",
        "\r\n",
        "# Treat userId as strings, and similarly as movies. This will prevent confusion later on.\r\n",
        "ratings_df['userId'] = 'u' + ratings_df['userId'].astype(str)\r\n",
        "ratings_df['movieId'] = 'm' + ratings_df['movieId'].astype(str)\r\n",
        "movies_df['movieId'] = 'm' +  movies_df['movieId'].astype(str)"
      ],
      "outputs": [],
      "metadata": {
        "id": "-PWv4cz-4_7B"
      }
    },
    {
      "cell_type": "code",
      "execution_count": 4,
      "source": [
        "ratings_df"
      ],
      "outputs": [
        {
          "output_type": "execute_result",
          "data": {
            "text/plain": [
              "       userId  movieId  rating   timestamp\n",
              "0          u1       m1     4.0   964982703\n",
              "1          u1       m3     4.0   964981247\n",
              "2          u1       m6     4.0   964982224\n",
              "3          u1      m47     5.0   964983815\n",
              "4          u1      m50     5.0   964982931\n",
              "...       ...      ...     ...         ...\n",
              "100831   u610  m166534     4.0  1493848402\n",
              "100832   u610  m168248     5.0  1493850091\n",
              "100833   u610  m168250     5.0  1494273047\n",
              "100834   u610  m168252     5.0  1493846352\n",
              "100835   u610  m170875     3.0  1493846415\n",
              "\n",
              "[100836 rows x 4 columns]"
            ],
            "text/html": [
              "<div>\n",
              "<style scoped>\n",
              "    .dataframe tbody tr th:only-of-type {\n",
              "        vertical-align: middle;\n",
              "    }\n",
              "\n",
              "    .dataframe tbody tr th {\n",
              "        vertical-align: top;\n",
              "    }\n",
              "\n",
              "    .dataframe thead th {\n",
              "        text-align: right;\n",
              "    }\n",
              "</style>\n",
              "<table border=\"1\" class=\"dataframe\">\n",
              "  <thead>\n",
              "    <tr style=\"text-align: right;\">\n",
              "      <th></th>\n",
              "      <th>userId</th>\n",
              "      <th>movieId</th>\n",
              "      <th>rating</th>\n",
              "      <th>timestamp</th>\n",
              "    </tr>\n",
              "  </thead>\n",
              "  <tbody>\n",
              "    <tr>\n",
              "      <th>0</th>\n",
              "      <td>u1</td>\n",
              "      <td>m1</td>\n",
              "      <td>4.0</td>\n",
              "      <td>964982703</td>\n",
              "    </tr>\n",
              "    <tr>\n",
              "      <th>1</th>\n",
              "      <td>u1</td>\n",
              "      <td>m3</td>\n",
              "      <td>4.0</td>\n",
              "      <td>964981247</td>\n",
              "    </tr>\n",
              "    <tr>\n",
              "      <th>2</th>\n",
              "      <td>u1</td>\n",
              "      <td>m6</td>\n",
              "      <td>4.0</td>\n",
              "      <td>964982224</td>\n",
              "    </tr>\n",
              "    <tr>\n",
              "      <th>3</th>\n",
              "      <td>u1</td>\n",
              "      <td>m47</td>\n",
              "      <td>5.0</td>\n",
              "      <td>964983815</td>\n",
              "    </tr>\n",
              "    <tr>\n",
              "      <th>4</th>\n",
              "      <td>u1</td>\n",
              "      <td>m50</td>\n",
              "      <td>5.0</td>\n",
              "      <td>964982931</td>\n",
              "    </tr>\n",
              "    <tr>\n",
              "      <th>...</th>\n",
              "      <td>...</td>\n",
              "      <td>...</td>\n",
              "      <td>...</td>\n",
              "      <td>...</td>\n",
              "    </tr>\n",
              "    <tr>\n",
              "      <th>100831</th>\n",
              "      <td>u610</td>\n",
              "      <td>m166534</td>\n",
              "      <td>4.0</td>\n",
              "      <td>1493848402</td>\n",
              "    </tr>\n",
              "    <tr>\n",
              "      <th>100832</th>\n",
              "      <td>u610</td>\n",
              "      <td>m168248</td>\n",
              "      <td>5.0</td>\n",
              "      <td>1493850091</td>\n",
              "    </tr>\n",
              "    <tr>\n",
              "      <th>100833</th>\n",
              "      <td>u610</td>\n",
              "      <td>m168250</td>\n",
              "      <td>5.0</td>\n",
              "      <td>1494273047</td>\n",
              "    </tr>\n",
              "    <tr>\n",
              "      <th>100834</th>\n",
              "      <td>u610</td>\n",
              "      <td>m168252</td>\n",
              "      <td>5.0</td>\n",
              "      <td>1493846352</td>\n",
              "    </tr>\n",
              "    <tr>\n",
              "      <th>100835</th>\n",
              "      <td>u610</td>\n",
              "      <td>m170875</td>\n",
              "      <td>3.0</td>\n",
              "      <td>1493846415</td>\n",
              "    </tr>\n",
              "  </tbody>\n",
              "</table>\n",
              "<p>100836 rows × 4 columns</p>\n",
              "</div>"
            ]
          },
          "metadata": {
            "tags": []
          },
          "execution_count": 4
        }
      ],
      "metadata": {
        "id": "0R-tZogo5Uhn",
        "colab": {
          "base_uri": "https://localhost:8080/",
          "height": 419
        },
        "outputId": "9122ec34-939a-4cc3-af95-495607fce4c3"
      }
    },
    {
      "cell_type": "markdown",
      "source": [
        "`ratings_df` is a [Pandas DataFrame](https://pandas.pydata.org/pandas-docs/stable/reference/api/pandas.DataFrame.html). Viewing it, we can see users (identified by userId) are rating various movies (cf. movieId).\n",
        "\n",
        "We can slice and dice the dataframes.\n",
        "\n",
        "- Project a single column (this returns a [Pandas Series](https://pandas.pydata.org/pandas-docs/stable/reference/api/pandas.Series.html))."
      ],
      "metadata": {
        "id": "MDR2Wx1qvddn"
      }
    },
    {
      "cell_type": "code",
      "execution_count": 5,
      "source": [
        "movies_df['title']"
      ],
      "outputs": [
        {
          "output_type": "execute_result",
          "data": {
            "text/plain": [
              "0                                Toy Story (1995)\n",
              "1                                  Jumanji (1995)\n",
              "2                         Grumpier Old Men (1995)\n",
              "3                        Waiting to Exhale (1995)\n",
              "4              Father of the Bride Part II (1995)\n",
              "                          ...                    \n",
              "9737    Black Butler: Book of the Atlantic (2017)\n",
              "9738                 No Game No Life: Zero (2017)\n",
              "9739                                 Flint (2017)\n",
              "9740          Bungo Stray Dogs: Dead Apple (2018)\n",
              "9741          Andrew Dice Clay: Dice Rules (1991)\n",
              "Name: title, Length: 9742, dtype: object"
            ]
          },
          "metadata": {
            "tags": []
          },
          "execution_count": 5
        }
      ],
      "metadata": {
        "id": "55fuLJUXvl7z",
        "colab": {
          "base_uri": "https://localhost:8080/"
        },
        "outputId": "a9f488f5-b5e3-430b-dc13-46fc926ada90"
      }
    },
    {
      "cell_type": "markdown",
      "source": [
        "- Project multiple columns (this returns a view of the original DataFrame, as another DataFrame object)."
      ],
      "metadata": {
        "id": "fbFbiqKewD5p"
      }
    },
    {
      "cell_type": "code",
      "execution_count": 6,
      "source": [
        "movies_df[['movieId', 'title']]"
      ],
      "outputs": [
        {
          "output_type": "execute_result",
          "data": {
            "text/plain": [
              "      movieId                                      title\n",
              "0          m1                           Toy Story (1995)\n",
              "1          m2                             Jumanji (1995)\n",
              "2          m3                    Grumpier Old Men (1995)\n",
              "3          m4                   Waiting to Exhale (1995)\n",
              "4          m5         Father of the Bride Part II (1995)\n",
              "...       ...                                        ...\n",
              "9737  m193581  Black Butler: Book of the Atlantic (2017)\n",
              "9738  m193583               No Game No Life: Zero (2017)\n",
              "9739  m193585                               Flint (2017)\n",
              "9740  m193587        Bungo Stray Dogs: Dead Apple (2018)\n",
              "9741  m193609        Andrew Dice Clay: Dice Rules (1991)\n",
              "\n",
              "[9742 rows x 2 columns]"
            ],
            "text/html": [
              "<div>\n",
              "<style scoped>\n",
              "    .dataframe tbody tr th:only-of-type {\n",
              "        vertical-align: middle;\n",
              "    }\n",
              "\n",
              "    .dataframe tbody tr th {\n",
              "        vertical-align: top;\n",
              "    }\n",
              "\n",
              "    .dataframe thead th {\n",
              "        text-align: right;\n",
              "    }\n",
              "</style>\n",
              "<table border=\"1\" class=\"dataframe\">\n",
              "  <thead>\n",
              "    <tr style=\"text-align: right;\">\n",
              "      <th></th>\n",
              "      <th>movieId</th>\n",
              "      <th>title</th>\n",
              "    </tr>\n",
              "  </thead>\n",
              "  <tbody>\n",
              "    <tr>\n",
              "      <th>0</th>\n",
              "      <td>m1</td>\n",
              "      <td>Toy Story (1995)</td>\n",
              "    </tr>\n",
              "    <tr>\n",
              "      <th>1</th>\n",
              "      <td>m2</td>\n",
              "      <td>Jumanji (1995)</td>\n",
              "    </tr>\n",
              "    <tr>\n",
              "      <th>2</th>\n",
              "      <td>m3</td>\n",
              "      <td>Grumpier Old Men (1995)</td>\n",
              "    </tr>\n",
              "    <tr>\n",
              "      <th>3</th>\n",
              "      <td>m4</td>\n",
              "      <td>Waiting to Exhale (1995)</td>\n",
              "    </tr>\n",
              "    <tr>\n",
              "      <th>4</th>\n",
              "      <td>m5</td>\n",
              "      <td>Father of the Bride Part II (1995)</td>\n",
              "    </tr>\n",
              "    <tr>\n",
              "      <th>...</th>\n",
              "      <td>...</td>\n",
              "      <td>...</td>\n",
              "    </tr>\n",
              "    <tr>\n",
              "      <th>9737</th>\n",
              "      <td>m193581</td>\n",
              "      <td>Black Butler: Book of the Atlantic (2017)</td>\n",
              "    </tr>\n",
              "    <tr>\n",
              "      <th>9738</th>\n",
              "      <td>m193583</td>\n",
              "      <td>No Game No Life: Zero (2017)</td>\n",
              "    </tr>\n",
              "    <tr>\n",
              "      <th>9739</th>\n",
              "      <td>m193585</td>\n",
              "      <td>Flint (2017)</td>\n",
              "    </tr>\n",
              "    <tr>\n",
              "      <th>9740</th>\n",
              "      <td>m193587</td>\n",
              "      <td>Bungo Stray Dogs: Dead Apple (2018)</td>\n",
              "    </tr>\n",
              "    <tr>\n",
              "      <th>9741</th>\n",
              "      <td>m193609</td>\n",
              "      <td>Andrew Dice Clay: Dice Rules (1991)</td>\n",
              "    </tr>\n",
              "  </tbody>\n",
              "</table>\n",
              "<p>9742 rows × 2 columns</p>\n",
              "</div>"
            ]
          },
          "metadata": {
            "tags": []
          },
          "execution_count": 6
        }
      ],
      "metadata": {
        "id": "Jcve9Xpgv_E0",
        "colab": {
          "base_uri": "https://localhost:8080/",
          "height": 419
        },
        "outputId": "736129b4-26e5-4658-8f1d-3d914c2a319c"
      }
    },
    {
      "cell_type": "markdown",
      "source": [
        "- Select rows based on one or more conditions."
      ],
      "metadata": {
        "id": "sm0zU1rywGzv"
      }
    },
    {
      "cell_type": "code",
      "execution_count": 7,
      "source": [
        "ratings_df[(ratings_df['userId'] == 'u500') & (ratings_df['rating'] == 1)]"
      ],
      "outputs": [
        {
          "output_type": "execute_result",
          "data": {
            "text/plain": [
              "      userId movieId  rating   timestamp\n",
              "79908   u500     m11     1.0  1005528017\n",
              "79909   u500     m39     1.0  1005527926\n",
              "79910   u500    m101     1.0  1005527980\n",
              "79915   u500    m231     1.0  1005528039\n",
              "79923   u500    m449     1.0  1005528017\n",
              "79924   u500    m471     1.0  1005528017\n",
              "79926   u500    m539     1.0  1005527980\n",
              "79931   u500    m597     1.0  1005527980\n",
              "79934   u500    m745     1.0  1005528205\n",
              "79939   u500   m1188     1.0  1005528065\n",
              "79951   u500   m1824     1.0  1005527926\n",
              "79955   u500   m1914     1.0  1005527980\n",
              "79958   u500   m1993     1.0  1005527364\n",
              "79971   u500   m2671     1.0  1005528078\n",
              "79980   u500   m3083     1.0  1005528017\n",
              "79986   u500   m3466     1.0  1005527926\n",
              "79992   u500   m4873     1.0  1005528205"
            ],
            "text/html": [
              "<div>\n",
              "<style scoped>\n",
              "    .dataframe tbody tr th:only-of-type {\n",
              "        vertical-align: middle;\n",
              "    }\n",
              "\n",
              "    .dataframe tbody tr th {\n",
              "        vertical-align: top;\n",
              "    }\n",
              "\n",
              "    .dataframe thead th {\n",
              "        text-align: right;\n",
              "    }\n",
              "</style>\n",
              "<table border=\"1\" class=\"dataframe\">\n",
              "  <thead>\n",
              "    <tr style=\"text-align: right;\">\n",
              "      <th></th>\n",
              "      <th>userId</th>\n",
              "      <th>movieId</th>\n",
              "      <th>rating</th>\n",
              "      <th>timestamp</th>\n",
              "    </tr>\n",
              "  </thead>\n",
              "  <tbody>\n",
              "    <tr>\n",
              "      <th>79908</th>\n",
              "      <td>u500</td>\n",
              "      <td>m11</td>\n",
              "      <td>1.0</td>\n",
              "      <td>1005528017</td>\n",
              "    </tr>\n",
              "    <tr>\n",
              "      <th>79909</th>\n",
              "      <td>u500</td>\n",
              "      <td>m39</td>\n",
              "      <td>1.0</td>\n",
              "      <td>1005527926</td>\n",
              "    </tr>\n",
              "    <tr>\n",
              "      <th>79910</th>\n",
              "      <td>u500</td>\n",
              "      <td>m101</td>\n",
              "      <td>1.0</td>\n",
              "      <td>1005527980</td>\n",
              "    </tr>\n",
              "    <tr>\n",
              "      <th>79915</th>\n",
              "      <td>u500</td>\n",
              "      <td>m231</td>\n",
              "      <td>1.0</td>\n",
              "      <td>1005528039</td>\n",
              "    </tr>\n",
              "    <tr>\n",
              "      <th>79923</th>\n",
              "      <td>u500</td>\n",
              "      <td>m449</td>\n",
              "      <td>1.0</td>\n",
              "      <td>1005528017</td>\n",
              "    </tr>\n",
              "    <tr>\n",
              "      <th>79924</th>\n",
              "      <td>u500</td>\n",
              "      <td>m471</td>\n",
              "      <td>1.0</td>\n",
              "      <td>1005528017</td>\n",
              "    </tr>\n",
              "    <tr>\n",
              "      <th>79926</th>\n",
              "      <td>u500</td>\n",
              "      <td>m539</td>\n",
              "      <td>1.0</td>\n",
              "      <td>1005527980</td>\n",
              "    </tr>\n",
              "    <tr>\n",
              "      <th>79931</th>\n",
              "      <td>u500</td>\n",
              "      <td>m597</td>\n",
              "      <td>1.0</td>\n",
              "      <td>1005527980</td>\n",
              "    </tr>\n",
              "    <tr>\n",
              "      <th>79934</th>\n",
              "      <td>u500</td>\n",
              "      <td>m745</td>\n",
              "      <td>1.0</td>\n",
              "      <td>1005528205</td>\n",
              "    </tr>\n",
              "    <tr>\n",
              "      <th>79939</th>\n",
              "      <td>u500</td>\n",
              "      <td>m1188</td>\n",
              "      <td>1.0</td>\n",
              "      <td>1005528065</td>\n",
              "    </tr>\n",
              "    <tr>\n",
              "      <th>79951</th>\n",
              "      <td>u500</td>\n",
              "      <td>m1824</td>\n",
              "      <td>1.0</td>\n",
              "      <td>1005527926</td>\n",
              "    </tr>\n",
              "    <tr>\n",
              "      <th>79955</th>\n",
              "      <td>u500</td>\n",
              "      <td>m1914</td>\n",
              "      <td>1.0</td>\n",
              "      <td>1005527980</td>\n",
              "    </tr>\n",
              "    <tr>\n",
              "      <th>79958</th>\n",
              "      <td>u500</td>\n",
              "      <td>m1993</td>\n",
              "      <td>1.0</td>\n",
              "      <td>1005527364</td>\n",
              "    </tr>\n",
              "    <tr>\n",
              "      <th>79971</th>\n",
              "      <td>u500</td>\n",
              "      <td>m2671</td>\n",
              "      <td>1.0</td>\n",
              "      <td>1005528078</td>\n",
              "    </tr>\n",
              "    <tr>\n",
              "      <th>79980</th>\n",
              "      <td>u500</td>\n",
              "      <td>m3083</td>\n",
              "      <td>1.0</td>\n",
              "      <td>1005528017</td>\n",
              "    </tr>\n",
              "    <tr>\n",
              "      <th>79986</th>\n",
              "      <td>u500</td>\n",
              "      <td>m3466</td>\n",
              "      <td>1.0</td>\n",
              "      <td>1005527926</td>\n",
              "    </tr>\n",
              "    <tr>\n",
              "      <th>79992</th>\n",
              "      <td>u500</td>\n",
              "      <td>m4873</td>\n",
              "      <td>1.0</td>\n",
              "      <td>1005528205</td>\n",
              "    </tr>\n",
              "  </tbody>\n",
              "</table>\n",
              "</div>"
            ]
          },
          "metadata": {
            "tags": []
          },
          "execution_count": 7
        }
      ],
      "metadata": {
        "id": "0jnBvzK1wPE5",
        "colab": {
          "base_uri": "https://localhost:8080/",
          "height": 576
        },
        "outputId": "d59898c8-019d-49dd-cfe6-6560af79a048"
      }
    },
    {
      "cell_type": "markdown",
      "source": [
        "Let's practice a bit more with Pandas. You can also refer to the [Pandas Dataframe API documentation.](https://pandas.pydata.org/pandas-docs/stable/reference/api/pandas.DataFrame.html)\n",
        "\n",
        "Write code to answer the following questions.\n",
        "\n",
        "## Task 1. How many users are there in this dataset?"
      ],
      "metadata": {
        "id": "P8LI-cDv6cqI"
      }
    },
    {
      "cell_type": "code",
      "execution_count": 8,
      "source": [
        "ratings_df['userId'].unique().size  # Count the unique users."
      ],
      "outputs": [
        {
          "output_type": "execute_result",
          "data": {
            "text/plain": [
              "610"
            ]
          },
          "metadata": {
            "tags": []
          },
          "execution_count": 8
        }
      ],
      "metadata": {
        "id": "5uJ8vWIYyJed",
        "colab": {
          "base_uri": "https://localhost:8080/"
        },
        "outputId": "359ff99b-0e1c-412a-984d-a829d286f438"
      }
    },
    {
      "cell_type": "markdown",
      "source": [
        "## Task 2. What is the average rating of *each user*?\r\n",
        "\r\n",
        "The output should be a Pandas Series containing an average rating for each of the users.\r\n",
        "\r\n",
        "**Hint:** Use a [groupby()](https://pandas.pydata.org/pandas-docs/stable/reference/api/pandas.DataFrame.groupby.html) on the `ratings_df` dataframe (e.g., `ratings_df.groupby(['userId']).mean()['rating']`). [Aggregation](https://pandas.pydata.org/pandas-docs/stable/user_guide/groupby.html#aggregation) will also be useful."
      ],
      "metadata": {
        "id": "9RgRiMEiJBzJ"
      }
    },
    {
      "cell_type": "code",
      "execution_count": 9,
      "source": [
        "mean_user_ratings = ratings_df.groupby(['userId'])['rating'].mean()  # Group ratings by user, and then compute the mean of each user on the rating attribute of the grouped data.\r\n",
        "mean_user_ratings"
      ],
      "outputs": [
        {
          "output_type": "execute_result",
          "data": {
            "text/plain": [
              "userId\n",
              "u1      4.366379\n",
              "u10     3.278571\n",
              "u100    3.945946\n",
              "u101    3.557377\n",
              "u102    3.357143\n",
              "          ...   \n",
              "u95     4.062500\n",
              "u96     3.884615\n",
              "u97     4.194444\n",
              "u98     3.913043\n",
              "u99     3.867925\n",
              "Name: rating, Length: 610, dtype: float64"
            ]
          },
          "metadata": {
            "tags": []
          },
          "execution_count": 9
        }
      ],
      "metadata": {
        "id": "i-qEgTiEOg6Z",
        "colab": {
          "base_uri": "https://localhost:8080/"
        },
        "outputId": "a4bc884e-7800-43f2-9b4d-4ff172d08d92"
      }
    },
    {
      "cell_type": "markdown",
      "source": [
        "What are the average ratings of `userId` u10 and u200 (rounded to 2 decimal places)?"
      ],
      "metadata": {
        "id": "q6t_Tv94KiHn"
      }
    },
    {
      "cell_type": "code",
      "execution_count": 10,
      "source": [
        "print('u10:', round(mean_user_ratings.loc['u10'], 2))\r\n",
        "print('u200:', round(mean_user_ratings.loc['u200'], 2))"
      ],
      "outputs": [
        {
          "output_type": "stream",
          "name": "stdout",
          "text": [
            "u10: 3.28\n",
            "u200: 3.81\n"
          ]
        }
      ],
      "metadata": {
        "colab": {
          "base_uri": "https://localhost:8080/"
        },
        "id": "aREvjtrIJQI0",
        "outputId": "2488b8c5-7b56-4597-922f-bd0ea7903e5f"
      }
    },
    {
      "cell_type": "markdown",
      "source": [
        "## Task 3. What is the average number of ratings per-user? \r\n",
        "\r\n",
        "In contrast to Task 2, the solution is a single number (rounded to 2 decimal places).\r\n",
        "\r\n",
        "Many solutions will involve [groupby.count()](https://pandas.pydata.org/pandas-docs/stable/user_guide/groupby.html#aggregation)."
      ],
      "metadata": {
        "id": "0p0HKlOBJA21"
      }
    },
    {
      "cell_type": "code",
      "execution_count": 11,
      "source": [
        "print('{:.2f}'.format(ratings_df.groupby(['userId'])['rating'].count().mean()))"
      ],
      "outputs": [
        {
          "output_type": "stream",
          "name": "stdout",
          "text": [
            "165.30\n"
          ]
        }
      ],
      "metadata": {
        "id": "1dkaoscfyKXx",
        "colab": {
          "base_uri": "https://localhost:8080/"
        },
        "outputId": "8101837e-31aa-43bf-b4c9-8f1ae44e1a87"
      }
    },
    {
      "cell_type": "markdown",
      "source": [
        "## Analysing users's preferences\r\n",
        "\r\n",
        "Let's try something else. We can see what movies a given user has rated by \"merging\" the two dataframes - this equates to a JOIN in SQL. Lets do this for `userId` u556."
      ],
      "metadata": {
        "id": "gH2uqwgwNWu0"
      }
    },
    {
      "cell_type": "code",
      "execution_count": 12,
      "source": [
        "pd.merge(\r\n",
        "    ratings_df[ratings_df['userId'] == 'u556'],\r\n",
        "    movies_df,\r\n",
        "    on = ['movieId']\r\n",
        ").sort_values(by = 'rating', ascending = False)"
      ],
      "outputs": [
        {
          "output_type": "execute_result",
          "data": {
            "text/plain": [
              "   userId  ...                                       genres\n",
              "0    u556  ...  Adventure|Animation|Children|Comedy|Musical\n",
              "2    u556  ...                   Adventure|Children|Fantasy\n",
              "27   u556  ...                      Action|Adventure|Sci-Fi\n",
              "21   u556  ...    Adventure|Animation|Children|Fantasy|IMAX\n",
              "3    u556  ...                            Adventure|Fantasy\n",
              "4    u556  ...                            Adventure|Fantasy\n",
              "23   u556  ...  Action|Adventure|Drama|Fantasy|Mystery|IMAX\n",
              "13   u556  ...                     Action|Adventure|Fantasy\n",
              "18   u556  ...                 Action|Adventure|Sci-Fi|IMAX\n",
              "30   u556  ...                                      Fantasy\n",
              "29   u556  ...                     Action|Adventure|Fantasy\n",
              "28   u556  ...              Children|Comedy|Fantasy|Musical\n",
              "26   u556  ...                       Adventure|Fantasy|IMAX\n",
              "24   u556  ...                 Action|Adventure|Sci-Fi|IMAX\n",
              "22   u556  ...        Action|Adventure|Fantasy|Romance|IMAX\n",
              "20   u556  ...                       Adventure|Fantasy|IMAX\n",
              "31   u556  ...       Action|Adventure|Drama|Sci-Fi|Thriller\n",
              "1    u556  ...               Fantasy|Horror|Mystery|Romance\n",
              "15   u556  ...                   Adventure|Children|Fantasy\n",
              "14   u556  ...                 Adventure|Drama|Fantasy|IMAX\n",
              "12   u556  ...                       Drama|Fantasy|Thriller\n",
              "10   u556  ...              Adventure|Fantasy|Thriller|IMAX\n",
              "9    u556  ...                       Adventure|Fantasy|IMAX\n",
              "8    u556  ...               Action|Adventure|Drama|Fantasy\n",
              "7    u556  ...                        Action|Fantasy|Horror\n",
              "6    u556  ...              Action|Adventure|Comedy|Fantasy\n",
              "5    u556  ...                            Adventure|Fantasy\n",
              "17   u556  ...       Adventure|Fantasy|Mystery|Romance|IMAX\n",
              "19   u556  ...                            Adventure|Fantasy\n",
              "11   u556  ...                   Adventure|Children|Fantasy\n",
              "25   u556  ...                       Action|Adventure|Drama\n",
              "16   u556  ...               Drama|Fantasy|Romance|Thriller\n",
              "\n",
              "[32 rows x 6 columns]"
            ],
            "text/html": [
              "<div>\n",
              "<style scoped>\n",
              "    .dataframe tbody tr th:only-of-type {\n",
              "        vertical-align: middle;\n",
              "    }\n",
              "\n",
              "    .dataframe tbody tr th {\n",
              "        vertical-align: top;\n",
              "    }\n",
              "\n",
              "    .dataframe thead th {\n",
              "        text-align: right;\n",
              "    }\n",
              "</style>\n",
              "<table border=\"1\" class=\"dataframe\">\n",
              "  <thead>\n",
              "    <tr style=\"text-align: right;\">\n",
              "      <th></th>\n",
              "      <th>userId</th>\n",
              "      <th>movieId</th>\n",
              "      <th>rating</th>\n",
              "      <th>timestamp</th>\n",
              "      <th>title</th>\n",
              "      <th>genres</th>\n",
              "    </tr>\n",
              "  </thead>\n",
              "  <tbody>\n",
              "    <tr>\n",
              "      <th>0</th>\n",
              "      <td>u556</td>\n",
              "      <td>m588</td>\n",
              "      <td>5.0</td>\n",
              "      <td>1534321062</td>\n",
              "      <td>Aladdin (1992)</td>\n",
              "      <td>Adventure|Animation|Children|Comedy|Musical</td>\n",
              "    </tr>\n",
              "    <tr>\n",
              "      <th>2</th>\n",
              "      <td>u556</td>\n",
              "      <td>m4896</td>\n",
              "      <td>5.0</td>\n",
              "      <td>1534320962</td>\n",
              "      <td>Harry Potter and the Sorcerer's Stone (a.k.a. ...</td>\n",
              "      <td>Adventure|Children|Fantasy</td>\n",
              "    </tr>\n",
              "    <tr>\n",
              "      <th>27</th>\n",
              "      <td>u556</td>\n",
              "      <td>m112852</td>\n",
              "      <td>5.0</td>\n",
              "      <td>1534321287</td>\n",
              "      <td>Guardians of the Galaxy (2014)</td>\n",
              "      <td>Action|Adventure|Sci-Fi</td>\n",
              "    </tr>\n",
              "    <tr>\n",
              "      <th>21</th>\n",
              "      <td>u556</td>\n",
              "      <td>m76093</td>\n",
              "      <td>5.0</td>\n",
              "      <td>1534320965</td>\n",
              "      <td>How to Train Your Dragon (2010)</td>\n",
              "      <td>Adventure|Animation|Children|Fantasy|IMAX</td>\n",
              "    </tr>\n",
              "    <tr>\n",
              "      <th>3</th>\n",
              "      <td>u556</td>\n",
              "      <td>m4993</td>\n",
              "      <td>4.5</td>\n",
              "      <td>1534320935</td>\n",
              "      <td>Lord of the Rings: The Fellowship of the Ring,...</td>\n",
              "      <td>Adventure|Fantasy</td>\n",
              "    </tr>\n",
              "    <tr>\n",
              "      <th>4</th>\n",
              "      <td>u556</td>\n",
              "      <td>m5816</td>\n",
              "      <td>4.5</td>\n",
              "      <td>1534320982</td>\n",
              "      <td>Harry Potter and the Chamber of Secrets (2002)</td>\n",
              "      <td>Adventure|Fantasy</td>\n",
              "    </tr>\n",
              "    <tr>\n",
              "      <th>23</th>\n",
              "      <td>u556</td>\n",
              "      <td>m88125</td>\n",
              "      <td>4.5</td>\n",
              "      <td>1534320986</td>\n",
              "      <td>Harry Potter and the Deathly Hallows: Part 2 (...</td>\n",
              "      <td>Action|Adventure|Drama|Fantasy|Mystery|IMAX</td>\n",
              "    </tr>\n",
              "    <tr>\n",
              "      <th>13</th>\n",
              "      <td>u556</td>\n",
              "      <td>m49649</td>\n",
              "      <td>4.5</td>\n",
              "      <td>1534321075</td>\n",
              "      <td>Eragon (2006)</td>\n",
              "      <td>Action|Adventure|Fantasy</td>\n",
              "    </tr>\n",
              "    <tr>\n",
              "      <th>18</th>\n",
              "      <td>u556</td>\n",
              "      <td>m72998</td>\n",
              "      <td>4.0</td>\n",
              "      <td>1534321171</td>\n",
              "      <td>Avatar (2009)</td>\n",
              "      <td>Action|Adventure|Sci-Fi|IMAX</td>\n",
              "    </tr>\n",
              "    <tr>\n",
              "      <th>30</th>\n",
              "      <td>u556</td>\n",
              "      <td>m162600</td>\n",
              "      <td>4.0</td>\n",
              "      <td>1534321200</td>\n",
              "      <td>Miss Peregrine's Home for Peculiar Children (2...</td>\n",
              "      <td>Fantasy</td>\n",
              "    </tr>\n",
              "    <tr>\n",
              "      <th>29</th>\n",
              "      <td>u556</td>\n",
              "      <td>m122890</td>\n",
              "      <td>4.0</td>\n",
              "      <td>1534321026</td>\n",
              "      <td>Warcraft (2016)</td>\n",
              "      <td>Action|Adventure|Fantasy</td>\n",
              "    </tr>\n",
              "    <tr>\n",
              "      <th>28</th>\n",
              "      <td>u556</td>\n",
              "      <td>m118997</td>\n",
              "      <td>4.0</td>\n",
              "      <td>1534321209</td>\n",
              "      <td>Into the Woods (2014)</td>\n",
              "      <td>Children|Comedy|Fantasy|Musical</td>\n",
              "    </tr>\n",
              "    <tr>\n",
              "      <th>26</th>\n",
              "      <td>u556</td>\n",
              "      <td>m98809</td>\n",
              "      <td>4.0</td>\n",
              "      <td>1534320967</td>\n",
              "      <td>Hobbit: An Unexpected Journey, The (2012)</td>\n",
              "      <td>Adventure|Fantasy|IMAX</td>\n",
              "    </tr>\n",
              "    <tr>\n",
              "      <th>24</th>\n",
              "      <td>u556</td>\n",
              "      <td>m93363</td>\n",
              "      <td>4.0</td>\n",
              "      <td>1534321171</td>\n",
              "      <td>John Carter (2012)</td>\n",
              "      <td>Action|Adventure|Sci-Fi|IMAX</td>\n",
              "    </tr>\n",
              "    <tr>\n",
              "      <th>22</th>\n",
              "      <td>u556</td>\n",
              "      <td>m78105</td>\n",
              "      <td>4.0</td>\n",
              "      <td>1534321036</td>\n",
              "      <td>Prince of Persia: The Sands of Time (2010)</td>\n",
              "      <td>Action|Adventure|Fantasy|Romance|IMAX</td>\n",
              "    </tr>\n",
              "    <tr>\n",
              "      <th>20</th>\n",
              "      <td>u556</td>\n",
              "      <td>m74789</td>\n",
              "      <td>4.0</td>\n",
              "      <td>1534321017</td>\n",
              "      <td>Alice in Wonderland (2010)</td>\n",
              "      <td>Adventure|Fantasy|IMAX</td>\n",
              "    </tr>\n",
              "    <tr>\n",
              "      <th>31</th>\n",
              "      <td>u556</td>\n",
              "      <td>m187031</td>\n",
              "      <td>4.0</td>\n",
              "      <td>1534321194</td>\n",
              "      <td>Jurassic World: Fallen Kingdom (2018)</td>\n",
              "      <td>Action|Adventure|Drama|Sci-Fi|Thriller</td>\n",
              "    </tr>\n",
              "    <tr>\n",
              "      <th>1</th>\n",
              "      <td>u556</td>\n",
              "      <td>m3081</td>\n",
              "      <td>4.0</td>\n",
              "      <td>1534321047</td>\n",
              "      <td>Sleepy Hollow (1999)</td>\n",
              "      <td>Fantasy|Horror|Mystery|Romance</td>\n",
              "    </tr>\n",
              "    <tr>\n",
              "      <th>15</th>\n",
              "      <td>u556</td>\n",
              "      <td>m56171</td>\n",
              "      <td>4.0</td>\n",
              "      <td>1534321207</td>\n",
              "      <td>Golden Compass, The (2007)</td>\n",
              "      <td>Adventure|Children|Fantasy</td>\n",
              "    </tr>\n",
              "    <tr>\n",
              "      <th>14</th>\n",
              "      <td>u556</td>\n",
              "      <td>m54001</td>\n",
              "      <td>4.0</td>\n",
              "      <td>1534321024</td>\n",
              "      <td>Harry Potter and the Order of the Phoenix (2007)</td>\n",
              "      <td>Adventure|Drama|Fantasy|IMAX</td>\n",
              "    </tr>\n",
              "    <tr>\n",
              "      <th>12</th>\n",
              "      <td>u556</td>\n",
              "      <td>m48394</td>\n",
              "      <td>4.0</td>\n",
              "      <td>1534320956</td>\n",
              "      <td>Pan's Labyrinth (Laberinto del fauno, El) (2006)</td>\n",
              "      <td>Drama|Fantasy|Thriller</td>\n",
              "    </tr>\n",
              "    <tr>\n",
              "      <th>10</th>\n",
              "      <td>u556</td>\n",
              "      <td>m40815</td>\n",
              "      <td>4.0</td>\n",
              "      <td>1534321013</td>\n",
              "      <td>Harry Potter and the Goblet of Fire (2005)</td>\n",
              "      <td>Adventure|Fantasy|Thriller|IMAX</td>\n",
              "    </tr>\n",
              "    <tr>\n",
              "      <th>9</th>\n",
              "      <td>u556</td>\n",
              "      <td>m8368</td>\n",
              "      <td>4.0</td>\n",
              "      <td>1534321009</td>\n",
              "      <td>Harry Potter and the Prisoner of Azkaban (2004)</td>\n",
              "      <td>Adventure|Fantasy|IMAX</td>\n",
              "    </tr>\n",
              "    <tr>\n",
              "      <th>8</th>\n",
              "      <td>u556</td>\n",
              "      <td>m7153</td>\n",
              "      <td>4.0</td>\n",
              "      <td>1534320952</td>\n",
              "      <td>Lord of the Rings: The Return of the King, The...</td>\n",
              "      <td>Action|Adventure|Drama|Fantasy</td>\n",
              "    </tr>\n",
              "    <tr>\n",
              "      <th>7</th>\n",
              "      <td>u556</td>\n",
              "      <td>m6754</td>\n",
              "      <td>4.0</td>\n",
              "      <td>1534321199</td>\n",
              "      <td>Underworld (2003)</td>\n",
              "      <td>Action|Fantasy|Horror</td>\n",
              "    </tr>\n",
              "    <tr>\n",
              "      <th>6</th>\n",
              "      <td>u556</td>\n",
              "      <td>m6539</td>\n",
              "      <td>4.0</td>\n",
              "      <td>1534321011</td>\n",
              "      <td>Pirates of the Caribbean: The Curse of the Bla...</td>\n",
              "      <td>Action|Adventure|Comedy|Fantasy</td>\n",
              "    </tr>\n",
              "    <tr>\n",
              "      <th>5</th>\n",
              "      <td>u556</td>\n",
              "      <td>m5952</td>\n",
              "      <td>4.0</td>\n",
              "      <td>1534320953</td>\n",
              "      <td>Lord of the Rings: The Two Towers, The (2002)</td>\n",
              "      <td>Adventure|Fantasy</td>\n",
              "    </tr>\n",
              "    <tr>\n",
              "      <th>17</th>\n",
              "      <td>u556</td>\n",
              "      <td>m69844</td>\n",
              "      <td>3.5</td>\n",
              "      <td>1534320977</td>\n",
              "      <td>Harry Potter and the Half-Blood Prince (2009)</td>\n",
              "      <td>Adventure|Fantasy|Mystery|Romance|IMAX</td>\n",
              "    </tr>\n",
              "    <tr>\n",
              "      <th>19</th>\n",
              "      <td>u556</td>\n",
              "      <td>m74530</td>\n",
              "      <td>3.5</td>\n",
              "      <td>1534321044</td>\n",
              "      <td>Percy Jackson &amp; the Olympians: The Lightning T...</td>\n",
              "      <td>Adventure|Fantasy</td>\n",
              "    </tr>\n",
              "    <tr>\n",
              "      <th>11</th>\n",
              "      <td>u556</td>\n",
              "      <td>m41566</td>\n",
              "      <td>3.5</td>\n",
              "      <td>1534320971</td>\n",
              "      <td>Chronicles of Narnia: The Lion, the Witch and ...</td>\n",
              "      <td>Adventure|Children|Fantasy</td>\n",
              "    </tr>\n",
              "    <tr>\n",
              "      <th>25</th>\n",
              "      <td>u556</td>\n",
              "      <td>m94780</td>\n",
              "      <td>3.5</td>\n",
              "      <td>1534321052</td>\n",
              "      <td>Snow White and the Huntsman (2012)</td>\n",
              "      <td>Action|Adventure|Drama</td>\n",
              "    </tr>\n",
              "    <tr>\n",
              "      <th>16</th>\n",
              "      <td>u556</td>\n",
              "      <td>m63992</td>\n",
              "      <td>2.5</td>\n",
              "      <td>1534321030</td>\n",
              "      <td>Twilight (2008)</td>\n",
              "      <td>Drama|Fantasy|Romance|Thriller</td>\n",
              "    </tr>\n",
              "  </tbody>\n",
              "</table>\n",
              "</div>"
            ]
          },
          "metadata": {
            "tags": []
          },
          "execution_count": 12
        }
      ],
      "metadata": {
        "id": "M73Di67MN2Jk",
        "colab": {
          "base_uri": "https://localhost:8080/",
          "height": 1000
        },
        "outputId": "29081b8e-5040-471c-fcd2-8539fddd6737"
      }
    },
    {
      "cell_type": "markdown",
      "source": [
        "This user is pretty into adventure/fantasies. \n",
        "\n",
        "**NB:** If the columns we are joining on don't have the same name, we can specify `left_on` and `right_on` attributes. See also the [pd.merge()](https://pandas.pydata.org/pandas-docs/stable/reference/api/pandas.DataFrame.merge.html) documentation."
      ],
      "metadata": {
        "id": "B0IXWKgSOOOV"
      }
    },
    {
      "cell_type": "markdown",
      "source": [
        "## Task 4. Analysing movie categories\n",
        "\n",
        "Lets examine two particular users a bit more, u556 and u7.\n",
        "\n",
        "**Hints:**\n",
        "- Pandas Series has a useful [`str.contains()`](https://pandas.pydata.org/pandas-docs/stable/reference/api/pandas.Series.str.contains.html) function.\n",
        "- Pandas dataframes respond to `len()` as you would expect."
      ],
      "metadata": {
        "id": "kxvFO4x7_Obe"
      }
    },
    {
      "cell_type": "markdown",
      "source": [
        "**Question 1.** How many movies with \"Fantasy\" genre have u556 and u7 rated positively ($\\geq 4$)?"
      ],
      "metadata": {
        "id": "-SvnS0tJT2SR"
      }
    },
    {
      "cell_type": "code",
      "execution_count": 13,
      "source": [
        "fantasy_u556 = pd.merge(\r\n",
        "    ratings_df[(ratings_df['userId'] == 'u556') & (ratings_df['rating'] >= 4)],\r\n",
        "    movies_df[movies_df['genres'].str.contains('Fantasy', regex = False)],\r\n",
        "    on = ['movieId']\r\n",
        ")  # Merge into a data frame containing what movies with \"Fantasy\" genre u556 has rated positively.\r\n",
        "\r\n",
        "fantasy_u7 = pd.merge(\r\n",
        "    ratings_df[(ratings_df['userId'] == 'u7') & (ratings_df['rating'] >= 4)],\r\n",
        "    movies_df[movies_df['genres'].str.contains('Fantasy', regex = False)],\r\n",
        "    on = ['movieId']\r\n",
        ")  # Merge into a data frame containing what movies with \"Fantasy\" genre u7 has rated positively.\r\n",
        "\r\n",
        "n_fantasy_u556 = len(fantasy_u556)\r\n",
        "print('u556:', n_fantasy_u556)\r\n",
        "print('u7:', len(fantasy_u7))"
      ],
      "outputs": [
        {
          "output_type": "stream",
          "name": "stdout",
          "text": [
            "u556: 22\n",
            "u7: 11\n"
          ]
        }
      ],
      "metadata": {
        "id": "GYIo0HzBCfU1",
        "colab": {
          "base_uri": "https://localhost:8080/"
        },
        "outputId": "d96ea024-58af-4e70-9a97-97f25897d5e0"
      }
    },
    {
      "cell_type": "markdown",
      "source": [
        "**Question 2.** What percentage of ALL of u556's ratings are positive ratings ($\\geq 4$)  AND for movies belonging to the \"Fantasy\" genre (a decimal between 0 and 1, rounded to 2 decimal places)?"
      ],
      "metadata": {
        "id": "gfUrXLqIUGLi"
      }
    },
    {
      "cell_type": "code",
      "execution_count": 14,
      "source": [
        "round(n_fantasy_u556 / len(ratings_df[ratings_df['userId'] == 'u556']), 2)"
      ],
      "outputs": [
        {
          "output_type": "execute_result",
          "data": {
            "text/plain": [
              "0.69"
            ]
          },
          "metadata": {
            "tags": []
          },
          "execution_count": 14
        }
      ],
      "metadata": {
        "colab": {
          "base_uri": "https://localhost:8080/"
        },
        "id": "6atjPHIXUbsc",
        "outputId": "863d6860-ea04-41c5-cc2c-65c4e9423d23"
      }
    },
    {
      "cell_type": "markdown",
      "source": [
        "# Part B. Popularity-based Recomendation\n",
        "\n",
        "Now let's examine the ratings of movies. \n",
        "\n",
        "We can get a dataframe containing the number of times a movie has been rated by applying a `groupby()` and aggregation of the `ratings_df`."
      ],
      "metadata": {
        "id": "2jpHFK3LI7do"
      }
    },
    {
      "cell_type": "code",
      "execution_count": 15,
      "source": [
        "grouping_count_series = ratings_df.groupby(['movieId'])['rating'].count().rename('n_rating').sort_values(ascending = False).reset_index()\r\n",
        "grouping_count_series"
      ],
      "outputs": [
        {
          "output_type": "execute_result",
          "data": {
            "text/plain": [
              "     movieId  n_rating\n",
              "0       m356       329\n",
              "1       m318       317\n",
              "2       m296       307\n",
              "3       m593       279\n",
              "4      m2571       278\n",
              "...      ...       ...\n",
              "9719   m3403         1\n",
              "9720  m34018         1\n",
              "9721   m3400         1\n",
              "9722  m33966         1\n",
              "9723  m99992         1\n",
              "\n",
              "[9724 rows x 2 columns]"
            ],
            "text/html": [
              "<div>\n",
              "<style scoped>\n",
              "    .dataframe tbody tr th:only-of-type {\n",
              "        vertical-align: middle;\n",
              "    }\n",
              "\n",
              "    .dataframe tbody tr th {\n",
              "        vertical-align: top;\n",
              "    }\n",
              "\n",
              "    .dataframe thead th {\n",
              "        text-align: right;\n",
              "    }\n",
              "</style>\n",
              "<table border=\"1\" class=\"dataframe\">\n",
              "  <thead>\n",
              "    <tr style=\"text-align: right;\">\n",
              "      <th></th>\n",
              "      <th>movieId</th>\n",
              "      <th>n_rating</th>\n",
              "    </tr>\n",
              "  </thead>\n",
              "  <tbody>\n",
              "    <tr>\n",
              "      <th>0</th>\n",
              "      <td>m356</td>\n",
              "      <td>329</td>\n",
              "    </tr>\n",
              "    <tr>\n",
              "      <th>1</th>\n",
              "      <td>m318</td>\n",
              "      <td>317</td>\n",
              "    </tr>\n",
              "    <tr>\n",
              "      <th>2</th>\n",
              "      <td>m296</td>\n",
              "      <td>307</td>\n",
              "    </tr>\n",
              "    <tr>\n",
              "      <th>3</th>\n",
              "      <td>m593</td>\n",
              "      <td>279</td>\n",
              "    </tr>\n",
              "    <tr>\n",
              "      <th>4</th>\n",
              "      <td>m2571</td>\n",
              "      <td>278</td>\n",
              "    </tr>\n",
              "    <tr>\n",
              "      <th>...</th>\n",
              "      <td>...</td>\n",
              "      <td>...</td>\n",
              "    </tr>\n",
              "    <tr>\n",
              "      <th>9719</th>\n",
              "      <td>m3403</td>\n",
              "      <td>1</td>\n",
              "    </tr>\n",
              "    <tr>\n",
              "      <th>9720</th>\n",
              "      <td>m34018</td>\n",
              "      <td>1</td>\n",
              "    </tr>\n",
              "    <tr>\n",
              "      <th>9721</th>\n",
              "      <td>m3400</td>\n",
              "      <td>1</td>\n",
              "    </tr>\n",
              "    <tr>\n",
              "      <th>9722</th>\n",
              "      <td>m33966</td>\n",
              "      <td>1</td>\n",
              "    </tr>\n",
              "    <tr>\n",
              "      <th>9723</th>\n",
              "      <td>m99992</td>\n",
              "      <td>1</td>\n",
              "    </tr>\n",
              "  </tbody>\n",
              "</table>\n",
              "<p>9724 rows × 2 columns</p>\n",
              "</div>"
            ]
          },
          "metadata": {
            "tags": []
          },
          "execution_count": 15
        }
      ],
      "metadata": {
        "colab": {
          "base_uri": "https://localhost:8080/",
          "height": 419
        },
        "id": "QMhogBiLjSzu",
        "outputId": "ea037f51-f9c6-482b-e1bf-48513d00cc22"
      }
    },
    {
      "cell_type": "markdown",
      "source": [
        "## Task 5. Plotting the distribution of movie ratings\n",
        "\n",
        "Use Matplotlib's histogram function to plot the distribution of movie ratings from the `grouping_count_series` dataframe. This will produce a bar chart with 'binned' counts.\n",
        "\n",
        "**Hints:**\n",
        "\n",
        "- Apply a logarithmic scale for the y-axis, using matplotlib's `log = True` option.\n",
        "- Allow matplotlib to use its default number of bins (which is 10).\n",
        "- Matplotlib has a [`savefig()`](https://chartio.com/resources/tutorials/how-to-save-a-plot-to-a-file-using-matplotlib/#the-savefig-method) function for saving a PNG of a figure.\n",
        "\n",
        "You will need to analyse this graph in the quiz."
      ],
      "metadata": {
        "id": "ak38W5u1jkgu"
      }
    },
    {
      "cell_type": "code",
      "execution_count": 16,
      "source": [
        "plt.hist(grouping_count_series['n_rating'], log = True)\r\n",
        "plt.title('Distribution of movie ratings')\r\n",
        "plt.xlabel('The number of ratings')\r\n",
        "plt.ylabel('The number of movies (log)')\r\n",
        "# plt.savefig('task5.png')\r\n",
        "plt.show()"
      ],
      "outputs": [
        {
          "output_type": "display_data",
          "data": {
            "text/plain": [
              "<Figure size 432x288 with 1 Axes>"
            ],
            "image/png": "[encoded data removed]"
          },
          "metadata": {
            "tags": [],
            "needs_background": "light"
          }
        }
      ],
      "metadata": {
        "id": "aBISjUn7jgSy",
        "colab": {
          "base_uri": "https://localhost:8080/",
          "height": 295
        },
        "outputId": "9c44a81a-4aef-4e74-8462-17c2f184c155"
      }
    },
    {
      "cell_type": "markdown",
      "source": [
        "## Task 6. Finding the names of *all* of the movies that have the highest *average* ratings\n",
        "\n",
        "You should return a dataframe containing the IDs and names of the movies, their average ratings, and the number of ratings.\n",
        "\n",
        "**NB:** You may need to analyse this dataframe further to answer the questions in the quiz.\n",
        "\n",
        "**Hints:**\n",
        "\n",
        "- Try a [groupby()](https://pandas.pydata.org/pandas-docs/stable/reference/api/pandas.DataFrame.groupby.html). Once you have a Series with columns [`movieId`, `meanRating`], identify the highest value of `meanRating`. You can then merge this with the `movies_df`.\n",
        "- If the column we are trying to merge on is an index, we can use  `left_index = True` or `right_index = True` in the [pd.merge()](https://pandas.pydata.org/pandas-docs/stable/reference/api/pandas.merge.html)."
      ],
      "metadata": {
        "id": "mN9DjXtHAt0A"
      }
    },
    {
      "cell_type": "code",
      "execution_count": 17,
      "source": [
        "mean_movie_ratings = ratings_df.groupby(['movieId'])['rating'].mean().rename('mean_rating')  # Get a Series containing mean movie ratings.\r\n",
        "\r\n",
        "# First, merge into a dataframe containing corresponding mean ratings and the number of ratings.\r\n",
        "# Then, merge into a dataframe to include corresponding titles and genres.\r\n",
        "movie_ratings = pd.merge(\r\n",
        "    mean_movie_ratings[mean_movie_ratings == mean_movie_ratings.max()],  # Keep the highest mean ratings.\r\n",
        "    grouping_count_series,\r\n",
        "    on = ['movieId']\r\n",
        ").merge(\r\n",
        "    movies_df,\r\n",
        "    on = ['movieId'],\r\n",
        "    right_index = True\r\n",
        ")\r\n",
        "\r\n",
        "movie_ratings"
      ],
      "outputs": [
        {
          "output_type": "execute_result",
          "data": {
            "text/plain": [
              "     movieId  ...                                genres\n",
              "0    m100556  ...                           Documentary\n",
              "1    m100906  ...                Action|Horror|Thriller\n",
              "2    m102084  ...              Action|Animation|Fantasy\n",
              "3    m102217  ...                                Comedy\n",
              "4    m103602  ...                    Comedy|Documentary\n",
              "..       ...  ...                                   ...\n",
              "291   m96608  ...               Animation|Comedy|Sci-Fi\n",
              "292   m96832  ...  Drama|Fantasy|Musical|Mystery|Sci-Fi\n",
              "293   m96935  ...                Comedy|Fantasy|Romance\n",
              "294      m99  ...                           Documentary\n",
              "295   m99636  ...                          Comedy|Drama\n",
              "\n",
              "[296 rows x 5 columns]"
            ],
            "text/html": [
              "<div>\n",
              "<style scoped>\n",
              "    .dataframe tbody tr th:only-of-type {\n",
              "        vertical-align: middle;\n",
              "    }\n",
              "\n",
              "    .dataframe tbody tr th {\n",
              "        vertical-align: top;\n",
              "    }\n",
              "\n",
              "    .dataframe thead th {\n",
              "        text-align: right;\n",
              "    }\n",
              "</style>\n",
              "<table border=\"1\" class=\"dataframe\">\n",
              "  <thead>\n",
              "    <tr style=\"text-align: right;\">\n",
              "      <th></th>\n",
              "      <th>movieId</th>\n",
              "      <th>mean_rating</th>\n",
              "      <th>n_rating</th>\n",
              "      <th>title</th>\n",
              "      <th>genres</th>\n",
              "    </tr>\n",
              "  </thead>\n",
              "  <tbody>\n",
              "    <tr>\n",
              "      <th>0</th>\n",
              "      <td>m100556</td>\n",
              "      <td>5.0</td>\n",
              "      <td>1</td>\n",
              "      <td>Act of Killing, The (2012)</td>\n",
              "      <td>Documentary</td>\n",
              "    </tr>\n",
              "    <tr>\n",
              "      <th>1</th>\n",
              "      <td>m100906</td>\n",
              "      <td>5.0</td>\n",
              "      <td>1</td>\n",
              "      <td>Maniac Cop 2 (1990)</td>\n",
              "      <td>Action|Horror|Thriller</td>\n",
              "    </tr>\n",
              "    <tr>\n",
              "      <th>2</th>\n",
              "      <td>m102084</td>\n",
              "      <td>5.0</td>\n",
              "      <td>1</td>\n",
              "      <td>Justice League: Doom (2012)</td>\n",
              "      <td>Action|Animation|Fantasy</td>\n",
              "    </tr>\n",
              "    <tr>\n",
              "      <th>3</th>\n",
              "      <td>m102217</td>\n",
              "      <td>5.0</td>\n",
              "      <td>1</td>\n",
              "      <td>Bill Hicks: Revelations (1993)</td>\n",
              "      <td>Comedy</td>\n",
              "    </tr>\n",
              "    <tr>\n",
              "      <th>4</th>\n",
              "      <td>m103602</td>\n",
              "      <td>5.0</td>\n",
              "      <td>1</td>\n",
              "      <td>Craig Ferguson: I'm Here To Help (2013)</td>\n",
              "      <td>Comedy|Documentary</td>\n",
              "    </tr>\n",
              "    <tr>\n",
              "      <th>...</th>\n",
              "      <td>...</td>\n",
              "      <td>...</td>\n",
              "      <td>...</td>\n",
              "      <td>...</td>\n",
              "      <td>...</td>\n",
              "    </tr>\n",
              "    <tr>\n",
              "      <th>291</th>\n",
              "      <td>m96608</td>\n",
              "      <td>5.0</td>\n",
              "      <td>1</td>\n",
              "      <td>Runaway Brain (1995)</td>\n",
              "      <td>Animation|Comedy|Sci-Fi</td>\n",
              "    </tr>\n",
              "    <tr>\n",
              "      <th>292</th>\n",
              "      <td>m96832</td>\n",
              "      <td>5.0</td>\n",
              "      <td>1</td>\n",
              "      <td>Holy Motors (2012)</td>\n",
              "      <td>Drama|Fantasy|Musical|Mystery|Sci-Fi</td>\n",
              "    </tr>\n",
              "    <tr>\n",
              "      <th>293</th>\n",
              "      <td>m96935</td>\n",
              "      <td>5.0</td>\n",
              "      <td>1</td>\n",
              "      <td>My Left Eye Sees Ghosts (Ngo joh aan gin diy g...</td>\n",
              "      <td>Comedy|Fantasy|Romance</td>\n",
              "    </tr>\n",
              "    <tr>\n",
              "      <th>294</th>\n",
              "      <td>m99</td>\n",
              "      <td>5.0</td>\n",
              "      <td>2</td>\n",
              "      <td>Heidi Fleiss: Hollywood Madam (1995)</td>\n",
              "      <td>Documentary</td>\n",
              "    </tr>\n",
              "    <tr>\n",
              "      <th>295</th>\n",
              "      <td>m99636</td>\n",
              "      <td>5.0</td>\n",
              "      <td>1</td>\n",
              "      <td>English Vinglish (2012)</td>\n",
              "      <td>Comedy|Drama</td>\n",
              "    </tr>\n",
              "  </tbody>\n",
              "</table>\n",
              "<p>296 rows × 5 columns</p>\n",
              "</div>"
            ]
          },
          "metadata": {
            "tags": []
          },
          "execution_count": 17
        }
      ],
      "metadata": {
        "id": "rI5u8pIuOkmp",
        "colab": {
          "base_uri": "https://localhost:8080/",
          "height": 419
        },
        "outputId": "c6a18db3-e4e3-436a-fecc-03982f358c67"
      }
    },
    {
      "cell_type": "markdown",
      "source": [
        "How many users have rated the movie with `movieId` m6442?"
      ],
      "metadata": {
        "id": "TmRzCDf9iL9t"
      }
    },
    {
      "cell_type": "code",
      "execution_count": 18,
      "source": [
        "movie_ratings[movie_ratings['movieId'] == 'm6442']"
      ],
      "outputs": [
        {
          "output_type": "execute_result",
          "data": {
            "text/plain": [
              "    movieId  mean_rating  n_rating                title          genres\n",
              "236   m6442          5.0         2  Belle époque (1992)  Comedy|Romance"
            ],
            "text/html": [
              "<div>\n",
              "<style scoped>\n",
              "    .dataframe tbody tr th:only-of-type {\n",
              "        vertical-align: middle;\n",
              "    }\n",
              "\n",
              "    .dataframe tbody tr th {\n",
              "        vertical-align: top;\n",
              "    }\n",
              "\n",
              "    .dataframe thead th {\n",
              "        text-align: right;\n",
              "    }\n",
              "</style>\n",
              "<table border=\"1\" class=\"dataframe\">\n",
              "  <thead>\n",
              "    <tr style=\"text-align: right;\">\n",
              "      <th></th>\n",
              "      <th>movieId</th>\n",
              "      <th>mean_rating</th>\n",
              "      <th>n_rating</th>\n",
              "      <th>title</th>\n",
              "      <th>genres</th>\n",
              "    </tr>\n",
              "  </thead>\n",
              "  <tbody>\n",
              "    <tr>\n",
              "      <th>236</th>\n",
              "      <td>m6442</td>\n",
              "      <td>5.0</td>\n",
              "      <td>2</td>\n",
              "      <td>Belle époque (1992)</td>\n",
              "      <td>Comedy|Romance</td>\n",
              "    </tr>\n",
              "  </tbody>\n",
              "</table>\n",
              "</div>"
            ]
          },
          "metadata": {
            "tags": []
          },
          "execution_count": 18
        }
      ],
      "metadata": {
        "colab": {
          "base_uri": "https://localhost:8080/",
          "height": 80
        },
        "id": "Ph0QtDbWRT62",
        "outputId": "f6f8dd08-ca96-4630-a1f1-71de6fee8acb"
      }
    },
    {
      "cell_type": "markdown",
      "source": [
        "# Part C - Association Rules and Lift\n",
        "\n",
        "I think we can do better than simply examining movie popularity. Let's take all of the positive ratings (4 or 5), and find the most popular pairs of movies that users have watched. There is a lot going on there, so please take the time to break it down to understand what it does.\n",
        "\n",
        "**NB:** In this code, we perform a \"self-join\" on a dataframe. If this is unfamiliar, you can read more at:\n",
        "\n",
        " - https://dfrieds.com/data-analysis/self-join-python-pandas.html\n",
        " - https://www.w3schools.com/sql/sql_join_self.asp"
      ],
      "metadata": {
        "id": "8ryQHGrwyqp8"
      }
    },
    {
      "cell_type": "code",
      "execution_count": 19,
      "source": [
        "positives = ratings_df[ratings_df['rating'] >= 4]\r\n",
        "pairs = pd.merge(positives, positives, on = ['userId'])  # Join positives with itself on userId to get all pairs of movies watched by a given user.\r\n",
        "sequences = pairs[pairs['timestamp_x'] < pairs['timestamp_y']]  # We only want x->y, but not y->x. Use the timestamps to restrict the selected pairs.\r\n",
        "pair_counts = sequences.groupby(['movieId_x', 'movieId_y'])['userId'].count().rename('pair_count')  # Count the frequency of each movie pairs.\r\n",
        "pairs_with_counts = pair_counts.reset_index().sort_values(['pair_count'], ascending = False)  # Sort by the most popular pairs.\r\n",
        "pairs_with_counts"
      ],
      "outputs": [
        {
          "output_type": "execute_result",
          "data": {
            "text/plain": [
              "        movieId_x movieId_y  pair_count\n",
              "1574483      m318      m356         104\n",
              "1416644      m296      m593          92\n",
              "1416033      m296       m47          91\n",
              "1187221      m260     m1196          91\n",
              "1575263      m318      m527          90\n",
              "...           ...       ...         ...\n",
              "1358088      m288      m302           1\n",
              "1358089      m288     m3020           1\n",
              "1358091      m288     m3030           1\n",
              "1358092      m288     m3033           1\n",
              "3533035      m999      m969           1\n",
              "\n",
              "[3533036 rows x 3 columns]"
            ],
            "text/html": [
              "<div>\n",
              "<style scoped>\n",
              "    .dataframe tbody tr th:only-of-type {\n",
              "        vertical-align: middle;\n",
              "    }\n",
              "\n",
              "    .dataframe tbody tr th {\n",
              "        vertical-align: top;\n",
              "    }\n",
              "\n",
              "    .dataframe thead th {\n",
              "        text-align: right;\n",
              "    }\n",
              "</style>\n",
              "<table border=\"1\" class=\"dataframe\">\n",
              "  <thead>\n",
              "    <tr style=\"text-align: right;\">\n",
              "      <th></th>\n",
              "      <th>movieId_x</th>\n",
              "      <th>movieId_y</th>\n",
              "      <th>pair_count</th>\n",
              "    </tr>\n",
              "  </thead>\n",
              "  <tbody>\n",
              "    <tr>\n",
              "      <th>1574483</th>\n",
              "      <td>m318</td>\n",
              "      <td>m356</td>\n",
              "      <td>104</td>\n",
              "    </tr>\n",
              "    <tr>\n",
              "      <th>1416644</th>\n",
              "      <td>m296</td>\n",
              "      <td>m593</td>\n",
              "      <td>92</td>\n",
              "    </tr>\n",
              "    <tr>\n",
              "      <th>1416033</th>\n",
              "      <td>m296</td>\n",
              "      <td>m47</td>\n",
              "      <td>91</td>\n",
              "    </tr>\n",
              "    <tr>\n",
              "      <th>1187221</th>\n",
              "      <td>m260</td>\n",
              "      <td>m1196</td>\n",
              "      <td>91</td>\n",
              "    </tr>\n",
              "    <tr>\n",
              "      <th>1575263</th>\n",
              "      <td>m318</td>\n",
              "      <td>m527</td>\n",
              "      <td>90</td>\n",
              "    </tr>\n",
              "    <tr>\n",
              "      <th>...</th>\n",
              "      <td>...</td>\n",
              "      <td>...</td>\n",
              "      <td>...</td>\n",
              "    </tr>\n",
              "    <tr>\n",
              "      <th>1358088</th>\n",
              "      <td>m288</td>\n",
              "      <td>m302</td>\n",
              "      <td>1</td>\n",
              "    </tr>\n",
              "    <tr>\n",
              "      <th>1358089</th>\n",
              "      <td>m288</td>\n",
              "      <td>m3020</td>\n",
              "      <td>1</td>\n",
              "    </tr>\n",
              "    <tr>\n",
              "      <th>1358091</th>\n",
              "      <td>m288</td>\n",
              "      <td>m3030</td>\n",
              "      <td>1</td>\n",
              "    </tr>\n",
              "    <tr>\n",
              "      <th>1358092</th>\n",
              "      <td>m288</td>\n",
              "      <td>m3033</td>\n",
              "      <td>1</td>\n",
              "    </tr>\n",
              "    <tr>\n",
              "      <th>3533035</th>\n",
              "      <td>m999</td>\n",
              "      <td>m969</td>\n",
              "      <td>1</td>\n",
              "    </tr>\n",
              "  </tbody>\n",
              "</table>\n",
              "<p>3533036 rows × 3 columns</p>\n",
              "</div>"
            ]
          },
          "metadata": {
            "tags": []
          },
          "execution_count": 19
        }
      ],
      "metadata": {
        "colab": {
          "base_uri": "https://localhost:8080/",
          "height": 419
        },
        "id": "HqVP3mZfZ_hT",
        "outputId": "e79a3722-f452-437c-f9e0-d4b77b4f6f56"
      }
    },
    {
      "cell_type": "markdown",
      "source": [
        "## Task 7. Displaying the titles of the (most popular) movie pairs\n",
        "\n",
        "You will need to analyse this dataframe to complete questions in the quiz.\n",
        "\n",
        "**Hint:** You will need to re-sort after a pd.merge()."
      ],
      "metadata": {
        "id": "ThACu3UfzjgB"
      }
    },
    {
      "cell_type": "code",
      "execution_count": 20,
      "source": [
        "# First, merge into a dataframe containing corresponding movie titles and genres for x.\r\n",
        "# Then, merge into a dataframe to include corresponding movie titles and genres for y.\r\n",
        "pairs_metadata = pd.merge(\r\n",
        "    pairs_with_counts,\r\n",
        "    movies_df.add_suffix('_x'),\r\n",
        "    how = 'left',  # Preserve the descending order by the number of pairs.\r\n",
        "    on = ['movieId_x']\r\n",
        ").merge(\r\n",
        "    movies_df.add_suffix('_y'),\r\n",
        "    how = 'left',\r\n",
        "    on = ['movieId_y']\r\n",
        ")\r\n",
        "\r\n",
        "pairs_metadata"
      ],
      "outputs": [
        {
          "output_type": "execute_result",
          "data": {
            "text/plain": [
              "        movieId_x  ...                      genres_y\n",
              "0            m318  ...      Comedy|Drama|Romance|War\n",
              "1            m296  ...         Crime|Horror|Thriller\n",
              "2            m296  ...              Mystery|Thriller\n",
              "3            m260  ...       Action|Adventure|Sci-Fi\n",
              "4            m318  ...                     Drama|War\n",
              "...           ...  ...                           ...\n",
              "3533031      m288  ...                 Drama|Romance\n",
              "3533032      m288  ...                  Action|Drama\n",
              "3533033      m288  ...              Action|Adventure\n",
              "3533034      m288  ...                 Comedy|Sci-Fi\n",
              "3533035      m999  ...  Adventure|Comedy|Romance|War\n",
              "\n",
              "[3533036 rows x 7 columns]"
            ],
            "text/html": [
              "<div>\n",
              "<style scoped>\n",
              "    .dataframe tbody tr th:only-of-type {\n",
              "        vertical-align: middle;\n",
              "    }\n",
              "\n",
              "    .dataframe tbody tr th {\n",
              "        vertical-align: top;\n",
              "    }\n",
              "\n",
              "    .dataframe thead th {\n",
              "        text-align: right;\n",
              "    }\n",
              "</style>\n",
              "<table border=\"1\" class=\"dataframe\">\n",
              "  <thead>\n",
              "    <tr style=\"text-align: right;\">\n",
              "      <th></th>\n",
              "      <th>movieId_x</th>\n",
              "      <th>movieId_y</th>\n",
              "      <th>pair_count</th>\n",
              "      <th>title_x</th>\n",
              "      <th>genres_x</th>\n",
              "      <th>title_y</th>\n",
              "      <th>genres_y</th>\n",
              "    </tr>\n",
              "  </thead>\n",
              "  <tbody>\n",
              "    <tr>\n",
              "      <th>0</th>\n",
              "      <td>m318</td>\n",
              "      <td>m356</td>\n",
              "      <td>104</td>\n",
              "      <td>Shawshank Redemption, The (1994)</td>\n",
              "      <td>Crime|Drama</td>\n",
              "      <td>Forrest Gump (1994)</td>\n",
              "      <td>Comedy|Drama|Romance|War</td>\n",
              "    </tr>\n",
              "    <tr>\n",
              "      <th>1</th>\n",
              "      <td>m296</td>\n",
              "      <td>m593</td>\n",
              "      <td>92</td>\n",
              "      <td>Pulp Fiction (1994)</td>\n",
              "      <td>Comedy|Crime|Drama|Thriller</td>\n",
              "      <td>Silence of the Lambs, The (1991)</td>\n",
              "      <td>Crime|Horror|Thriller</td>\n",
              "    </tr>\n",
              "    <tr>\n",
              "      <th>2</th>\n",
              "      <td>m296</td>\n",
              "      <td>m47</td>\n",
              "      <td>91</td>\n",
              "      <td>Pulp Fiction (1994)</td>\n",
              "      <td>Comedy|Crime|Drama|Thriller</td>\n",
              "      <td>Seven (a.k.a. Se7en) (1995)</td>\n",
              "      <td>Mystery|Thriller</td>\n",
              "    </tr>\n",
              "    <tr>\n",
              "      <th>3</th>\n",
              "      <td>m260</td>\n",
              "      <td>m1196</td>\n",
              "      <td>91</td>\n",
              "      <td>Star Wars: Episode IV - A New Hope (1977)</td>\n",
              "      <td>Action|Adventure|Sci-Fi</td>\n",
              "      <td>Star Wars: Episode V - The Empire Strikes Back...</td>\n",
              "      <td>Action|Adventure|Sci-Fi</td>\n",
              "    </tr>\n",
              "    <tr>\n",
              "      <th>4</th>\n",
              "      <td>m318</td>\n",
              "      <td>m527</td>\n",
              "      <td>90</td>\n",
              "      <td>Shawshank Redemption, The (1994)</td>\n",
              "      <td>Crime|Drama</td>\n",
              "      <td>Schindler's List (1993)</td>\n",
              "      <td>Drama|War</td>\n",
              "    </tr>\n",
              "    <tr>\n",
              "      <th>...</th>\n",
              "      <td>...</td>\n",
              "      <td>...</td>\n",
              "      <td>...</td>\n",
              "      <td>...</td>\n",
              "      <td>...</td>\n",
              "      <td>...</td>\n",
              "      <td>...</td>\n",
              "    </tr>\n",
              "    <tr>\n",
              "      <th>3533031</th>\n",
              "      <td>m288</td>\n",
              "      <td>m302</td>\n",
              "      <td>1</td>\n",
              "      <td>Natural Born Killers (1994)</td>\n",
              "      <td>Action|Crime|Thriller</td>\n",
              "      <td>Queen Margot (Reine Margot, La) (1994)</td>\n",
              "      <td>Drama|Romance</td>\n",
              "    </tr>\n",
              "    <tr>\n",
              "      <th>3533032</th>\n",
              "      <td>m288</td>\n",
              "      <td>m3020</td>\n",
              "      <td>1</td>\n",
              "      <td>Natural Born Killers (1994)</td>\n",
              "      <td>Action|Crime|Thriller</td>\n",
              "      <td>Falling Down (1993)</td>\n",
              "      <td>Action|Drama</td>\n",
              "    </tr>\n",
              "    <tr>\n",
              "      <th>3533033</th>\n",
              "      <td>m288</td>\n",
              "      <td>m3030</td>\n",
              "      <td>1</td>\n",
              "      <td>Natural Born Killers (1994)</td>\n",
              "      <td>Action|Crime|Thriller</td>\n",
              "      <td>Yojimbo (1961)</td>\n",
              "      <td>Action|Adventure</td>\n",
              "    </tr>\n",
              "    <tr>\n",
              "      <th>3533034</th>\n",
              "      <td>m288</td>\n",
              "      <td>m3033</td>\n",
              "      <td>1</td>\n",
              "      <td>Natural Born Killers (1994)</td>\n",
              "      <td>Action|Crime|Thriller</td>\n",
              "      <td>Spaceballs (1987)</td>\n",
              "      <td>Comedy|Sci-Fi</td>\n",
              "    </tr>\n",
              "    <tr>\n",
              "      <th>3533035</th>\n",
              "      <td>m999</td>\n",
              "      <td>m969</td>\n",
              "      <td>1</td>\n",
              "      <td>2 Days in the Valley (1996)</td>\n",
              "      <td>Crime|Film-Noir</td>\n",
              "      <td>African Queen, The (1951)</td>\n",
              "      <td>Adventure|Comedy|Romance|War</td>\n",
              "    </tr>\n",
              "  </tbody>\n",
              "</table>\n",
              "<p>3533036 rows × 7 columns</p>\n",
              "</div>"
            ]
          },
          "metadata": {
            "tags": []
          },
          "execution_count": 20
        }
      ],
      "metadata": {
        "id": "C9v9s87kO1Vq",
        "colab": {
          "base_uri": "https://localhost:8080/",
          "height": 419
        },
        "outputId": "20aab46c-dcf0-4353-9216-152a25db6aed"
      }
    },
    {
      "cell_type": "markdown",
      "source": [
        "What is the `movieId_x` of the movie pair with pair count frequency 74?"
      ],
      "metadata": {
        "id": "9q1Q5sjyS7gr"
      }
    },
    {
      "cell_type": "code",
      "execution_count": 21,
      "source": [
        "pairs_metadata[pairs_metadata['pair_count'] == 74]"
      ],
      "outputs": [
        {
          "output_type": "execute_result",
          "data": {
            "text/plain": [
              "   movieId_x movieId_y  ...                         title_y     genres_y\n",
              "17      m858     m1221  ...  Godfather: Part II, The (1974)  Crime|Drama\n",
              "\n",
              "[1 rows x 7 columns]"
            ],
            "text/html": [
              "<div>\n",
              "<style scoped>\n",
              "    .dataframe tbody tr th:only-of-type {\n",
              "        vertical-align: middle;\n",
              "    }\n",
              "\n",
              "    .dataframe tbody tr th {\n",
              "        vertical-align: top;\n",
              "    }\n",
              "\n",
              "    .dataframe thead th {\n",
              "        text-align: right;\n",
              "    }\n",
              "</style>\n",
              "<table border=\"1\" class=\"dataframe\">\n",
              "  <thead>\n",
              "    <tr style=\"text-align: right;\">\n",
              "      <th></th>\n",
              "      <th>movieId_x</th>\n",
              "      <th>movieId_y</th>\n",
              "      <th>pair_count</th>\n",
              "      <th>title_x</th>\n",
              "      <th>genres_x</th>\n",
              "      <th>title_y</th>\n",
              "      <th>genres_y</th>\n",
              "    </tr>\n",
              "  </thead>\n",
              "  <tbody>\n",
              "    <tr>\n",
              "      <th>17</th>\n",
              "      <td>m858</td>\n",
              "      <td>m1221</td>\n",
              "      <td>74</td>\n",
              "      <td>Godfather, The (1972)</td>\n",
              "      <td>Crime|Drama</td>\n",
              "      <td>Godfather: Part II, The (1974)</td>\n",
              "      <td>Crime|Drama</td>\n",
              "    </tr>\n",
              "  </tbody>\n",
              "</table>\n",
              "</div>"
            ]
          },
          "metadata": {
            "tags": []
          },
          "execution_count": 21
        }
      ],
      "metadata": {
        "colab": {
          "base_uri": "https://localhost:8080/",
          "height": 80
        },
        "id": "NejhrphkS7Hc",
        "outputId": "8af720d9-5030-43ae-9d5e-fc20f9cf6e3f"
      }
    },
    {
      "cell_type": "markdown",
      "source": [
        "## Task 8. Calculating Lift (see Lecture 3) for all pairs\n",
        "\n",
        "Your target dataframe should have columns: \n",
        "- `movieId_x` and `movieId_y`\n",
        "- `pair_count` - count of movies x & y occurring in a profile\t\n",
        "- `n_count_x` and `n_count_y` - how many times these movies appeared in total.\n",
        "- `lift`\t- your calculated lift for x->y.\n",
        "- `title_x`, `title_y`, `genres_x`, and `genres_y` - metadata about the films, so you know if you have success. \n",
        "\n",
        "**Hints:**\n",
        "\n",
        "- You will need to join top pairs with a dataframe containing rating counts of individual movies. A calculated column will be needed. See https://pandas.pydata.org/docs/getting_started/intro_tutorials/05_add_columns.html or https://stackoverflow.com/a/12377083/9989050 for hints on how to achieve that.\n",
        "- The example solution has duplicated columns using this trick https://stackoverflow.com/a/40435354/9989050 to get rid of them.\n",
        "- It might be useful to [sort](https://pandas.pydata.org/pandas-docs/stable/reference/api/pandas.DataFrame.sort_values.html) your dataframe."
      ],
      "metadata": {
        "id": "_0tOm--0ByR6"
      }
    },
    {
      "cell_type": "code",
      "execution_count": 22,
      "source": [
        "positives_count = positives.groupby(['movieId'])['rating'].count().rename('n_rating').reset_index()  # A dataframe containing the number of positive ratings for each movie\r\n",
        "\r\n",
        "# First, merge into a dataframe containing the corresponding number of positive ratings for x.\r\n",
        "# Then, merge into a dataframe to include the corresponding number of positive ratings for y.\r\n",
        "pairs_info = pd.merge(\r\n",
        "    pairs_metadata,\r\n",
        "    positives_count.add_suffix('_x'),\r\n",
        "    on = ['movieId_x']\r\n",
        ").merge(\r\n",
        "    positives_count.add_suffix('_y'),\r\n",
        "    on = ['movieId_y']\r\n",
        ")\r\n",
        "\r\n",
        "pairs_info['lift'] = pairs_info['pair_count'] * len(positives) / (pairs_info['n_rating_x'] * pairs_info['n_rating_y'])  # Lift = Support{x, y} / (Support{x} * Support{y}) = ... = pair_count * n_positive_ratings / (n_rating_x * n_rating_y)\r\n",
        "pairs_info.sort_values('lift', ascending = False, inplace = True)  # Sort by the highest lifts.\r\n",
        "pairs_info"
      ],
      "outputs": [
        {
          "output_type": "execute_result",
          "data": {
            "text/plain": [
              "        movieId_x movieId_y  pair_count  ... n_rating_x n_rating_y          lift\n",
              "3533035   m130490   m114265           1  ...          1          1  48580.000000\n",
              "2977681    m97168   m148424           1  ...          1          1  48580.000000\n",
              "2977683    m42176   m148424           1  ...          1          1  48580.000000\n",
              "2977684    m97860   m148424           1  ...          1          1  48580.000000\n",
              "2977685    m97904   m148424           1  ...          1          1  48580.000000\n",
              "...           ...       ...         ...  ...        ...        ...           ...\n",
              "10931        m329      m296           1  ...         42        244      4.740437\n",
              "1189641     m2959      m349           1  ...        179         58      4.679253\n",
              "3114755    m80463      m318           1  ...         38        274      4.665770\n",
              "15624        m454     m2571           1  ...         48        222      4.558934\n",
              "3114607      m253      m318           1  ...         52        274      3.409601\n",
              "\n",
              "[3533036 rows x 10 columns]"
            ],
            "text/html": [
              "<div>\n",
              "<style scoped>\n",
              "    .dataframe tbody tr th:only-of-type {\n",
              "        vertical-align: middle;\n",
              "    }\n",
              "\n",
              "    .dataframe tbody tr th {\n",
              "        vertical-align: top;\n",
              "    }\n",
              "\n",
              "    .dataframe thead th {\n",
              "        text-align: right;\n",
              "    }\n",
              "</style>\n",
              "<table border=\"1\" class=\"dataframe\">\n",
              "  <thead>\n",
              "    <tr style=\"text-align: right;\">\n",
              "      <th></th>\n",
              "      <th>movieId_x</th>\n",
              "      <th>movieId_y</th>\n",
              "      <th>pair_count</th>\n",
              "      <th>title_x</th>\n",
              "      <th>genres_x</th>\n",
              "      <th>title_y</th>\n",
              "      <th>genres_y</th>\n",
              "      <th>n_rating_x</th>\n",
              "      <th>n_rating_y</th>\n",
              "      <th>lift</th>\n",
              "    </tr>\n",
              "  </thead>\n",
              "  <tbody>\n",
              "    <tr>\n",
              "      <th>3533035</th>\n",
              "      <td>m130490</td>\n",
              "      <td>m114265</td>\n",
              "      <td>1</td>\n",
              "      <td>Insurgent (2015)</td>\n",
              "      <td>Action|Sci-Fi|Thriller</td>\n",
              "      <td>Laggies (2014)</td>\n",
              "      <td>Comedy|Romance</td>\n",
              "      <td>1</td>\n",
              "      <td>1</td>\n",
              "      <td>48580.000000</td>\n",
              "    </tr>\n",
              "    <tr>\n",
              "      <th>2977681</th>\n",
              "      <td>m97168</td>\n",
              "      <td>m148424</td>\n",
              "      <td>1</td>\n",
              "      <td>Marley (2012)</td>\n",
              "      <td>Documentary</td>\n",
              "      <td>Chi-Raq (2015)</td>\n",
              "      <td>Comedy|Drama</td>\n",
              "      <td>1</td>\n",
              "      <td>1</td>\n",
              "      <td>48580.000000</td>\n",
              "    </tr>\n",
              "    <tr>\n",
              "      <th>2977683</th>\n",
              "      <td>m42176</td>\n",
              "      <td>m148424</td>\n",
              "      <td>1</td>\n",
              "      <td>Ear, The (Ucho) (1970)</td>\n",
              "      <td>Drama|Thriller</td>\n",
              "      <td>Chi-Raq (2015)</td>\n",
              "      <td>Comedy|Drama</td>\n",
              "      <td>1</td>\n",
              "      <td>1</td>\n",
              "      <td>48580.000000</td>\n",
              "    </tr>\n",
              "    <tr>\n",
              "      <th>2977684</th>\n",
              "      <td>m97860</td>\n",
              "      <td>m148424</td>\n",
              "      <td>1</td>\n",
              "      <td>Killing Them Softly (2012)</td>\n",
              "      <td>Crime|Drama|Thriller</td>\n",
              "      <td>Chi-Raq (2015)</td>\n",
              "      <td>Comedy|Drama</td>\n",
              "      <td>1</td>\n",
              "      <td>1</td>\n",
              "      <td>48580.000000</td>\n",
              "    </tr>\n",
              "    <tr>\n",
              "      <th>2977685</th>\n",
              "      <td>m97904</td>\n",
              "      <td>m148424</td>\n",
              "      <td>1</td>\n",
              "      <td>Smashed (2012)</td>\n",
              "      <td>Comedy|Drama</td>\n",
              "      <td>Chi-Raq (2015)</td>\n",
              "      <td>Comedy|Drama</td>\n",
              "      <td>1</td>\n",
              "      <td>1</td>\n",
              "      <td>48580.000000</td>\n",
              "    </tr>\n",
              "    <tr>\n",
              "      <th>...</th>\n",
              "      <td>...</td>\n",
              "      <td>...</td>\n",
              "      <td>...</td>\n",
              "      <td>...</td>\n",
              "      <td>...</td>\n",
              "      <td>...</td>\n",
              "      <td>...</td>\n",
              "      <td>...</td>\n",
              "      <td>...</td>\n",
              "      <td>...</td>\n",
              "    </tr>\n",
              "    <tr>\n",
              "      <th>10931</th>\n",
              "      <td>m329</td>\n",
              "      <td>m296</td>\n",
              "      <td>1</td>\n",
              "      <td>Star Trek: Generations (1994)</td>\n",
              "      <td>Adventure|Drama|Sci-Fi</td>\n",
              "      <td>Pulp Fiction (1994)</td>\n",
              "      <td>Comedy|Crime|Drama|Thriller</td>\n",
              "      <td>42</td>\n",
              "      <td>244</td>\n",
              "      <td>4.740437</td>\n",
              "    </tr>\n",
              "    <tr>\n",
              "      <th>1189641</th>\n",
              "      <td>m2959</td>\n",
              "      <td>m349</td>\n",
              "      <td>1</td>\n",
              "      <td>Fight Club (1999)</td>\n",
              "      <td>Action|Crime|Drama|Thriller</td>\n",
              "      <td>Clear and Present Danger (1994)</td>\n",
              "      <td>Action|Crime|Drama|Thriller</td>\n",
              "      <td>179</td>\n",
              "      <td>58</td>\n",
              "      <td>4.679253</td>\n",
              "    </tr>\n",
              "    <tr>\n",
              "      <th>3114755</th>\n",
              "      <td>m80463</td>\n",
              "      <td>m318</td>\n",
              "      <td>1</td>\n",
              "      <td>Social Network, The (2010)</td>\n",
              "      <td>Drama</td>\n",
              "      <td>Shawshank Redemption, The (1994)</td>\n",
              "      <td>Crime|Drama</td>\n",
              "      <td>38</td>\n",
              "      <td>274</td>\n",
              "      <td>4.665770</td>\n",
              "    </tr>\n",
              "    <tr>\n",
              "      <th>15624</th>\n",
              "      <td>m454</td>\n",
              "      <td>m2571</td>\n",
              "      <td>1</td>\n",
              "      <td>Firm, The (1993)</td>\n",
              "      <td>Drama|Thriller</td>\n",
              "      <td>Matrix, The (1999)</td>\n",
              "      <td>Action|Sci-Fi|Thriller</td>\n",
              "      <td>48</td>\n",
              "      <td>222</td>\n",
              "      <td>4.558934</td>\n",
              "    </tr>\n",
              "    <tr>\n",
              "      <th>3114607</th>\n",
              "      <td>m253</td>\n",
              "      <td>m318</td>\n",
              "      <td>1</td>\n",
              "      <td>Interview with the Vampire: The Vampire Chroni...</td>\n",
              "      <td>Drama|Horror</td>\n",
              "      <td>Shawshank Redemption, The (1994)</td>\n",
              "      <td>Crime|Drama</td>\n",
              "      <td>52</td>\n",
              "      <td>274</td>\n",
              "      <td>3.409601</td>\n",
              "    </tr>\n",
              "  </tbody>\n",
              "</table>\n",
              "<p>3533036 rows × 10 columns</p>\n",
              "</div>"
            ]
          },
          "metadata": {
            "tags": []
          },
          "execution_count": 22
        }
      ],
      "metadata": {
        "colab": {
          "base_uri": "https://localhost:8080/",
          "height": 419
        },
        "id": "fYo352jlotJg",
        "outputId": "16627d6e-e7b3-42af-e14e-20c2398f0609"
      }
    },
    {
      "cell_type": "markdown",
      "source": [
        "If your solution is correct, you will see the highest lift movie pairs. \n",
        "Let's check them - do the highest lift movies pairs make sense? e.g. \"Pink Panther, The (2006)\" (Adventure|Comedy|Crime) with\t\"For Richer or Poorer (1997)\" (Comedy). \n",
        "\n",
        "It should be clear that these lift pairs do not have high support."
      ],
      "metadata": {
        "id": "j86C6mX9JyE_"
      }
    },
    {
      "cell_type": "code",
      "execution_count": 23,
      "source": [
        "pairs_info[pairs_info['title_x'] == 'Pink Panther, The (2006)'].head(1)"
      ],
      "outputs": [
        {
          "output_type": "execute_result",
          "data": {
            "text/plain": [
              "        movieId_x movieId_y  pair_count  ... n_rating_x n_rating_y     lift\n",
              "3533020    m43836     m1703           1  ...          1          1  48580.0\n",
              "\n",
              "[1 rows x 10 columns]"
            ],
            "text/html": [
              "<div>\n",
              "<style scoped>\n",
              "    .dataframe tbody tr th:only-of-type {\n",
              "        vertical-align: middle;\n",
              "    }\n",
              "\n",
              "    .dataframe tbody tr th {\n",
              "        vertical-align: top;\n",
              "    }\n",
              "\n",
              "    .dataframe thead th {\n",
              "        text-align: right;\n",
              "    }\n",
              "</style>\n",
              "<table border=\"1\" class=\"dataframe\">\n",
              "  <thead>\n",
              "    <tr style=\"text-align: right;\">\n",
              "      <th></th>\n",
              "      <th>movieId_x</th>\n",
              "      <th>movieId_y</th>\n",
              "      <th>pair_count</th>\n",
              "      <th>title_x</th>\n",
              "      <th>genres_x</th>\n",
              "      <th>title_y</th>\n",
              "      <th>genres_y</th>\n",
              "      <th>n_rating_x</th>\n",
              "      <th>n_rating_y</th>\n",
              "      <th>lift</th>\n",
              "    </tr>\n",
              "  </thead>\n",
              "  <tbody>\n",
              "    <tr>\n",
              "      <th>3533020</th>\n",
              "      <td>m43836</td>\n",
              "      <td>m1703</td>\n",
              "      <td>1</td>\n",
              "      <td>Pink Panther, The (2006)</td>\n",
              "      <td>Adventure|Comedy|Crime</td>\n",
              "      <td>For Richer or Poorer (1997)</td>\n",
              "      <td>Comedy</td>\n",
              "      <td>1</td>\n",
              "      <td>1</td>\n",
              "      <td>48580.0</td>\n",
              "    </tr>\n",
              "  </tbody>\n",
              "</table>\n",
              "</div>"
            ]
          },
          "metadata": {
            "tags": []
          },
          "execution_count": 23
        }
      ],
      "metadata": {
        "colab": {
          "base_uri": "https://localhost:8080/",
          "height": 80
        },
        "id": "YTvhmvetGxFH",
        "outputId": "71aeaf66-6002-4f7a-ebfb-abf6f5a88809"
      }
    },
    {
      "cell_type": "markdown",
      "source": [
        "What is the lift of the pair `movieId_x` = m1475, `movieId_y` = m2024?"
      ],
      "metadata": {
        "id": "iDV3sUgCUR35"
      }
    },
    {
      "cell_type": "code",
      "execution_count": 24,
      "source": [
        "pairs_info[(pairs_info['movieId_x'] == 'm1475') & (pairs_info['movieId_y'] == 'm2024')]"
      ],
      "outputs": [
        {
          "output_type": "execute_result",
          "data": {
            "text/plain": [
              "        movieId_x movieId_y  pair_count  ... n_rating_x n_rating_y     lift\n",
              "3197677     m1475     m2024           1  ...          1          1  48580.0\n",
              "\n",
              "[1 rows x 10 columns]"
            ],
            "text/html": [
              "<div>\n",
              "<style scoped>\n",
              "    .dataframe tbody tr th:only-of-type {\n",
              "        vertical-align: middle;\n",
              "    }\n",
              "\n",
              "    .dataframe tbody tr th {\n",
              "        vertical-align: top;\n",
              "    }\n",
              "\n",
              "    .dataframe thead th {\n",
              "        text-align: right;\n",
              "    }\n",
              "</style>\n",
              "<table border=\"1\" class=\"dataframe\">\n",
              "  <thead>\n",
              "    <tr style=\"text-align: right;\">\n",
              "      <th></th>\n",
              "      <th>movieId_x</th>\n",
              "      <th>movieId_y</th>\n",
              "      <th>pair_count</th>\n",
              "      <th>title_x</th>\n",
              "      <th>genres_x</th>\n",
              "      <th>title_y</th>\n",
              "      <th>genres_y</th>\n",
              "      <th>n_rating_x</th>\n",
              "      <th>n_rating_y</th>\n",
              "      <th>lift</th>\n",
              "    </tr>\n",
              "  </thead>\n",
              "  <tbody>\n",
              "    <tr>\n",
              "      <th>3197677</th>\n",
              "      <td>m1475</td>\n",
              "      <td>m2024</td>\n",
              "      <td>1</td>\n",
              "      <td>Kama Sutra: A Tale of Love (1996)</td>\n",
              "      <td>Romance</td>\n",
              "      <td>Rapture, The (1991)</td>\n",
              "      <td>Drama|Mystery</td>\n",
              "      <td>1</td>\n",
              "      <td>1</td>\n",
              "      <td>48580.0</td>\n",
              "    </tr>\n",
              "  </tbody>\n",
              "</table>\n",
              "</div>"
            ]
          },
          "metadata": {
            "tags": []
          },
          "execution_count": 24
        }
      ],
      "metadata": {
        "colab": {
          "base_uri": "https://localhost:8080/",
          "height": 80
        },
        "id": "fDAYBeW7UReH",
        "outputId": "13fdca3d-6da1-4955-c188-26350094c756"
      }
    },
    {
      "cell_type": "markdown",
      "source": [
        "What is the lift of the pair `movieId_x` = m91500, `movieId_y` = m106487?"
      ],
      "metadata": {
        "id": "RJIB2-R_URUB"
      }
    },
    {
      "cell_type": "code",
      "execution_count": 25,
      "source": [
        "pairs_info[(pairs_info['movieId_x'] == 'm91500') & (pairs_info['movieId_y'] == 'm106487')]"
      ],
      "outputs": [
        {
          "output_type": "execute_result",
          "data": {
            "text/plain": [
              "        movieId_x movieId_y  pair_count  ... n_rating_x n_rating_y         lift\n",
              "1066027    m91500   m106487          10  ...         24         14  1445.833333\n",
              "\n",
              "[1 rows x 10 columns]"
            ],
            "text/html": [
              "<div>\n",
              "<style scoped>\n",
              "    .dataframe tbody tr th:only-of-type {\n",
              "        vertical-align: middle;\n",
              "    }\n",
              "\n",
              "    .dataframe tbody tr th {\n",
              "        vertical-align: top;\n",
              "    }\n",
              "\n",
              "    .dataframe thead th {\n",
              "        text-align: right;\n",
              "    }\n",
              "</style>\n",
              "<table border=\"1\" class=\"dataframe\">\n",
              "  <thead>\n",
              "    <tr style=\"text-align: right;\">\n",
              "      <th></th>\n",
              "      <th>movieId_x</th>\n",
              "      <th>movieId_y</th>\n",
              "      <th>pair_count</th>\n",
              "      <th>title_x</th>\n",
              "      <th>genres_x</th>\n",
              "      <th>title_y</th>\n",
              "      <th>genres_y</th>\n",
              "      <th>n_rating_x</th>\n",
              "      <th>n_rating_y</th>\n",
              "      <th>lift</th>\n",
              "    </tr>\n",
              "  </thead>\n",
              "  <tbody>\n",
              "    <tr>\n",
              "      <th>1066027</th>\n",
              "      <td>m91500</td>\n",
              "      <td>m106487</td>\n",
              "      <td>10</td>\n",
              "      <td>The Hunger Games (2012)</td>\n",
              "      <td>Action|Adventure|Drama|Sci-Fi|Thriller</td>\n",
              "      <td>The Hunger Games: Catching Fire (2013)</td>\n",
              "      <td>Action|Adventure|Sci-Fi|IMAX</td>\n",
              "      <td>24</td>\n",
              "      <td>14</td>\n",
              "      <td>1445.833333</td>\n",
              "    </tr>\n",
              "  </tbody>\n",
              "</table>\n",
              "</div>"
            ]
          },
          "metadata": {
            "tags": []
          },
          "execution_count": 25
        }
      ],
      "metadata": {
        "colab": {
          "base_uri": "https://localhost:8080/",
          "height": 80
        },
        "id": "8YGXrjxEUvq4",
        "outputId": "b5e78c3c-0293-4822-82a5-a93de7293e89"
      }
    },
    {
      "cell_type": "markdown",
      "source": [
        "## Task 9 - Support Thresholds\n",
        "\n",
        "Removing movie pairs with support count $< 10$.\n",
        "\n",
        "If you solution is correct, you will get the \"The Hunger Games (2012)\" paired with \"The Hunger Games: Mockingjay - Part 1 (2014)\" as the movie pair with the highest lift. This seems a good pairing! \n",
        "\n",
        "So in essence, we can use lift to identify highly co-occurring movie pairs without resorting to any collaborative notions.\n",
        "\n",
        "Keep this dataframe around - you will need it to answer the questions for Task 9 in the quiz."
      ],
      "metadata": {
        "id": "syNMZ-gULEvI"
      }
    },
    {
      "cell_type": "code",
      "execution_count": 26,
      "source": [
        "kept_pairs_info = pairs_info[pairs_info['pair_count'] >= 10]\r\n",
        "kept_pairs_info"
      ],
      "outputs": [
        {
          "output_type": "execute_result",
          "data": {
            "text/plain": [
              "        movieId_x movieId_y  pair_count  ... n_rating_x n_rating_y         lift\n",
              "1081108    m91500   m116823          11  ...         24         15  1484.388889\n",
              "1066027    m91500   m106487          10  ...         24         14  1445.833333\n",
              "595541    m115713   m139385          10  ...         20         19  1278.421053\n",
              "768413     m91658    m67255          10  ...         24         19  1065.350877\n",
              "892673     m34162     m8807          10  ...         25         19  1022.736842\n",
              "...           ...       ...         ...  ...        ...        ...          ...\n",
              "15372        m457     m2571          13  ...        137        222    20.764779\n",
              "3114555     m1206      m318          10  ...         86        274    20.616194\n",
              "3114543      m364      m318          13  ...        115        274    20.042526\n",
              "10758        m457      m296          13  ...        137        244    18.892545\n",
              "6052         m364      m593          10  ...        115        225    18.774879\n",
              "\n",
              "[29132 rows x 10 columns]"
            ],
            "text/html": [
              "<div>\n",
              "<style scoped>\n",
              "    .dataframe tbody tr th:only-of-type {\n",
              "        vertical-align: middle;\n",
              "    }\n",
              "\n",
              "    .dataframe tbody tr th {\n",
              "        vertical-align: top;\n",
              "    }\n",
              "\n",
              "    .dataframe thead th {\n",
              "        text-align: right;\n",
              "    }\n",
              "</style>\n",
              "<table border=\"1\" class=\"dataframe\">\n",
              "  <thead>\n",
              "    <tr style=\"text-align: right;\">\n",
              "      <th></th>\n",
              "      <th>movieId_x</th>\n",
              "      <th>movieId_y</th>\n",
              "      <th>pair_count</th>\n",
              "      <th>title_x</th>\n",
              "      <th>genres_x</th>\n",
              "      <th>title_y</th>\n",
              "      <th>genres_y</th>\n",
              "      <th>n_rating_x</th>\n",
              "      <th>n_rating_y</th>\n",
              "      <th>lift</th>\n",
              "    </tr>\n",
              "  </thead>\n",
              "  <tbody>\n",
              "    <tr>\n",
              "      <th>1081108</th>\n",
              "      <td>m91500</td>\n",
              "      <td>m116823</td>\n",
              "      <td>11</td>\n",
              "      <td>The Hunger Games (2012)</td>\n",
              "      <td>Action|Adventure|Drama|Sci-Fi|Thriller</td>\n",
              "      <td>The Hunger Games: Mockingjay - Part 1 (2014)</td>\n",
              "      <td>Adventure|Sci-Fi|Thriller</td>\n",
              "      <td>24</td>\n",
              "      <td>15</td>\n",
              "      <td>1484.388889</td>\n",
              "    </tr>\n",
              "    <tr>\n",
              "      <th>1066027</th>\n",
              "      <td>m91500</td>\n",
              "      <td>m106487</td>\n",
              "      <td>10</td>\n",
              "      <td>The Hunger Games (2012)</td>\n",
              "      <td>Action|Adventure|Drama|Sci-Fi|Thriller</td>\n",
              "      <td>The Hunger Games: Catching Fire (2013)</td>\n",
              "      <td>Action|Adventure|Sci-Fi|IMAX</td>\n",
              "      <td>24</td>\n",
              "      <td>14</td>\n",
              "      <td>1445.833333</td>\n",
              "    </tr>\n",
              "    <tr>\n",
              "      <th>595541</th>\n",
              "      <td>m115713</td>\n",
              "      <td>m139385</td>\n",
              "      <td>10</td>\n",
              "      <td>Ex Machina (2015)</td>\n",
              "      <td>Drama|Sci-Fi|Thriller</td>\n",
              "      <td>The Revenant (2015)</td>\n",
              "      <td>Adventure|Drama</td>\n",
              "      <td>20</td>\n",
              "      <td>19</td>\n",
              "      <td>1278.421053</td>\n",
              "    </tr>\n",
              "    <tr>\n",
              "      <th>768413</th>\n",
              "      <td>m91658</td>\n",
              "      <td>m67255</td>\n",
              "      <td>10</td>\n",
              "      <td>Girl with the Dragon Tattoo, The (2011)</td>\n",
              "      <td>Drama|Thriller</td>\n",
              "      <td>Girl with the Dragon Tattoo, The (Män som hata...</td>\n",
              "      <td>Crime|Drama|Mystery|Thriller</td>\n",
              "      <td>24</td>\n",
              "      <td>19</td>\n",
              "      <td>1065.350877</td>\n",
              "    </tr>\n",
              "    <tr>\n",
              "      <th>892673</th>\n",
              "      <td>m34162</td>\n",
              "      <td>m8807</td>\n",
              "      <td>10</td>\n",
              "      <td>Wedding Crashers (2005)</td>\n",
              "      <td>Comedy|Romance</td>\n",
              "      <td>Harold and Kumar Go to White Castle (2004)</td>\n",
              "      <td>Adventure|Comedy</td>\n",
              "      <td>25</td>\n",
              "      <td>19</td>\n",
              "      <td>1022.736842</td>\n",
              "    </tr>\n",
              "    <tr>\n",
              "      <th>...</th>\n",
              "      <td>...</td>\n",
              "      <td>...</td>\n",
              "      <td>...</td>\n",
              "      <td>...</td>\n",
              "      <td>...</td>\n",
              "      <td>...</td>\n",
              "      <td>...</td>\n",
              "      <td>...</td>\n",
              "      <td>...</td>\n",
              "      <td>...</td>\n",
              "    </tr>\n",
              "    <tr>\n",
              "      <th>15372</th>\n",
              "      <td>m457</td>\n",
              "      <td>m2571</td>\n",
              "      <td>13</td>\n",
              "      <td>Fugitive, The (1993)</td>\n",
              "      <td>Thriller</td>\n",
              "      <td>Matrix, The (1999)</td>\n",
              "      <td>Action|Sci-Fi|Thriller</td>\n",
              "      <td>137</td>\n",
              "      <td>222</td>\n",
              "      <td>20.764779</td>\n",
              "    </tr>\n",
              "    <tr>\n",
              "      <th>3114555</th>\n",
              "      <td>m1206</td>\n",
              "      <td>m318</td>\n",
              "      <td>10</td>\n",
              "      <td>Clockwork Orange, A (1971)</td>\n",
              "      <td>Crime|Drama|Sci-Fi|Thriller</td>\n",
              "      <td>Shawshank Redemption, The (1994)</td>\n",
              "      <td>Crime|Drama</td>\n",
              "      <td>86</td>\n",
              "      <td>274</td>\n",
              "      <td>20.616194</td>\n",
              "    </tr>\n",
              "    <tr>\n",
              "      <th>3114543</th>\n",
              "      <td>m364</td>\n",
              "      <td>m318</td>\n",
              "      <td>13</td>\n",
              "      <td>Lion King, The (1994)</td>\n",
              "      <td>Adventure|Animation|Children|Drama|Musical|IMAX</td>\n",
              "      <td>Shawshank Redemption, The (1994)</td>\n",
              "      <td>Crime|Drama</td>\n",
              "      <td>115</td>\n",
              "      <td>274</td>\n",
              "      <td>20.042526</td>\n",
              "    </tr>\n",
              "    <tr>\n",
              "      <th>10758</th>\n",
              "      <td>m457</td>\n",
              "      <td>m296</td>\n",
              "      <td>13</td>\n",
              "      <td>Fugitive, The (1993)</td>\n",
              "      <td>Thriller</td>\n",
              "      <td>Pulp Fiction (1994)</td>\n",
              "      <td>Comedy|Crime|Drama|Thriller</td>\n",
              "      <td>137</td>\n",
              "      <td>244</td>\n",
              "      <td>18.892545</td>\n",
              "    </tr>\n",
              "    <tr>\n",
              "      <th>6052</th>\n",
              "      <td>m364</td>\n",
              "      <td>m593</td>\n",
              "      <td>10</td>\n",
              "      <td>Lion King, The (1994)</td>\n",
              "      <td>Adventure|Animation|Children|Drama|Musical|IMAX</td>\n",
              "      <td>Silence of the Lambs, The (1991)</td>\n",
              "      <td>Crime|Horror|Thriller</td>\n",
              "      <td>115</td>\n",
              "      <td>225</td>\n",
              "      <td>18.774879</td>\n",
              "    </tr>\n",
              "  </tbody>\n",
              "</table>\n",
              "<p>29132 rows × 10 columns</p>\n",
              "</div>"
            ]
          },
          "metadata": {
            "tags": []
          },
          "execution_count": 26
        }
      ],
      "metadata": {
        "id": "Ol1oyIVYyGv9",
        "colab": {
          "base_uri": "https://localhost:8080/",
          "height": 419
        },
        "outputId": "ae1fd924-cb90-4292-bcf1-e9d927d90337"
      }
    },
    {
      "cell_type": "markdown",
      "source": [
        "If a user watches m110, what `movieId` would you recommend they watch?"
      ],
      "metadata": {
        "id": "dzQ7jFrdVvNI"
      }
    },
    {
      "cell_type": "code",
      "execution_count": 27,
      "source": [
        "kept_pairs_info[kept_pairs_info['movieId_x'] == 'm110'].head(1)"
      ],
      "outputs": [
        {
          "output_type": "execute_result",
          "data": {
            "text/plain": [
              "        movieId_x movieId_y  pair_count  ... n_rating_x n_rating_y        lift\n",
              "1260796      m110     m2403          12  ...        166         14  250.843373\n",
              "\n",
              "[1 rows x 10 columns]"
            ],
            "text/html": [
              "<div>\n",
              "<style scoped>\n",
              "    .dataframe tbody tr th:only-of-type {\n",
              "        vertical-align: middle;\n",
              "    }\n",
              "\n",
              "    .dataframe tbody tr th {\n",
              "        vertical-align: top;\n",
              "    }\n",
              "\n",
              "    .dataframe thead th {\n",
              "        text-align: right;\n",
              "    }\n",
              "</style>\n",
              "<table border=\"1\" class=\"dataframe\">\n",
              "  <thead>\n",
              "    <tr style=\"text-align: right;\">\n",
              "      <th></th>\n",
              "      <th>movieId_x</th>\n",
              "      <th>movieId_y</th>\n",
              "      <th>pair_count</th>\n",
              "      <th>title_x</th>\n",
              "      <th>genres_x</th>\n",
              "      <th>title_y</th>\n",
              "      <th>genres_y</th>\n",
              "      <th>n_rating_x</th>\n",
              "      <th>n_rating_y</th>\n",
              "      <th>lift</th>\n",
              "    </tr>\n",
              "  </thead>\n",
              "  <tbody>\n",
              "    <tr>\n",
              "      <th>1260796</th>\n",
              "      <td>m110</td>\n",
              "      <td>m2403</td>\n",
              "      <td>12</td>\n",
              "      <td>Braveheart (1995)</td>\n",
              "      <td>Action|Drama|War</td>\n",
              "      <td>First Blood (Rambo: First Blood) (1982)</td>\n",
              "      <td>Action|Adventure|Drama|Thriller</td>\n",
              "      <td>166</td>\n",
              "      <td>14</td>\n",
              "      <td>250.843373</td>\n",
              "    </tr>\n",
              "  </tbody>\n",
              "</table>\n",
              "</div>"
            ]
          },
          "metadata": {
            "tags": []
          },
          "execution_count": 27
        }
      ],
      "metadata": {
        "colab": {
          "base_uri": "https://localhost:8080/",
          "height": 80
        },
        "id": "KQICtrdTV0-Q",
        "outputId": "58acbca3-de63-4a2e-a80d-4e3023e90c6d"
      }
    },
    {
      "cell_type": "markdown",
      "source": [
        "If the user watches m364, what is the Lift score associated with watching m362?"
      ],
      "metadata": {
        "id": "uj6I-jZYV1Rd"
      }
    },
    {
      "cell_type": "code",
      "execution_count": 28,
      "source": [
        "kept_pairs_info[(kept_pairs_info['movieId_x'] == 'm364') & (kept_pairs_info['movieId_y'] == 'm362')]"
      ],
      "outputs": [
        {
          "output_type": "execute_result",
          "data": {
            "text/plain": [
              "       movieId_x movieId_y  pair_count  ... n_rating_x n_rating_y        lift\n",
              "962511      m364      m362          10  ...        115         17  248.491049\n",
              "\n",
              "[1 rows x 10 columns]"
            ],
            "text/html": [
              "<div>\n",
              "<style scoped>\n",
              "    .dataframe tbody tr th:only-of-type {\n",
              "        vertical-align: middle;\n",
              "    }\n",
              "\n",
              "    .dataframe tbody tr th {\n",
              "        vertical-align: top;\n",
              "    }\n",
              "\n",
              "    .dataframe thead th {\n",
              "        text-align: right;\n",
              "    }\n",
              "</style>\n",
              "<table border=\"1\" class=\"dataframe\">\n",
              "  <thead>\n",
              "    <tr style=\"text-align: right;\">\n",
              "      <th></th>\n",
              "      <th>movieId_x</th>\n",
              "      <th>movieId_y</th>\n",
              "      <th>pair_count</th>\n",
              "      <th>title_x</th>\n",
              "      <th>genres_x</th>\n",
              "      <th>title_y</th>\n",
              "      <th>genres_y</th>\n",
              "      <th>n_rating_x</th>\n",
              "      <th>n_rating_y</th>\n",
              "      <th>lift</th>\n",
              "    </tr>\n",
              "  </thead>\n",
              "  <tbody>\n",
              "    <tr>\n",
              "      <th>962511</th>\n",
              "      <td>m364</td>\n",
              "      <td>m362</td>\n",
              "      <td>10</td>\n",
              "      <td>Lion King, The (1994)</td>\n",
              "      <td>Adventure|Animation|Children|Drama|Musical|IMAX</td>\n",
              "      <td>Jungle Book, The (1994)</td>\n",
              "      <td>Adventure|Children|Romance</td>\n",
              "      <td>115</td>\n",
              "      <td>17</td>\n",
              "      <td>248.491049</td>\n",
              "    </tr>\n",
              "  </tbody>\n",
              "</table>\n",
              "</div>"
            ]
          },
          "metadata": {
            "tags": []
          },
          "execution_count": 28
        }
      ],
      "metadata": {
        "colab": {
          "base_uri": "https://localhost:8080/",
          "height": 80
        },
        "id": "w1juwMC0WC8U",
        "outputId": "151db16d-5474-440a-9aff-958430f2458c"
      }
    },
    {
      "cell_type": "markdown",
      "source": [
        "# End of Exercise\n",
        "\n",
        "As part of your submission, you should complete the Exercise 1 quiz on Moodle.\n",
        "You will need to upload your notebook, complete with the **results** of executing the code."
      ],
      "metadata": {
        "id": "xpuW7oZcFU_G"
      }
    }
  ]
}