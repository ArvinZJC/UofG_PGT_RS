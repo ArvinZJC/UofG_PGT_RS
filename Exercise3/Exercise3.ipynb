{
  "nbformat": 4,
  "nbformat_minor": 0,
  "metadata": {
    "colab": {
      "name": "Exercise3.ipynb",
      "provenance": [],
      "collapsed_sections": [],
      "toc_visible": true
    },
    "kernelspec": {
      "name": "python3",
      "display_name": "Python 3"
    }
  },
  "cells": [
    {
      "cell_type": "markdown",
      "metadata": {
        "id": "THQFNe3zdt1f"
      },
      "source": [
        "# RecSys M 2021 - Exercise 3\n",
        "\n",
        "The aims of this exercise are:\n",
        "- Explore a different recommendation dataset\n",
        "- Develop and evaluate baseline recommender systems\n",
        "- Implement hybrid recommender models\n",
        "- Explore diversification issues in recommender systems\n",
        "- Revise other material from the lectures.\n",
        "\n",
        "As usual, there is a corresponding Quiz on Moodle for this Exercise, which should be answered as you proceed. For more details, see the Exercise 3 specification."
      ]
    },
    {
      "cell_type": "markdown",
      "metadata": {
        "id": "iDElx43v2fH9"
      },
      "source": [
        "# Part-Pre. Preparation"
      ]
    },
    {
      "cell_type": "markdown",
      "metadata": {
        "id": "Ww--_kl9-ndn"
      },
      "source": [
        "## Pre 1. Setup Block\n",
        "\n",
        "This exercise will use the Goodreads dataset for books. These blocks setup the data files, Python etc."
      ]
    },
    {
      "cell_type": "code",
      "metadata": {
        "id": "iFgYpbhh0tkX",
        "colab": {
          "base_uri": "https://localhost:8080/"
        },
        "outputId": "bb7b9525-3c3f-4450-d152-cd201159f854"
      },
      "source": [
        "!rm -rf ratings* books* to_read* test*\n",
        "\n",
        "!curl -o ratings.csv http://www.dcs.gla.ac.uk/~craigm/recsysH/coursework/final-ratings.csv\n",
        "!curl -o books.csv http://www.dcs.gla.ac.uk/~craigm/recsysH/coursework/final-books.csv\n",
        "!curl -o to_read.csv http://www.dcs.gla.ac.uk/~craigm/recsysH/coursework/final-to_read.csv\n",
        "!curl -o test.csv http://www.dcs.gla.ac.uk/~craigm/recsysH/coursework/final-test.csv"
      ],
      "execution_count": 1,
      "outputs": [
        {
          "output_type": "stream",
          "text": [
            "  % Total    % Received % Xferd  Average Speed   Time    Time     Time  Current\n",
            "                                 Dload  Upload   Total   Spent    Left  Speed\n",
            "100 7631k  100 7631k    0     0  4140k      0  0:00:01  0:00:01 --:--:-- 4138k\n",
            "  % Total    % Received % Xferd  Average Speed   Time    Time     Time  Current\n",
            "                                 Dload  Upload   Total   Spent    Left  Speed\n",
            "100 2366k  100 2366k    0     0  1823k      0  0:00:01  0:00:01 --:--:-- 1823k\n",
            "  % Total    % Received % Xferd  Average Speed   Time    Time     Time  Current\n",
            "                                 Dload  Upload   Total   Spent    Left  Speed\n",
            "100 7581k  100 7581k    0     0  4759k      0  0:00:01  0:00:01 --:--:-- 4756k\n",
            "  % Total    % Received % Xferd  Average Speed   Time    Time     Time  Current\n",
            "                                 Dload  Upload   Total   Spent    Left  Speed\n",
            "100 1895k  100 1895k    0     0  1234k      0  0:00:01  0:00:01 --:--:-- 1234k\n"
          ],
          "name": "stdout"
        }
      ]
    },
    {
      "cell_type": "markdown",
      "metadata": {
        "id": "c6IJuTWxObaC"
      },
      "source": [
        "We're going to use the Spotlight library in this exercise - see https://github.com/maciejkula/spotlight - and its documentation at https://maciejkula.github.io/spotlight/. You can install this direct from Git, but using Craig's patched version as done below."
      ]
    },
    {
      "cell_type": "code",
      "metadata": {
        "colab": {
          "base_uri": "https://localhost:8080/"
        },
        "id": "DO820mYTOSYc",
        "outputId": "352525a5-c6fe-46f3-9a35-49a9a8fc1dc4"
      },
      "source": [
        "!pip install git+https://github.com/cmacdonald/spotlight.git@master#egg=spotlight"
      ],
      "execution_count": 2,
      "outputs": [
        {
          "output_type": "stream",
          "text": [
            "Collecting spotlight\n",
            "  Cloning https://github.com/cmacdonald/spotlight.git (to revision master) to /tmp/pip-install-w0vtc1i4/spotlight_de28b3d494744e59bc813d2052a19aad\n",
            "  Running command git clone -q https://github.com/cmacdonald/spotlight.git /tmp/pip-install-w0vtc1i4/spotlight_de28b3d494744e59bc813d2052a19aad\n",
            "Requirement already satisfied: torch>=0.4.0 in /usr/local/lib/python3.7/dist-packages (from spotlight) (1.9.0+cu102)\n",
            "Requirement already satisfied: typing-extensions in /usr/local/lib/python3.7/dist-packages (from torch>=0.4.0->spotlight) (3.7.4.3)\n"
          ],
          "name": "stdout"
        }
      ]
    },
    {
      "cell_type": "code",
      "metadata": {
        "id": "1VpVnNrZ1EiX"
      },
      "source": [
        "# Import modules.\n",
        "from collections import defaultdict\n",
        "from itertools import count\n",
        "from typing import Sequence, Tuple\n",
        "\n",
        "from scipy.stats import rankdata\n",
        "from sklearn.preprocessing import minmax_scale\n",
        "from spotlight.cross_validation import random_train_test_split\n",
        "from spotlight.evaluation import mrr_score, precision_recall_score\n",
        "from spotlight.factorization.explicit import ExplicitFactorizationModel\n",
        "from spotlight.factorization.implicit import ImplicitFactorizationModel\n",
        "from spotlight.interactions import Interactions\n",
        "import numpy as np\n",
        "import pandas as pd\n",
        "import torch\n",
        "import torch.nn as nn\n",
        "\n",
        "\n",
        "SEED = 20\n",
        "BPRMF = None"
      ],
      "execution_count": 3,
      "outputs": []
    },
    {
      "cell_type": "markdown",
      "metadata": {
        "id": "RtJO0e0m-hun"
      },
      "source": [
        "## Pre 2. Data Preparation\n",
        "\n",
        "Let's load the dataset into dataframes."
      ]
    },
    {
      "cell_type": "code",
      "metadata": {
        "id": "qKAb25iw1MYw"
      },
      "source": [
        "ratings_df = pd.read_csv('ratings.csv')\n",
        "books_df = pd.read_csv('books.csv')\n",
        "to_read_df = pd.read_csv('to_read.csv')\n",
        "test = pd.read_csv('test.csv')"
      ],
      "execution_count": 4,
      "outputs": []
    },
    {
      "cell_type": "code",
      "metadata": {
        "id": "W6rqfn53OhDC"
      },
      "source": [
        "def str_col(df: pd.DataFrame) -> None:\n",
        "  '''\n",
        "  Stringify the ID columns.\n",
        "\n",
        "  Parameters\n",
        "  ----------\n",
        "  df : the dataframe whose ID columns need stringifing.\n",
        "  '''\n",
        "\n",
        "  if 'user_id' in df.columns:\n",
        "    df['user_id'] = 'u' + df.user_id.astype(str)\n",
        "\n",
        "  if 'book_id' in df.columns:\n",
        "    df['book_id'] = 'b' + df.book_id.astype(str)\n",
        "\n",
        "\n",
        "# Cut down the number of items and users.\n",
        "counts = ratings_df[ratings_df['book_id'] < 2000].groupby(['book_id']).count().reset_index()\n",
        "valid_books = counts[counts['user_id'] >= 10][['book_id']]\n",
        "books_df = books_df.merge(valid_books, on = 'book_id')\n",
        "ratings_df = ratings_df[ratings_df['user_id'] < 2000].merge(valid_books, on = 'book_id')\n",
        "to_read_df = to_read_df[to_read_df['user_id'] < 2000].merge(valid_books, on = 'book_id')\n",
        "test = test[test['user_id'] < 2000].merge(valid_books, on = 'book_id')\n",
        "\n",
        "str_col(books_df)\n",
        "str_col(ratings_df)\n",
        "str_col(to_read_df)\n",
        "str_col(test)"
      ],
      "execution_count": 5,
      "outputs": []
    },
    {
      "cell_type": "code",
      "metadata": {
        "colab": {
          "base_uri": "https://localhost:8080/",
          "height": 966
        },
        "id": "wrI64qeIktGY",
        "outputId": "81111112-a54c-4b52-e9f1-c797c547ef3c"
      },
      "source": [
        "books_df"
      ],
      "execution_count": 6,
      "outputs": [
        {
          "output_type": "execute_result",
          "data": {
            "text/html": [
              "<div>\n",
              "<style scoped>\n",
              "    .dataframe tbody tr th:only-of-type {\n",
              "        vertical-align: middle;\n",
              "    }\n",
              "\n",
              "    .dataframe tbody tr th {\n",
              "        vertical-align: top;\n",
              "    }\n",
              "\n",
              "    .dataframe thead th {\n",
              "        text-align: right;\n",
              "    }\n",
              "</style>\n",
              "<table border=\"1\" class=\"dataframe\">\n",
              "  <thead>\n",
              "    <tr style=\"text-align: right;\">\n",
              "      <th></th>\n",
              "      <th>Unnamed: 0</th>\n",
              "      <th>book_id</th>\n",
              "      <th>goodreads_book_id</th>\n",
              "      <th>best_book_id</th>\n",
              "      <th>work_id</th>\n",
              "      <th>books_count</th>\n",
              "      <th>isbn</th>\n",
              "      <th>isbn13</th>\n",
              "      <th>authors</th>\n",
              "      <th>original_publication_year</th>\n",
              "      <th>original_title</th>\n",
              "      <th>title</th>\n",
              "      <th>language_code</th>\n",
              "      <th>average_rating</th>\n",
              "      <th>ratings_count</th>\n",
              "      <th>work_ratings_count</th>\n",
              "      <th>work_text_reviews_count</th>\n",
              "      <th>ratings_1</th>\n",
              "      <th>ratings_2</th>\n",
              "      <th>ratings_3</th>\n",
              "      <th>ratings_4</th>\n",
              "      <th>ratings_5</th>\n",
              "      <th>image_url</th>\n",
              "      <th>small_image_url</th>\n",
              "    </tr>\n",
              "  </thead>\n",
              "  <tbody>\n",
              "    <tr>\n",
              "      <th>0</th>\n",
              "      <td>0</td>\n",
              "      <td>b1</td>\n",
              "      <td>2767052</td>\n",
              "      <td>2767052</td>\n",
              "      <td>2792775</td>\n",
              "      <td>272</td>\n",
              "      <td>439023483</td>\n",
              "      <td>9.780439e+12</td>\n",
              "      <td>Suzanne Collins</td>\n",
              "      <td>2008.0</td>\n",
              "      <td>The Hunger Games</td>\n",
              "      <td>The Hunger Games (The Hunger Games, #1)</td>\n",
              "      <td>eng</td>\n",
              "      <td>4.34</td>\n",
              "      <td>4780653</td>\n",
              "      <td>4942365</td>\n",
              "      <td>155254</td>\n",
              "      <td>66715</td>\n",
              "      <td>127936</td>\n",
              "      <td>560092</td>\n",
              "      <td>1481305</td>\n",
              "      <td>2706317</td>\n",
              "      <td>https://images.gr-assets.com/books/1447303603m...</td>\n",
              "      <td>https://images.gr-assets.com/books/1447303603s...</td>\n",
              "    </tr>\n",
              "    <tr>\n",
              "      <th>1</th>\n",
              "      <td>1</td>\n",
              "      <td>b2</td>\n",
              "      <td>3</td>\n",
              "      <td>3</td>\n",
              "      <td>4640799</td>\n",
              "      <td>491</td>\n",
              "      <td>439554934</td>\n",
              "      <td>9.780440e+12</td>\n",
              "      <td>J.K. Rowling, Mary GrandPré</td>\n",
              "      <td>1997.0</td>\n",
              "      <td>Harry Potter and the Philosopher's Stone</td>\n",
              "      <td>Harry Potter and the Sorcerer's Stone (Harry P...</td>\n",
              "      <td>eng</td>\n",
              "      <td>4.44</td>\n",
              "      <td>4602479</td>\n",
              "      <td>4800065</td>\n",
              "      <td>75867</td>\n",
              "      <td>75504</td>\n",
              "      <td>101676</td>\n",
              "      <td>455024</td>\n",
              "      <td>1156318</td>\n",
              "      <td>3011543</td>\n",
              "      <td>https://images.gr-assets.com/books/1474154022m...</td>\n",
              "      <td>https://images.gr-assets.com/books/1474154022s...</td>\n",
              "    </tr>\n",
              "    <tr>\n",
              "      <th>2</th>\n",
              "      <td>2</td>\n",
              "      <td>b3</td>\n",
              "      <td>41865</td>\n",
              "      <td>41865</td>\n",
              "      <td>3212258</td>\n",
              "      <td>226</td>\n",
              "      <td>316015849</td>\n",
              "      <td>9.780316e+12</td>\n",
              "      <td>Stephenie Meyer</td>\n",
              "      <td>2005.0</td>\n",
              "      <td>Twilight</td>\n",
              "      <td>Twilight (Twilight, #1)</td>\n",
              "      <td>en-US</td>\n",
              "      <td>3.57</td>\n",
              "      <td>3866839</td>\n",
              "      <td>3916824</td>\n",
              "      <td>95009</td>\n",
              "      <td>456191</td>\n",
              "      <td>436802</td>\n",
              "      <td>793319</td>\n",
              "      <td>875073</td>\n",
              "      <td>1355439</td>\n",
              "      <td>https://images.gr-assets.com/books/1361039443m...</td>\n",
              "      <td>https://images.gr-assets.com/books/1361039443s...</td>\n",
              "    </tr>\n",
              "    <tr>\n",
              "      <th>3</th>\n",
              "      <td>3</td>\n",
              "      <td>b4</td>\n",
              "      <td>2657</td>\n",
              "      <td>2657</td>\n",
              "      <td>3275794</td>\n",
              "      <td>487</td>\n",
              "      <td>61120081</td>\n",
              "      <td>9.780061e+12</td>\n",
              "      <td>Harper Lee</td>\n",
              "      <td>1960.0</td>\n",
              "      <td>To Kill a Mockingbird</td>\n",
              "      <td>To Kill a Mockingbird</td>\n",
              "      <td>eng</td>\n",
              "      <td>4.25</td>\n",
              "      <td>3198671</td>\n",
              "      <td>3340896</td>\n",
              "      <td>72586</td>\n",
              "      <td>60427</td>\n",
              "      <td>117415</td>\n",
              "      <td>446835</td>\n",
              "      <td>1001952</td>\n",
              "      <td>1714267</td>\n",
              "      <td>https://images.gr-assets.com/books/1361975680m...</td>\n",
              "      <td>https://images.gr-assets.com/books/1361975680s...</td>\n",
              "    </tr>\n",
              "    <tr>\n",
              "      <th>4</th>\n",
              "      <td>4</td>\n",
              "      <td>b5</td>\n",
              "      <td>4671</td>\n",
              "      <td>4671</td>\n",
              "      <td>245494</td>\n",
              "      <td>1356</td>\n",
              "      <td>743273567</td>\n",
              "      <td>9.780743e+12</td>\n",
              "      <td>F. Scott Fitzgerald</td>\n",
              "      <td>1925.0</td>\n",
              "      <td>The Great Gatsby</td>\n",
              "      <td>The Great Gatsby</td>\n",
              "      <td>eng</td>\n",
              "      <td>3.89</td>\n",
              "      <td>2683664</td>\n",
              "      <td>2773745</td>\n",
              "      <td>51992</td>\n",
              "      <td>86236</td>\n",
              "      <td>197621</td>\n",
              "      <td>606158</td>\n",
              "      <td>936012</td>\n",
              "      <td>947718</td>\n",
              "      <td>https://images.gr-assets.com/books/1490528560m...</td>\n",
              "      <td>https://images.gr-assets.com/books/1490528560s...</td>\n",
              "    </tr>\n",
              "    <tr>\n",
              "      <th>...</th>\n",
              "      <td>...</td>\n",
              "      <td>...</td>\n",
              "      <td>...</td>\n",
              "      <td>...</td>\n",
              "      <td>...</td>\n",
              "      <td>...</td>\n",
              "      <td>...</td>\n",
              "      <td>...</td>\n",
              "      <td>...</td>\n",
              "      <td>...</td>\n",
              "      <td>...</td>\n",
              "      <td>...</td>\n",
              "      <td>...</td>\n",
              "      <td>...</td>\n",
              "      <td>...</td>\n",
              "      <td>...</td>\n",
              "      <td>...</td>\n",
              "      <td>...</td>\n",
              "      <td>...</td>\n",
              "      <td>...</td>\n",
              "      <td>...</td>\n",
              "      <td>...</td>\n",
              "      <td>...</td>\n",
              "      <td>...</td>\n",
              "    </tr>\n",
              "    <tr>\n",
              "      <th>1821</th>\n",
              "      <td>1989</td>\n",
              "      <td>b1990</td>\n",
              "      <td>11331421</td>\n",
              "      <td>11331421</td>\n",
              "      <td>6504537</td>\n",
              "      <td>83</td>\n",
              "      <td>1590514637</td>\n",
              "      <td>9.781591e+12</td>\n",
              "      <td>Jan-Philipp Sendker, Kevin Wiliarty</td>\n",
              "      <td>2002.0</td>\n",
              "      <td>Das Herzenhören</td>\n",
              "      <td>The Art of Hearing Heartbeats</td>\n",
              "      <td>eng</td>\n",
              "      <td>3.98</td>\n",
              "      <td>41647</td>\n",
              "      <td>50338</td>\n",
              "      <td>5650</td>\n",
              "      <td>704</td>\n",
              "      <td>2697</td>\n",
              "      <td>10330</td>\n",
              "      <td>19670</td>\n",
              "      <td>16937</td>\n",
              "      <td>https://images.gr-assets.com/books/1320437247m...</td>\n",
              "      <td>https://images.gr-assets.com/books/1320437247s...</td>\n",
              "    </tr>\n",
              "    <tr>\n",
              "      <th>1822</th>\n",
              "      <td>1990</td>\n",
              "      <td>b1991</td>\n",
              "      <td>8935689</td>\n",
              "      <td>8935689</td>\n",
              "      <td>14366</td>\n",
              "      <td>50</td>\n",
              "      <td>1857231384</td>\n",
              "      <td>9.781857e+12</td>\n",
              "      <td>Iain M. Banks</td>\n",
              "      <td>1987.0</td>\n",
              "      <td>Consider Phlebas</td>\n",
              "      <td>Consider Phlebas (Culture, #1)</td>\n",
              "      <td>eng</td>\n",
              "      <td>3.85</td>\n",
              "      <td>48649</td>\n",
              "      <td>53499</td>\n",
              "      <td>2666</td>\n",
              "      <td>1083</td>\n",
              "      <td>3656</td>\n",
              "      <td>12772</td>\n",
              "      <td>20533</td>\n",
              "      <td>15455</td>\n",
              "      <td>https://images.gr-assets.com/books/1327951890m...</td>\n",
              "      <td>https://images.gr-assets.com/books/1327951890s...</td>\n",
              "    </tr>\n",
              "    <tr>\n",
              "      <th>1823</th>\n",
              "      <td>1992</td>\n",
              "      <td>b1993</td>\n",
              "      <td>31332</td>\n",
              "      <td>31332</td>\n",
              "      <td>2925979</td>\n",
              "      <td>63</td>\n",
              "      <td>345434803</td>\n",
              "      <td>9.780345e+12</td>\n",
              "      <td>Anne Rice</td>\n",
              "      <td>1998.0</td>\n",
              "      <td>The Vampire Armand</td>\n",
              "      <td>The Vampire Armand (The Vampire Chronicles, #6)</td>\n",
              "      <td>en-US</td>\n",
              "      <td>3.75</td>\n",
              "      <td>54919</td>\n",
              "      <td>57566</td>\n",
              "      <td>756</td>\n",
              "      <td>1129</td>\n",
              "      <td>4866</td>\n",
              "      <td>17158</td>\n",
              "      <td>18670</td>\n",
              "      <td>15743</td>\n",
              "      <td>https://s.gr-assets.com/assets/nophoto/book/11...</td>\n",
              "      <td>https://s.gr-assets.com/assets/nophoto/book/50...</td>\n",
              "    </tr>\n",
              "    <tr>\n",
              "      <th>1824</th>\n",
              "      <td>1996</td>\n",
              "      <td>b1997</td>\n",
              "      <td>9565548</td>\n",
              "      <td>9565548</td>\n",
              "      <td>14452295</td>\n",
              "      <td>33</td>\n",
              "      <td>054762834X</td>\n",
              "      <td>9.780548e+12</td>\n",
              "      <td>Robin LaFevers</td>\n",
              "      <td>2012.0</td>\n",
              "      <td>Grave Mercy</td>\n",
              "      <td>Grave Mercy (His Fair Assassin, #1)</td>\n",
              "      <td>eng</td>\n",
              "      <td>3.92</td>\n",
              "      <td>70476</td>\n",
              "      <td>74683</td>\n",
              "      <td>7661</td>\n",
              "      <td>2257</td>\n",
              "      <td>4487</td>\n",
              "      <td>15591</td>\n",
              "      <td>27223</td>\n",
              "      <td>25125</td>\n",
              "      <td>https://images.gr-assets.com/books/1320269319m...</td>\n",
              "      <td>https://images.gr-assets.com/books/1320269319s...</td>\n",
              "    </tr>\n",
              "    <tr>\n",
              "      <th>1825</th>\n",
              "      <td>1998</td>\n",
              "      <td>b1999</td>\n",
              "      <td>249</td>\n",
              "      <td>249</td>\n",
              "      <td>543143</td>\n",
              "      <td>205</td>\n",
              "      <td>802131786</td>\n",
              "      <td>9.780802e+12</td>\n",
              "      <td>Henry Miller</td>\n",
              "      <td>1934.0</td>\n",
              "      <td>Tropic of Cancer</td>\n",
              "      <td>Tropic of Cancer</td>\n",
              "      <td>eng</td>\n",
              "      <td>3.71</td>\n",
              "      <td>45518</td>\n",
              "      <td>49701</td>\n",
              "      <td>2526</td>\n",
              "      <td>2313</td>\n",
              "      <td>4591</td>\n",
              "      <td>12278</td>\n",
              "      <td>16494</td>\n",
              "      <td>14025</td>\n",
              "      <td>https://images.gr-assets.com/books/1408753140m...</td>\n",
              "      <td>https://images.gr-assets.com/books/1408753140s...</td>\n",
              "    </tr>\n",
              "  </tbody>\n",
              "</table>\n",
              "<p>1826 rows × 24 columns</p>\n",
              "</div>"
            ],
            "text/plain": [
              "      Unnamed: 0  ...                                    small_image_url\n",
              "0              0  ...  https://images.gr-assets.com/books/1447303603s...\n",
              "1              1  ...  https://images.gr-assets.com/books/1474154022s...\n",
              "2              2  ...  https://images.gr-assets.com/books/1361039443s...\n",
              "3              3  ...  https://images.gr-assets.com/books/1361975680s...\n",
              "4              4  ...  https://images.gr-assets.com/books/1490528560s...\n",
              "...          ...  ...                                                ...\n",
              "1821        1989  ...  https://images.gr-assets.com/books/1320437247s...\n",
              "1822        1990  ...  https://images.gr-assets.com/books/1327951890s...\n",
              "1823        1992  ...  https://s.gr-assets.com/assets/nophoto/book/50...\n",
              "1824        1996  ...  https://images.gr-assets.com/books/1320269319s...\n",
              "1825        1998  ...  https://images.gr-assets.com/books/1408753140s...\n",
              "\n",
              "[1826 rows x 24 columns]"
            ]
          },
          "metadata": {
            "tags": []
          },
          "execution_count": 6
        }
      ]
    },
    {
      "cell_type": "code",
      "metadata": {
        "colab": {
          "base_uri": "https://localhost:8080/",
          "height": 419
        },
        "id": "5nRUgImHk3Yi",
        "outputId": "968c4a82-dbff-4ee4-c8cf-50b921cdb827"
      },
      "source": [
        "ratings_df"
      ],
      "execution_count": 7,
      "outputs": [
        {
          "output_type": "execute_result",
          "data": {
            "text/html": [
              "<div>\n",
              "<style scoped>\n",
              "    .dataframe tbody tr th:only-of-type {\n",
              "        vertical-align: middle;\n",
              "    }\n",
              "\n",
              "    .dataframe tbody tr th {\n",
              "        vertical-align: top;\n",
              "    }\n",
              "\n",
              "    .dataframe thead th {\n",
              "        text-align: right;\n",
              "    }\n",
              "</style>\n",
              "<table border=\"1\" class=\"dataframe\">\n",
              "  <thead>\n",
              "    <tr style=\"text-align: right;\">\n",
              "      <th></th>\n",
              "      <th>Unnamed: 0</th>\n",
              "      <th>user_id</th>\n",
              "      <th>book_id</th>\n",
              "      <th>rating</th>\n",
              "    </tr>\n",
              "  </thead>\n",
              "  <tbody>\n",
              "    <tr>\n",
              "      <th>0</th>\n",
              "      <td>0</td>\n",
              "      <td>u1</td>\n",
              "      <td>b258</td>\n",
              "      <td>5</td>\n",
              "    </tr>\n",
              "    <tr>\n",
              "      <th>1</th>\n",
              "      <td>130</td>\n",
              "      <td>u11</td>\n",
              "      <td>b258</td>\n",
              "      <td>3</td>\n",
              "    </tr>\n",
              "    <tr>\n",
              "      <th>2</th>\n",
              "      <td>1998</td>\n",
              "      <td>u143</td>\n",
              "      <td>b258</td>\n",
              "      <td>4</td>\n",
              "    </tr>\n",
              "    <tr>\n",
              "      <th>3</th>\n",
              "      <td>4731</td>\n",
              "      <td>u325</td>\n",
              "      <td>b258</td>\n",
              "      <td>4</td>\n",
              "    </tr>\n",
              "    <tr>\n",
              "      <th>4</th>\n",
              "      <td>5510</td>\n",
              "      <td>u362</td>\n",
              "      <td>b258</td>\n",
              "      <td>2</td>\n",
              "    </tr>\n",
              "    <tr>\n",
              "      <th>...</th>\n",
              "      <td>...</td>\n",
              "      <td>...</td>\n",
              "      <td>...</td>\n",
              "      <td>...</td>\n",
              "    </tr>\n",
              "    <tr>\n",
              "      <th>124757</th>\n",
              "      <td>438735</td>\n",
              "      <td>u1920</td>\n",
              "      <td>b1499</td>\n",
              "      <td>4</td>\n",
              "    </tr>\n",
              "    <tr>\n",
              "      <th>124758</th>\n",
              "      <td>439348</td>\n",
              "      <td>u334</td>\n",
              "      <td>b1499</td>\n",
              "      <td>2</td>\n",
              "    </tr>\n",
              "    <tr>\n",
              "      <th>124759</th>\n",
              "      <td>439505</td>\n",
              "      <td>u927</td>\n",
              "      <td>b1499</td>\n",
              "      <td>4</td>\n",
              "    </tr>\n",
              "    <tr>\n",
              "      <th>124760</th>\n",
              "      <td>439728</td>\n",
              "      <td>u1298</td>\n",
              "      <td>b1499</td>\n",
              "      <td>4</td>\n",
              "    </tr>\n",
              "    <tr>\n",
              "      <th>124761</th>\n",
              "      <td>439730</td>\n",
              "      <td>u416</td>\n",
              "      <td>b1499</td>\n",
              "      <td>3</td>\n",
              "    </tr>\n",
              "  </tbody>\n",
              "</table>\n",
              "<p>124762 rows × 4 columns</p>\n",
              "</div>"
            ],
            "text/plain": [
              "        Unnamed: 0 user_id book_id  rating\n",
              "0                0      u1    b258       5\n",
              "1              130     u11    b258       3\n",
              "2             1998    u143    b258       4\n",
              "3             4731    u325    b258       4\n",
              "4             5510    u362    b258       2\n",
              "...            ...     ...     ...     ...\n",
              "124757      438735   u1920   b1499       4\n",
              "124758      439348    u334   b1499       2\n",
              "124759      439505    u927   b1499       4\n",
              "124760      439728   u1298   b1499       4\n",
              "124761      439730    u416   b1499       3\n",
              "\n",
              "[124762 rows x 4 columns]"
            ]
          },
          "metadata": {
            "tags": []
          },
          "execution_count": 7
        }
      ]
    },
    {
      "cell_type": "code",
      "metadata": {
        "colab": {
          "base_uri": "https://localhost:8080/",
          "height": 419
        },
        "id": "226Kcxbdk44x",
        "outputId": "cb4c54ab-ae92-4bd6-e2bd-ec698c1e8ed3"
      },
      "source": [
        "to_read_df"
      ],
      "execution_count": 8,
      "outputs": [
        {
          "output_type": "execute_result",
          "data": {
            "text/html": [
              "<div>\n",
              "<style scoped>\n",
              "    .dataframe tbody tr th:only-of-type {\n",
              "        vertical-align: middle;\n",
              "    }\n",
              "\n",
              "    .dataframe tbody tr th {\n",
              "        vertical-align: top;\n",
              "    }\n",
              "\n",
              "    .dataframe thead th {\n",
              "        text-align: right;\n",
              "    }\n",
              "</style>\n",
              "<table border=\"1\" class=\"dataframe\">\n",
              "  <thead>\n",
              "    <tr style=\"text-align: right;\">\n",
              "      <th></th>\n",
              "      <th>Unnamed: 0</th>\n",
              "      <th>user_id</th>\n",
              "      <th>book_id</th>\n",
              "    </tr>\n",
              "  </thead>\n",
              "  <tbody>\n",
              "    <tr>\n",
              "      <th>0</th>\n",
              "      <td>386014</td>\n",
              "      <td>u1333</td>\n",
              "      <td>b1797</td>\n",
              "    </tr>\n",
              "    <tr>\n",
              "      <th>1</th>\n",
              "      <td>36194</td>\n",
              "      <td>u765</td>\n",
              "      <td>b1797</td>\n",
              "    </tr>\n",
              "    <tr>\n",
              "      <th>2</th>\n",
              "      <td>25568</td>\n",
              "      <td>u1042</td>\n",
              "      <td>b1797</td>\n",
              "    </tr>\n",
              "    <tr>\n",
              "      <th>3</th>\n",
              "      <td>596738</td>\n",
              "      <td>u1360</td>\n",
              "      <td>b1797</td>\n",
              "    </tr>\n",
              "    <tr>\n",
              "      <th>4</th>\n",
              "      <td>52814</td>\n",
              "      <td>u1782</td>\n",
              "      <td>b1797</td>\n",
              "    </tr>\n",
              "    <tr>\n",
              "      <th>...</th>\n",
              "      <td>...</td>\n",
              "      <td>...</td>\n",
              "      <td>...</td>\n",
              "    </tr>\n",
              "    <tr>\n",
              "      <th>135610</th>\n",
              "      <td>444981</td>\n",
              "      <td>u556</td>\n",
              "      <td>b1157</td>\n",
              "    </tr>\n",
              "    <tr>\n",
              "      <th>135611</th>\n",
              "      <td>428922</td>\n",
              "      <td>u343</td>\n",
              "      <td>b1157</td>\n",
              "    </tr>\n",
              "    <tr>\n",
              "      <th>135612</th>\n",
              "      <td>457472</td>\n",
              "      <td>u1193</td>\n",
              "      <td>b1743</td>\n",
              "    </tr>\n",
              "    <tr>\n",
              "      <th>135613</th>\n",
              "      <td>487831</td>\n",
              "      <td>u1121</td>\n",
              "      <td>b1743</td>\n",
              "    </tr>\n",
              "    <tr>\n",
              "      <th>135614</th>\n",
              "      <td>466860</td>\n",
              "      <td>u1511</td>\n",
              "      <td>b1743</td>\n",
              "    </tr>\n",
              "  </tbody>\n",
              "</table>\n",
              "<p>135615 rows × 3 columns</p>\n",
              "</div>"
            ],
            "text/plain": [
              "        Unnamed: 0 user_id book_id\n",
              "0           386014   u1333   b1797\n",
              "1            36194    u765   b1797\n",
              "2            25568   u1042   b1797\n",
              "3           596738   u1360   b1797\n",
              "4            52814   u1782   b1797\n",
              "...            ...     ...     ...\n",
              "135610      444981    u556   b1157\n",
              "135611      428922    u343   b1157\n",
              "135612      457472   u1193   b1743\n",
              "135613      487831   u1121   b1743\n",
              "135614      466860   u1511   b1743\n",
              "\n",
              "[135615 rows x 3 columns]"
            ]
          },
          "metadata": {
            "tags": []
          },
          "execution_count": 8
        }
      ]
    },
    {
      "cell_type": "code",
      "metadata": {
        "colab": {
          "base_uri": "https://localhost:8080/",
          "height": 419
        },
        "id": "MBEOmRgXk7xc",
        "outputId": "b5217e1b-f2df-49c9-c2db-25eea08e6fb7"
      },
      "source": [
        "test"
      ],
      "execution_count": 9,
      "outputs": [
        {
          "output_type": "execute_result",
          "data": {
            "text/html": [
              "<div>\n",
              "<style scoped>\n",
              "    .dataframe tbody tr th:only-of-type {\n",
              "        vertical-align: middle;\n",
              "    }\n",
              "\n",
              "    .dataframe tbody tr th {\n",
              "        vertical-align: top;\n",
              "    }\n",
              "\n",
              "    .dataframe thead th {\n",
              "        text-align: right;\n",
              "    }\n",
              "</style>\n",
              "<table border=\"1\" class=\"dataframe\">\n",
              "  <thead>\n",
              "    <tr style=\"text-align: right;\">\n",
              "      <th></th>\n",
              "      <th>Unnamed: 0</th>\n",
              "      <th>user_id</th>\n",
              "      <th>book_id</th>\n",
              "    </tr>\n",
              "  </thead>\n",
              "  <tbody>\n",
              "    <tr>\n",
              "      <th>0</th>\n",
              "      <td>26204</td>\n",
              "      <td>u978</td>\n",
              "      <td>b323</td>\n",
              "    </tr>\n",
              "    <tr>\n",
              "      <th>1</th>\n",
              "      <td>74616</td>\n",
              "      <td>u109</td>\n",
              "      <td>b323</td>\n",
              "    </tr>\n",
              "    <tr>\n",
              "      <th>2</th>\n",
              "      <td>334583</td>\n",
              "      <td>u1721</td>\n",
              "      <td>b323</td>\n",
              "    </tr>\n",
              "    <tr>\n",
              "      <th>3</th>\n",
              "      <td>297262</td>\n",
              "      <td>u429</td>\n",
              "      <td>b323</td>\n",
              "    </tr>\n",
              "    <tr>\n",
              "      <th>4</th>\n",
              "      <td>30956</td>\n",
              "      <td>u339</td>\n",
              "      <td>b323</td>\n",
              "    </tr>\n",
              "    <tr>\n",
              "      <th>...</th>\n",
              "      <td>...</td>\n",
              "      <td>...</td>\n",
              "      <td>...</td>\n",
              "    </tr>\n",
              "    <tr>\n",
              "      <th>33912</th>\n",
              "      <td>347299</td>\n",
              "      <td>u272</td>\n",
              "      <td>b1545</td>\n",
              "    </tr>\n",
              "    <tr>\n",
              "      <th>33913</th>\n",
              "      <td>1881</td>\n",
              "      <td>u126</td>\n",
              "      <td>b1333</td>\n",
              "    </tr>\n",
              "    <tr>\n",
              "      <th>33914</th>\n",
              "      <td>400826</td>\n",
              "      <td>u1841</td>\n",
              "      <td>b1513</td>\n",
              "    </tr>\n",
              "    <tr>\n",
              "      <th>33915</th>\n",
              "      <td>518727</td>\n",
              "      <td>u1599</td>\n",
              "      <td>b1513</td>\n",
              "    </tr>\n",
              "    <tr>\n",
              "      <th>33916</th>\n",
              "      <td>54189</td>\n",
              "      <td>u1854</td>\n",
              "      <td>b1448</td>\n",
              "    </tr>\n",
              "  </tbody>\n",
              "</table>\n",
              "<p>33917 rows × 3 columns</p>\n",
              "</div>"
            ],
            "text/plain": [
              "       Unnamed: 0 user_id book_id\n",
              "0           26204    u978    b323\n",
              "1           74616    u109    b323\n",
              "2          334583   u1721    b323\n",
              "3          297262    u429    b323\n",
              "4           30956    u339    b323\n",
              "...           ...     ...     ...\n",
              "33912      347299    u272   b1545\n",
              "33913        1881    u126   b1333\n",
              "33914      400826   u1841   b1513\n",
              "33915      518727   u1599   b1513\n",
              "33916       54189   u1854   b1448\n",
              "\n",
              "[33917 rows x 3 columns]"
            ]
          },
          "metadata": {
            "tags": []
          },
          "execution_count": 9
        }
      ]
    },
    {
      "cell_type": "markdown",
      "metadata": {
        "id": "C7cgXhmYUXIn"
      },
      "source": [
        "Here we construct the Interactions objects from `ratings.csv`, `to_read.csv`, and `test.csv`. We manually specify the `num_users` and `num_items` parameters to all Interactions objects, in case the test set differs from your training sets."
      ]
    },
    {
      "cell_type": "code",
      "metadata": {
        "id": "15ClgJOdTTt1",
        "colab": {
          "base_uri": "https://localhost:8080/"
        },
        "outputId": "a1a22edc-1b59-4447-ee21-6f3bce3a4e03"
      },
      "source": [
        "# Do NOT change the order of generating uids.\n",
        "uid_map = defaultdict(count().__next__)\n",
        "test_uids = np.array([uid_map[uid] for uid in test['user_id'].values], dtype = np.int32)\n",
        "rating_uids = np.array([uid_map[uid] for uid in ratings_df['user_id'].values], dtype = np.int32)\n",
        "toread_uids = np.array([uid_map[iid] for iid in to_read_df['user_id'].values], dtype = np.int32)\n",
        "\n",
        "# Do NOT change the order of generating iids.\n",
        "iid_map = defaultdict(count().__next__)\n",
        "rating_iids = np.array([iid_map[iid] for iid in ratings_df['book_id'].values], dtype = np.int32)\n",
        "test_iids = np.array([iid_map[iid] for iid in test['book_id'].values], dtype = np.int32)\n",
        "toread_iids = np.array([iid_map[iid] for iid in to_read_df['book_id'].values], dtype = np.int32)\n",
        "\n",
        "uid_rev_map = {v: k for k, v in uid_map.items()}\n",
        "iid_rev_map = {v: k for k, v in iid_map.items()}\n",
        "\n",
        "rating_dataset = Interactions(\n",
        "    user_ids = rating_uids,\n",
        "    item_ids = rating_iids,\n",
        "    ratings = ratings_df['rating'].values,\n",
        "    num_users = len(uid_rev_map),\n",
        "    num_items = len(iid_rev_map)\n",
        ")\n",
        "\n",
        "toread_dataset = Interactions(\n",
        "    user_ids = toread_uids,\n",
        "    item_ids = toread_iids,\n",
        "    num_users = len(uid_rev_map),\n",
        "    num_items = len(iid_rev_map)\n",
        ")\n",
        "\n",
        "test_dataset = Interactions(\n",
        "    user_ids = test_uids,\n",
        "    item_ids = test_iids,\n",
        "    num_users = len(uid_rev_map),\n",
        "    num_items = len(iid_rev_map)\n",
        ")\n",
        "\n",
        "print(rating_dataset)\n",
        "print(toread_dataset)\n",
        "print(test_dataset)\n",
        "\n",
        "toread_dataset_train, validation = random_train_test_split(toread_dataset, random_state = np.random.RandomState(SEED))  # Here we define the validation set.\n",
        "print(toread_dataset_train)\n",
        "print(validation)"
      ],
      "execution_count": 10,
      "outputs": [
        {
          "output_type": "stream",
          "text": [
            "<Interactions dataset (1999 users x 1826 items x 124762 interactions)>\n",
            "<Interactions dataset (1999 users x 1826 items x 135615 interactions)>\n",
            "<Interactions dataset (1999 users x 1826 items x 33917 interactions)>\n",
            "<Interactions dataset (1999 users x 1826 items x 108492 interactions)>\n",
            "<Interactions dataset (1999 users x 1826 items x 27123 interactions)>\n"
          ],
          "name": "stdout"
        }
      ]
    },
    {
      "cell_type": "markdown",
      "metadata": {
        "id": "a2noK30pBEsF"
      },
      "source": [
        "Finally, this is some utility code that we will use in the exercise."
      ]
    },
    {
      "cell_type": "code",
      "metadata": {
        "id": "2kDxZgICBFp6",
        "colab": {
          "base_uri": "https://localhost:8080/"
        },
        "outputId": "cf9e0c16-3518-4f75-b982-f7ea3c00bfe7"
      },
      "source": [
        "def get_author_title(iid: int) -> str:\n",
        "  '''\n",
        "  Get the author and title of a specific book.\n",
        "\n",
        "  Parameters\n",
        "  ----------\n",
        "  iid : the iid of the book\n",
        "\n",
        "  Returns\n",
        "  -------\n",
        "  author_title : the author and title of a specific book in the format of \"<authors> / <title>\"\n",
        "  '''\n",
        "\n",
        "  book_id = iid_rev_map[iid]\n",
        "  row = books_df[books_df['book_id'] == book_id]\n",
        "  return row.iloc[0]['authors'] + ' / ' + row.iloc[0]['title']\n",
        "\n",
        "\n",
        "print('iid 0:', get_author_title(0))"
      ],
      "execution_count": 11,
      "outputs": [
        {
          "output_type": "stream",
          "text": [
            "iid 0: Carlos Ruiz Zafón, Lucia Graves / The Shadow of the Wind (The Cemetery of Forgotten Books,  #1)\n"
          ],
          "name": "stdout"
        }
      ]
    },
    {
      "cell_type": "markdown",
      "metadata": {
        "id": "Kt4I2C5DTUL5"
      },
      "source": [
        "## Pre 3. Example Code\n",
        "\n",
        "To evaluate some of your hand-implemented recommender systems (e.g. Task 1, Task 4), you will need to instantiate objects that match the specification of a Spotlight model, which `mrr_score()` etc. expects.\n",
        "\n",
        "Here is an example recommender object that returns 0 for each item, regardless of user."
      ]
    },
    {
      "cell_type": "code",
      "metadata": {
        "id": "s2eaxy_hakbC",
        "colab": {
          "base_uri": "https://localhost:8080/"
        },
        "outputId": "d0b3c703-657d-4842-9272-7870c8503c5e"
      },
      "source": [
        "class DummyModel:\n",
        "  '''\n",
        "  The class for a dummy model as an example.\n",
        "  '''\n",
        "\n",
        "  def __init__(self, n_items: int) -> None:\n",
        "    '''\n",
        "    The constructor of the class for a dummy model as an example.\n",
        "\n",
        "    Parameters\n",
        "    ----------\n",
        "    n_items : the number of items\n",
        "    '''\n",
        "\n",
        "    self.predictions = np.zeros(n_items)\n",
        "\n",
        "  def predict(self, uid: int) -> np.ndarray:\n",
        "    '''\n",
        "    Make predictions regardless of the user.\n",
        "\n",
        "    Parameters\n",
        "    ----------\n",
        "    uid : the user we are requesting recommendations for\n",
        "\n",
        "    Returns\n",
        "    -------\n",
        "    predictions : 0 scores, one for each item, same for any user\n",
        "    '''\n",
        "\n",
        "    return self.predictions\n",
        "\n",
        "\n",
        "print(mrr_score(\n",
        "    DummyModel(test_dataset.num_items),\n",
        "    test_dataset,\n",
        "    train = rating_dataset,\n",
        "    k = 100,\n",
        "    verbose = True  # Display a progress bar.\n",
        ").mean())"
      ],
      "execution_count": 12,
      "outputs": [
        {
          "output_type": "stream",
          "text": [
            "1999it [00:00, 2564.79it/s]"
          ],
          "name": "stderr"
        },
        {
          "output_type": "stream",
          "text": [
            "0.0\n"
          ],
          "name": "stdout"
        },
        {
          "output_type": "stream",
          "text": [
            "\n"
          ],
          "name": "stderr"
        }
      ]
    },
    {
      "cell_type": "markdown",
      "metadata": {
        "id": "dJ6u4gwe2jnY"
      },
      "source": [
        "# Part-A. Combination of Recommendation Models"
      ]
    },
    {
      "cell_type": "markdown",
      "metadata": {
        "id": "SyvGgW_3ZjLV"
      },
      "source": [
        "## Task 1. Explicit & Implicit Matrix Factorisation Models\n",
        "\n",
        "Create and train three matrix factorisation systems:\n",
        "- EMF: explicit MF, trained on the `ratings` Interactions object (`rating_dataset`)\n",
        "- IMF: implicit MF, trained on the `toread` Interactions object (`toread_dataset_train`)\n",
        "- BPRMF: implicit MF with the BPR loss function (`loss = 'bpr'`), trained on the `toread` Interactions object (`toread_dataset_train`)\n",
        "\n",
        "Use a variable of the same name for these models, as we will use some of them later (e.g. `BPRMF`). In all cases, you must use the standard initialisation arguments except `random_state = np.random.RandomState(SEED)`. Evaluate each of these models in terms of mean reciprocal rank (MRR) on the test set. MRR can be obtained using:\n",
        "```python\n",
        "mrr_score(X, test_dataset, train = rating_dataset, k = 100, verbose = True).mean()\n",
        "```\n",
        "where X is an instance of a Spotlight model. Do NOT change the `k` or `train` arguments."
      ]
    },
    {
      "cell_type": "code",
      "metadata": {
        "id": "qDADjtepRvpJ",
        "colab": {
          "base_uri": "https://localhost:8080/"
        },
        "outputId": "6ef3de9e-6842-480d-cca6-c9fa07406e97"
      },
      "source": [
        "# Train and evaluate EMF.\n",
        "EMF = ExplicitFactorizationModel(random_state = np.random.RandomState(SEED))  # Keep default parameters except random_state.\n",
        "EMF.fit(rating_dataset, verbose = True)\n",
        "mrr_score(EMF, test_dataset, train = rating_dataset, k = 100).mean()"
      ],
      "execution_count": 13,
      "outputs": [
        {
          "output_type": "stream",
          "text": [
            "Epoch 0: loss 3.8710271667261593\n",
            "Epoch 1: loss 0.7940810446123607\n",
            "Epoch 2: loss 0.6382512643200452\n",
            "Epoch 3: loss 0.5217335281557725\n",
            "Epoch 4: loss 0.44844855655167926\n",
            "Epoch 5: loss 0.40543351120880394\n",
            "Epoch 6: loss 0.3823863151254224\n",
            "Epoch 7: loss 0.36336620252762664\n",
            "Epoch 8: loss 0.35137936695799477\n",
            "Epoch 9: loss 0.3396692546237199\n"
          ],
          "name": "stdout"
        },
        {
          "output_type": "execute_result",
          "data": {
            "text/plain": [
              "0.05898399982013507"
            ]
          },
          "metadata": {
            "tags": []
          },
          "execution_count": 13
        }
      ]
    },
    {
      "cell_type": "code",
      "metadata": {
        "colab": {
          "base_uri": "https://localhost:8080/"
        },
        "id": "P7M4026I1FfV",
        "outputId": "1bb27b40-4a41-437c-b85b-aa3237b2094d"
      },
      "source": [
        "# Train and evaluate IMF.\n",
        "IMF = ImplicitFactorizationModel(random_state = np.random.RandomState(SEED))  # Keep default parameters except random_state.\n",
        "IMF.fit(toread_dataset_train, verbose = True)\n",
        "mrr_score(IMF, test_dataset, train = rating_dataset, k = 100).mean()"
      ],
      "execution_count": 14,
      "outputs": [
        {
          "output_type": "stream",
          "text": [
            "Epoch 0: loss 0.7677980539090229\n",
            "Epoch 1: loss 0.53877861825925\n",
            "Epoch 2: loss 0.47017199658560305\n",
            "Epoch 3: loss 0.428322009882837\n",
            "Epoch 4: loss 0.39839018825090156\n",
            "Epoch 5: loss 0.368275504770144\n",
            "Epoch 6: loss 0.3473479778699155\n",
            "Epoch 7: loss 0.32980164804689166\n",
            "Epoch 8: loss 0.31870100696413023\n",
            "Epoch 9: loss 0.3048194432103971\n"
          ],
          "name": "stdout"
        },
        {
          "output_type": "execute_result",
          "data": {
            "text/plain": [
              "0.3299315791285401"
            ]
          },
          "metadata": {
            "tags": []
          },
          "execution_count": 14
        }
      ]
    },
    {
      "cell_type": "code",
      "metadata": {
        "colab": {
          "base_uri": "https://localhost:8080/"
        },
        "id": "EApsD5hZ1IR2",
        "outputId": "cd0dc536-3055-479a-dc45-669ccc935c98"
      },
      "source": [
        "# Train and evaluate BPRMF.\n",
        "BPRMF = ImplicitFactorizationModel(loss = 'bpr', random_state = np.random.RandomState(SEED))  # Keep default parameters except loss and random_state.\n",
        "BPRMF.fit(toread_dataset_train, verbose = True)\n",
        "rrs_BPRMF = mrr_score(BPRMF, test_dataset, train = rating_dataset, k = 100)  # Store each user's RR for later use.\n",
        "rrs_BPRMF.mean()"
      ],
      "execution_count": 15,
      "outputs": [
        {
          "output_type": "stream",
          "text": [
            "Epoch 0: loss 0.33895447579616644\n",
            "Epoch 1: loss 0.19644999289709442\n",
            "Epoch 2: loss 0.15870640168563938\n",
            "Epoch 3: loss 0.14147728193059284\n",
            "Epoch 4: loss 0.132827276100387\n",
            "Epoch 5: loss 0.12213623321632731\n",
            "Epoch 6: loss 0.11668406535853755\n",
            "Epoch 7: loss 0.11047121562626001\n",
            "Epoch 8: loss 0.10888675406996934\n",
            "Epoch 9: loss 0.10400472129782978\n"
          ],
          "name": "stdout"
        },
        {
          "output_type": "execute_result",
          "data": {
            "text/plain": [
              "0.4076771464674879"
            ]
          },
          "metadata": {
            "tags": []
          },
          "execution_count": 15
        }
      ]
    },
    {
      "cell_type": "markdown",
      "metadata": {
        "id": "hZHCOmfEDOGo"
      },
      "source": [
        "## Task 2. Hybrid Model\n",
        "\n",
        "In this task, you are expected to create new hybrid recommendation models that \n",
        "combine the two models in Task 1, namely IMF and BPRMF. \n",
        "\n",
        "(a) Linearly combine the *scores* from IMF and BPRMF using the data fusion CombSUM. Normalise both input scores into the range [0,1] using sklearn's [`minmax_scale()`](https://scikit-learn.org/stable/modules/generated/sklearn.preprocessing.minmax_scale.html) function before combining them.\n",
        "\n",
        "(b) Apply a pipelining recommender, where the top 100 items are obtained from IMF and re-ranked using the scores of BPRMF. Items not returned by IMF get a score of 0.\n",
        "\n",
        "To implement these hybrid models, you should create new classes that abide by the Spotlight model contract (namely, it has a `predict(self, uid)` function that returns a score for *all* items). Evaluate each model in terms of MRR. How many users are improved, how many are degraded compared to the BPRMF baseline?\n",
        "\n",
        "Finally, pass your instantiated model object to the `test_Hybrid_a()` (for (a)) or `test_Hybrid_b()` (for (b)) functions, as appropriate, and record the results in the quiz. For example, if your model for (b) is called `pipeline`, then you would run:\n",
        "```python\n",
        "test_Hybrid_b(pipeline)\n",
        "```\n",
        "\n",
        "You now have sufficient information to answer the Task 2 quiz questions."
      ]
    },
    {
      "cell_type": "code",
      "metadata": {
        "id": "6j6JzIOHkYw9"
      },
      "source": [
        "def test_Hybrid_a(hybrid_a) -> None:\n",
        "  '''\n",
        "  Test Hybrid A.\n",
        "\n",
        "  Parameters\n",
        "  ----------\n",
        "  hybrid_a : an instantiation of the model Hybrid A\n",
        "  '''\n",
        "\n",
        "  for i, uid in enumerate([5, 20]):\n",
        "    print('Hybrid A test case %d (uid %d):' % (i, uid))\n",
        "    print(np.count_nonzero(hybrid_a.predict(uid) > 1))\n",
        "\n",
        "def test_Hybrid_b(hybrid_b) -> None:\n",
        "  '''\n",
        "  Test Hybrid B.\n",
        "\n",
        "  Parameters\n",
        "  ----------\n",
        "  hybrid_b : an instantiation of the model Hybrid B\n",
        "  '''\n",
        "\n",
        "  for i, iid in enumerate([3, 0]):\n",
        "    print('Hybrid B test case %d (iid %d):' % (i, iid))\n",
        "    print(hybrid_b.predict(0)[iid])"
      ],
      "execution_count": 16,
      "outputs": []
    },
    {
      "cell_type": "code",
      "metadata": {
        "id": "1_o7a1ppFZ7R"
      },
      "source": [
        "class HybridA:\n",
        "  '''\n",
        "  The class for the model Hybrid A.\n",
        "  '''\n",
        "\n",
        "  def __init__(self, IMF: ImplicitFactorizationModel, BPRMF: ImplicitFactorizationModel) -> None:\n",
        "    '''\n",
        "    The constructor of the class for the model Hybrid A.\n",
        "\n",
        "    Parameters\n",
        "    ----------\n",
        "    IMF : the trained model IMF\n",
        "    BPRMF : the trained model BPRMF\n",
        "    '''\n",
        "\n",
        "    self.IMF = IMF\n",
        "    self.BPRMF = BPRMF\n",
        "\n",
        "  def predict(self, uid: int) -> np.ndarray:\n",
        "    '''\n",
        "    Make predictions.\n",
        "\n",
        "    Parameters\n",
        "    ----------\n",
        "    uid : the user we are requesting recommendations for\n",
        "\n",
        "    Returns\n",
        "    -------\n",
        "    predictions : the predictions for each item for a specific user.\n",
        "    '''\n",
        "    \n",
        "    return minmax_scale(self.IMF.predict(uid)) + minmax_scale(self.BPRMF.predict(uid))  # Normalise predictions, and apply (parallelised) weighted hybridisation using CombSUM as the data fusion.\n",
        "\n",
        "class HybridB:\n",
        "  '''\n",
        "  The class for the model Hybrid B.\n",
        "  '''\n",
        "\n",
        "  def __init__(self, IMF: ImplicitFactorizationModel, BPRMF: ImplicitFactorizationModel) -> None:\n",
        "    '''\n",
        "    The constructor of the class for the model Hybrid B.\n",
        "\n",
        "    Parameters\n",
        "    ----------\n",
        "    IMF : the trained model IMF\n",
        "    BPRMF : the trained model BPRMF\n",
        "    '''\n",
        "\n",
        "    self.IMF = IMF\n",
        "    self.BPRMF = BPRMF\n",
        "\n",
        "  def predict(self, uid: int) -> np.ndarray:\n",
        "    '''\n",
        "    Make predictions.\n",
        "\n",
        "    Parameters\n",
        "    ----------\n",
        "    uid : the user we are requesting recommendations for\n",
        "\n",
        "    Returns\n",
        "    -------\n",
        "    predictions : the predictions for each item for a specific user.\n",
        "    '''\n",
        "\n",
        "    IMF_ranks = np.argsort(-self.IMF.predict(uid))[:100]  # The top 100 items obtained from IMF.\n",
        "    BPRMF_predictions = self.BPRMF.predict(uid)\n",
        "    predictions = np.zeros_like(BPRMF_predictions, dtype = BPRMF_predictions.dtype)  # Generate an initial prediction ndarray with 0.\n",
        "    predictions[IMF_ranks] = BPRMF_predictions[IMF_ranks]  # Assign the top 100 items to BPRMF's scores.\n",
        "    return predictions  # Return predictions applying (pipelined) cascade hybridisation."
      ],
      "execution_count": 17,
      "outputs": []
    },
    {
      "cell_type": "code",
      "metadata": {
        "colab": {
          "base_uri": "https://localhost:8080/"
        },
        "id": "GoRYbSG1_I7p",
        "outputId": "bdd56110-c7f2-44de-9ef8-e8a23f4d62f5"
      },
      "source": [
        "hybrid_a = HybridA(IMF, BPRMF)\n",
        "rrs_a = mrr_score(hybrid_a, test_dataset, train = rating_dataset, k = 100)\n",
        "print('The number of improved users:', np.where(rrs_BPRMF < rrs_a)[0].size)\n",
        "print('The number of downgraded users:', np.where(rrs_BPRMF > rrs_a)[0].size)\n",
        "print('MRR:', rrs_a.mean())"
      ],
      "execution_count": 18,
      "outputs": [
        {
          "output_type": "stream",
          "text": [
            "The number of improved users: 736\n",
            "The number of downgraded users: 745\n",
            "MRR: 0.41010939818893816\n"
          ],
          "name": "stdout"
        }
      ]
    },
    {
      "cell_type": "code",
      "metadata": {
        "colab": {
          "base_uri": "https://localhost:8080/"
        },
        "id": "roFJ83xrKlTz",
        "outputId": "7b0466f9-19b7-4a19-975d-b01c923fdb20"
      },
      "source": [
        "hybrid_b = HybridB(IMF, BPRMF)\n",
        "rrs_b = mrr_score(hybrid_b, test_dataset, train = rating_dataset, k = 100)\n",
        "print('The number of improved users:', np.where(rrs_BPRMF < rrs_b)[0].size)\n",
        "print('The number of downgraded users:', np.where(rrs_BPRMF > rrs_b)[0].size)\n",
        "print('MRR:', rrs_b.mean())"
      ],
      "execution_count": 19,
      "outputs": [
        {
          "output_type": "stream",
          "text": [
            "The number of improved users: 586\n",
            "The number of downgraded users: 214\n",
            "MRR: 0.41511955311399246\n"
          ],
          "name": "stdout"
        }
      ]
    },
    {
      "cell_type": "code",
      "metadata": {
        "id": "ROCBxlfKKkGA",
        "colab": {
          "base_uri": "https://localhost:8080/"
        },
        "outputId": "b0f6a584-0177-45a5-c045-53e7d7834c8a"
      },
      "source": [
        "test_Hybrid_a(hybrid_a)\n",
        "test_Hybrid_b(hybrid_b)"
      ],
      "execution_count": 20,
      "outputs": [
        {
          "output_type": "stream",
          "text": [
            "Hybrid A test case 0 (uid 5):\n",
            "445\n",
            "Hybrid A test case 1 (uid 20):\n",
            "407\n",
            "Hybrid B test case 0 (iid 3):\n",
            "22.013418\n",
            "Hybrid B test case 1 (iid 0):\n",
            "0.0\n"
          ],
          "name": "stdout"
        }
      ]
    },
    {
      "cell_type": "markdown",
      "metadata": {
        "id": "Qf0K6GECM0LQ"
      },
      "source": [
        "# Part-B. Analysing Recommendation Models"
      ]
    },
    {
      "cell_type": "markdown",
      "metadata": {
        "id": "-gszqk2kIZLX"
      },
      "source": [
        "## Utility methods\n",
        "\n",
        "Below, we provide a function, `get_top_K()` which, when provided with a Spotlight model, will provide the top `k` predictions for the specified `uid`. The `iids`, their scores, and their embeddings are returned. "
      ]
    },
    {
      "cell_type": "code",
      "metadata": {
        "id": "xIyc_p_dIm1M",
        "colab": {
          "base_uri": "https://localhost:8080/"
        },
        "outputId": "4be57eb9-59cf-411b-8c40-1e92781e0556"
      },
      "source": [
        "def get_top_K(model, uid: int, k: int) -> Tuple[np.ndarray, np.ndarray, np.ndarray]:\n",
        "  '''\n",
        "  \n",
        "  Parameters\n",
        "  ----------\n",
        "  model : the trained model\n",
        "  uid : the uid of the specific user\n",
        "  k : the number of top predictions kept\n",
        "\n",
        "  Returns\n",
        "  -------\n",
        "  top_k : the iids, their normalised scores in descending order, and item embeddings for the top k predictions of the specific user\n",
        "  '''\n",
        "\n",
        "  scores = model.predict(uid)  # Get scores from the model.\n",
        "  scores = minmax_scale(scores)  # Normalise scores.\n",
        "  ranks = rankdata(-scores)  # Compute their ranks.\n",
        "  \n",
        "  # Get and filter iids, scores, and embeddings.\n",
        "  rtr_scores = scores[ranks <= k]\n",
        "  rtr_iids = np.argwhere(ranks <= k).flatten()\n",
        "\n",
        "  if hasattr(model, '_net'):\n",
        "    embs = model._net.item_embeddings.weight[rtr_iids]\n",
        "  # The model does not have any embeddings.\n",
        "  else:  \n",
        "    embs = np.zeros([k, 1])\n",
        "  \n",
        "  ordering = np.argsort(-rtr_scores)  # Identify correct ordering.\n",
        "  return rtr_iids[ordering], rtr_scores[ordering], embs[ordering]\n",
        "\n",
        "\n",
        "if BPRMF is not None:\n",
        "  iids, scores, embs = get_top_K(BPRMF, 0, 10)\n",
        "  print('Returned iids:', iids)\n",
        "  print('Returned scores:', scores)\n",
        "  print('Returned embeddings:', embs)\n",
        "else:\n",
        "  print('You need to define BPRMF in Task 1.')"
      ],
      "execution_count": 21,
      "outputs": [
        {
          "output_type": "stream",
          "text": [
            "Returned iids: [ 23 108  21  33   9  81  52 254  16   3]\n",
            "Returned scores: [1.         0.9895131  0.9848315  0.92250896 0.9070817  0.90654314\n",
            " 0.9005319  0.89310133 0.88378096 0.8836929 ]\n",
            "Returned embeddings: tensor([[-0.0453,  1.3716, -0.8307, -1.2616,  1.6700,  1.0161,  1.1168,  2.3530,\n",
            "         -1.2027,  0.8522, -1.0941, -0.6865, -0.5725, -2.0335, -1.2591,  0.6154,\n",
            "         -0.1374, -1.6868, -1.8615, -0.7514,  1.9909, -0.3909,  1.9239,  1.3293,\n",
            "         -1.2834, -0.4520,  1.1338,  0.3467,  2.5169, -2.1587,  1.2310,  1.1670],\n",
            "        [ 0.1239,  1.1004,  0.0531, -1.1045,  1.9932,  1.5049,  1.0011,  1.9734,\n",
            "         -1.6322, -0.8913, -0.6372,  0.7721, -1.1422, -2.2424, -1.1936, -0.5770,\n",
            "          0.0762, -1.0283, -1.2807, -2.0889,  2.8154, -0.9600, -0.1419,  0.8408,\n",
            "         -1.6067, -1.2905,  1.9169,  1.3988,  1.8646, -2.2028,  0.5365,  0.2022],\n",
            "        [ 0.3845,  0.8188, -0.1892, -1.1793,  2.1731,  0.6669,  1.1271,  1.4538,\n",
            "         -1.2173, -0.5447, -1.6713,  0.5249, -0.6132, -3.1082, -0.6489,  0.4312,\n",
            "          0.9176, -1.0346, -1.7232, -1.3347,  2.5504,  0.2789,  1.9649,  0.7684,\n",
            "         -1.0310, -1.3983,  0.8985, -0.0562,  2.1894, -0.8905,  1.0992,  0.6691],\n",
            "        [-0.4410,  0.4801, -0.2538, -0.5986,  1.2272,  0.6531,  1.4534,  1.3803,\n",
            "         -1.3796,  0.8305, -1.1837, -0.3366, -0.3528, -1.9982, -1.2018,  0.8934,\n",
            "         -0.5632, -0.6443, -0.7337, -0.4922,  2.9899,  0.2760,  1.4479,  1.0105,\n",
            "         -0.7107, -1.7105, -0.9456, -0.2314,  2.2862, -1.0982,  0.6176,  1.9784],\n",
            "        [-0.5686,  1.3279,  0.0929, -1.1565,  0.5140, -0.1223,  0.8788,  2.0444,\n",
            "          0.2803,  0.6417, -0.3809,  0.2828, -0.3895, -2.7013, -1.4182,  0.2742,\n",
            "         -1.0461, -1.5824, -2.0993, -1.3979,  1.3412, -0.4346,  1.5427,  1.2284,\n",
            "         -2.0168, -1.3083,  0.2939,  2.2792,  1.2569, -0.8994,  1.0784, -0.0203],\n",
            "        [ 0.1340,  0.2584, -0.5791, -0.5029,  2.7529,  0.0107,  0.8058,  2.3262,\n",
            "         -1.9017, -0.4165, -1.4422, -0.7689, -0.7657, -1.3836,  0.7729, -0.0596,\n",
            "          0.1377, -0.9144, -1.0304, -2.4873,  2.4421, -0.2146,  1.3113,  2.0114,\n",
            "         -0.5655, -1.5423,  1.9430,  2.1211,  1.2265, -0.4562,  0.4370,  1.1741],\n",
            "        [ 0.5933,  1.3073,  0.5726, -0.0917,  1.6623,  1.3124,  0.8131,  1.4753,\n",
            "         -1.6077,  1.4744, -0.6149, -0.1318,  0.2843, -2.1551, -1.0225,  1.1611,\n",
            "         -0.7732, -1.3496, -0.7587, -1.4566,  1.8771,  0.2448,  0.9532,  0.2902,\n",
            "         -1.4033, -1.9129,  1.0374, -0.1574,  2.0627, -1.1652,  0.8938,  0.7756],\n",
            "        [ 0.6018,  1.0445, -0.5415,  0.5355,  1.4569,  0.5330,  0.2956,  1.5574,\n",
            "         -0.2669, -1.4242,  1.5775,  1.0870, -0.6438, -1.5680, -1.4657,  1.3033,\n",
            "         -0.6602, -0.7102, -1.1306, -1.5143,  1.2747,  0.5494, -0.2278,  1.8629,\n",
            "         -1.8720, -0.3860,  1.0929,  1.4837,  1.2602, -1.6316, -0.4450,  0.6793],\n",
            "        [-0.4931, -0.2156, -1.0300, -1.1251,  2.3141,  0.1844,  0.0278,  1.1525,\n",
            "         -0.3218, -0.2236, -0.9952,  0.4091, -0.8533, -2.1377, -2.0955,  0.4107,\n",
            "         -0.5804, -1.6455, -1.4729, -2.6273,  1.5917, -0.3359,  2.3430,  0.6596,\n",
            "         -1.4888, -1.8436,  1.2947,  2.4997,  1.9382, -0.2631,  0.8980,  0.6717],\n",
            "        [-0.6251,  1.0291, -0.9705, -0.5551,  1.3933,  1.4241,  0.6316,  0.8137,\n",
            "         -0.1443, -0.4631,  0.1315, -0.3589, -0.3534, -1.7652, -0.1728,  0.4081,\n",
            "         -2.4594, -2.0278, -0.9450, -1.9469,  0.8574, -0.0176,  0.7410,  0.8268,\n",
            "         -0.9872, -1.0237,  1.6763,  1.2756,  1.2099, -0.8075,  1.2227,  1.8007]],\n",
            "       grad_fn=<IndexBackward>)\n"
          ],
          "name": "stdout"
        }
      ]
    },
    {
      "cell_type": "markdown",
      "metadata": {
        "id": "DVYiQRYaEh61"
      },
      "source": [
        "## Task 3. Evaluation of Non-personalised Models\n",
        "Implement the following four (non-personalised) baselines for ranking books based on their statistics:\n",
        "- Average rating, obtained from `ratings_df` (column `ratings`)\n",
        "- Number of ratings, obtained from `books_df` (column `ratings_count`)\n",
        "- Number of 5* ratings, obtained from `books_df` (column `ratings_5`)\n",
        "- Fraction of 5* ratings, calculated from the two sources of evidence above (columns `ratings_5` and `ratings_count`).\n",
        "\n",
        "Evaluate these in terms of MRR using the provided test data. You may use the `StaticModel` class below. \n",
        "\n",
        "**Hints:**\n",
        "- As in Exercise 2, the order of items returned by `predict()` is *critical*. You may wish to refer to `iid_map`.\n",
        "- For all models, you need to ensure that your values are not cast to ints. If you are extracting values from a Pandas series, it is advised to use [`astype(np.float32)`](https://pandas.pydata.org/pandas-docs/stable/reference/api/pandas.Series.astype.html).\n"
      ]
    },
    {
      "cell_type": "code",
      "metadata": {
        "id": "Xop8aPfyFucw"
      },
      "source": [
        "class StaticModel:\n",
        "  '''\n",
        "  The class for a baseline static scoring model.\n",
        "  '''\n",
        "\n",
        "  def __init__(self, static_scores: np.ndarray) -> None:\n",
        "    '''\n",
        "    The constructor of the class for a baseline static scoring model.\n",
        "\n",
        "    Parameters\n",
        "    ----------\n",
        "    static_scores : the static scores\n",
        "    '''\n",
        "\n",
        "    assert isinstance(static_scores, np.ndarray), 'Expected a numpy array.'\n",
        "    assert static_scores.dtype == np.float32 or static_scores.dtype == np.float64, 'Expected a numpy array of floats.'\n",
        "    self.static_scores = static_scores\n",
        "  \n",
        "  def predict(self, uid: int) -> np.ndarray:\n",
        "    '''\n",
        "    Predict the static scores regardless of the user.\n",
        "\n",
        "    Parameters\n",
        "    ----------\n",
        "    uid : the user we are requesting recommendations for\n",
        "    \n",
        "    Returns\n",
        "    -------\n",
        "    scores : the static scores, one for each item, same for any user\n",
        "    '''\n",
        "    \n",
        "    return self.static_scores"
      ],
      "execution_count": 22,
      "outputs": []
    },
    {
      "cell_type": "code",
      "metadata": {
        "id": "6R1q-Zm7FVM9",
        "colab": {
          "base_uri": "https://localhost:8080/"
        },
        "outputId": "2cf1b87b-0524-4523-eb8b-cc881eeaa47e"
      },
      "source": [
        "# The assumed item order in StaticModel's predict() is the same as iid_map (i.e., the order of unique books in ratings_df).\n",
        "n_ratings = np.array([books_df[books_df['book_id'] == id]['ratings_count'].values.astype(np.float32) for id in iid_map.keys()])\n",
        "n_ratings_5 = np.array([books_df[books_df['book_id'] == id]['ratings_5'].values.astype(np.float32) for id in iid_map.keys()])\n",
        "\n",
        "model_a = StaticModel(ratings_df.groupby(['book_id'], sort = False)['rating'].mean().values)  # A static model based on the average rating. Use \"sort = False\" to preserve the order of unique books in ratings_df.\n",
        "model_b = StaticModel(n_ratings)  # A static model based on the number of ratings.\n",
        "model_c = StaticModel(n_ratings_5)  # A static model based on the number of 5* ratings.\n",
        "model_d = StaticModel(n_ratings_5 / n_ratings)  # A static model based on the fraction of 5* ratings.\n",
        "\n",
        "print('MRR of Model A:', mrr_score(model_a, test_dataset, train = rating_dataset, k = 100).mean())\n",
        "print('MRR of Model B:', mrr_score(model_b, test_dataset, train = rating_dataset, k = 100).mean())\n",
        "print('MRR of Model C:', mrr_score(model_c, test_dataset, train = rating_dataset, k = 100).mean())\n",
        "print('MRR of Model D:', mrr_score(model_d, test_dataset, train = rating_dataset, k = 100).mean())"
      ],
      "execution_count": 23,
      "outputs": [
        {
          "output_type": "stream",
          "text": [
            "MRR of Model A: 0.015052024168984034\n",
            "MRR of Model B: 0.2396001188245477\n",
            "MRR of Model C: 0.2409670879930144\n",
            "MRR of Model D: 0.03415267465103555\n"
          ],
          "name": "stdout"
        }
      ]
    },
    {
      "cell_type": "markdown",
      "metadata": {
        "id": "tZqRSixpGvfn"
      },
      "source": [
        "## Task 4. Qualitatively Examining Recommendations\n",
        "\n",
        "From now on, we will consider the `BPRMF` model.\n",
        "\n",
        "In Recommender Systems, the ground truth (i.e. our list of books that the user has added to their \"to-read\" shelf) can be very incomplete. For instance, this can be because the user is not aware of the book yet.\n",
        "\n",
        "For this reason, it is important to \"eyeball\" the recommendations, to understand what the system is surfacing, and whether the recommendations make sense. In this way, we understand if the recommendations are reasonable, even if they are for books that the user has not actually read according to the test dataset.\n",
        "\n",
        "First, write a function, which given a `uid` (int), prints the *title and authors* of:\n",
        "- (a) the books that the user has previously shelved (c.f. `toread_dataset`)\n",
        "- (b) the books that the user will read in the future (c.f. `test_dataset`)\n",
        "- (c) the top 10 books that the user were recommended by `BPRMF` - you can make use of `get_top_K()`.\n",
        "\n",
        "You can use the previously defined `get_author_title()` function in your solution. You will also want to compare books in (c) with those in (a) and (b)."
      ]
    },
    {
      "cell_type": "code",
      "metadata": {
        "id": "Kg1eFa5GYv5c"
      },
      "source": [
        "def list_books(uid: int) -> None:\n",
        "  '''\n",
        "  List the books that the a specific user has previously shelved, or will read in the future, or the top 10 books that the user were recommended by BPRMF.\n",
        "\n",
        "  Parameters\n",
        "  ----------\n",
        "  uid : the uid of the specific user\n",
        "  '''\n",
        "\n",
        "  print('Books that the user has previously shelved:')\n",
        "\n",
        "  for iid in toread_dataset.item_ids[toread_dataset.user_ids == uid]:\n",
        "    print('\\t' + get_author_title(iid))\n",
        "  \n",
        "  print('\\nBooks that the user will read in the future:')\n",
        "\n",
        "  for iid in test_dataset.item_ids[test_dataset.user_ids == uid]:\n",
        "    print('\\t' + get_author_title(iid))\n",
        "\n",
        "  print('\\nTop 10 books that the user were recommended by BPRMF:')\n",
        "  top_k_iids, _, _ = get_top_K(BPRMF, uid, 10)\n",
        "\n",
        "  for iid in top_k_iids:\n",
        "    print('\\t' + get_author_title(iid))\n",
        "  \n",
        "  top_k_ids = [iid_rev_map[iid] for iid in top_k_iids]\n",
        "  top_k_authors = books_df[np.isin(books_df['book_id'], top_k_ids)]['authors'].values\n",
        "  test_ids = [iid_rev_map[iid] for iid in test_dataset.item_ids[test_dataset.user_ids == uid]]\n",
        "  test_authors = books_df[np.isin(books_df['book_id'], test_ids)]['authors'].values\n",
        "  print('\\nSummary:')\n",
        "  print('\\tRR:', rrs_BPRMF[uid])\n",
        "  print('\\tThe number of the top 10 books that were already previously shelved:', np.count_nonzero(np.isin(top_k_iids, toread_dataset.item_ids[toread_dataset.user_ids == uid])))\n",
        "  print('\\tThe number of the top 10 books that were also present in the future shelf:', np.count_nonzero(np.isin(top_k_iids, test_dataset.item_ids[test_dataset.user_ids == uid])))\n",
        "  print('\\tThe number of the top 10 books\\' authors that were also present in the future shelf:', np.count_nonzero(np.isin(top_k_authors, test_authors)))"
      ],
      "execution_count": 24,
      "outputs": []
    },
    {
      "cell_type": "markdown",
      "metadata": {
        "id": "oda_ReG3Mv8a"
      },
      "source": [
        "Then, we will examine two specific users, namely `uid` 1805 (u336) and `uid` 179 (user u1331), to analyse if their recommendations make sense. The results could also be referred to in the following tasks."
      ]
    },
    {
      "cell_type": "code",
      "metadata": {
        "colab": {
          "base_uri": "https://localhost:8080/"
        },
        "id": "CJauHVJcuYIK",
        "outputId": "a52b6d0e-35a5-463a-df58-7191cf0e0e2a"
      },
      "source": [
        "list_books(1805)"
      ],
      "execution_count": 25,
      "outputs": [
        {
          "output_type": "stream",
          "text": [
            "Books that the user has previously shelved:\n",
            "\tStieg Larsson, Reg Keeland / The Girl Who Kicked the Hornet's Nest (Millennium, #3)\n",
            "\tSuzanne Collins / Mockingjay (The Hunger Games, #3)\n",
            "\tDennis Lehane / Shutter Island\n",
            "\tSuzanne Collins / Catching Fire (The Hunger Games, #2)\n",
            "\tPaula Hawkins / The Girl on the Train\n",
            "\tRobert Ludlum / The Bourne Supremacy (Jason Bourne, #2)\n",
            "\tJohn Grisham / The Client\n",
            "\tThomas Harris / The Silence of the Lambs  (Hannibal Lecter, #2)\n",
            "\tDaphne du Maurier, Sally Beauman / Rebecca\n",
            "\tRobert Ludlum / The Bourne Identity (Jason Bourne, #1)\n",
            "\tRobert Galbraith, J.K. Rowling / The Cuckoo's Calling (Cormoran Strike, #1)\n",
            "\tStephen King / Misery\n",
            "\tMichael Crichton / Jurassic Park (Jurassic Park, #1)\n",
            "\tRobert Ludlum / The Bourne Ultimatum (Jason Bourne, #3)\n",
            "\tStephen King, Bernie Wrightson / The Stand\n",
            "\tMichael Crichton / The Andromeda Strain\n",
            "\tThomas Harris / Red Dragon (Hannibal Lecter, #1)\n",
            "\tLee Child / Die Trying (Jack Reacher, #2)\n",
            "\tLee Child / Worth Dying For (Jack Reacher, #15)\n",
            "\tLee Child / Tripwire  (Jack Reacher, #3)\n",
            "\tMichael Crichton / Congo\n",
            "\tLee Child, Dick Hill / Without Fail (Jack Reacher, #6)\n",
            "\tMichael Crichton / The Lost World (Jurassic Park, #2)\n",
            "\tJanet Evanovich / One for the Money (Stephanie Plum, #1)\n",
            "\tTom Clancy / Patriot Games (Jack Ryan Universe, #2)\n",
            "\tLee Child / Running Blind (Jack Reacher, #4)\n",
            "\tKen Follett / Eye of the Needle\n",
            "\tMichael Crichton / State of Fear\n",
            "\tScott Turow / Presumed Innocent\n",
            "\tHarlan Coben / Tell No One\n",
            "\n",
            "Books that the user will read in the future:\n",
            "\tJohn Grisham / The Pelican Brief\n",
            "\tStieg Larsson, Reg Keeland / The Girl Who Played with Fire (Millennium, #2)\n",
            "\tGillian Flynn / Gone Girl\n",
            "\tTom Clancy / The Hunt for Red October (Jack Ryan Universe, #4)\n",
            "\tChuck Palahniuk / Fight Club\n",
            "\tUmberto Eco, William Weaver, Seán Barrett / The Name of the Rose\n",
            "\tJohn Grisham / The Runaway Jury\n",
            "\tThomas Harris / Hannibal (Hannibal Lecter, #3)\n",
            "\tLee Child / The Affair (Jack Reacher, #16)\n",
            "\tJohn Grisham / The Firm (Penguin Readers, Level 5)\n",
            "\tLee Child / Killing Floor (Jack Reacher, #1)\n",
            "\tJohn Grisham / A Time to Kill\n",
            "\tStephen King / The Shining (The Shining #1)\n",
            "\tMichael Crichton / Timeline\n",
            "\tMichael Crichton / Prey\n",
            "\tJeffery Deaver / The Bone Collector (Lincoln Rhyme, #1)\n",
            "\n",
            "Top 10 books that the user were recommended by BPRMF:\n",
            "\tSuzanne Collins / The Hunger Games (The Hunger Games, #1)\n",
            "\tDan Brown / The Da Vinci Code (Robert Langdon, #2)\n",
            "\tDan Brown / The Lost Symbol (Robert Langdon, #3)\n",
            "\tMichael Crichton / Disclosure\n",
            "\tGeorge R.R. Martin / A Clash of Kings  (A Song of Ice and Fire, #2)\n",
            "\tDan Brown / Angels & Demons  (Robert Langdon, #1)\n",
            "\tJohn Grisham / The Broker\n",
            "\tKhaled Hosseini / The Kite Runner\n",
            "\tGeorge R.R. Martin / A Game of Thrones (A Song of Ice and Fire, #1)\n",
            "\tSuzanne Collins / Mockingjay (The Hunger Games, #3)\n",
            "\n",
            "Summary:\n",
            "\tRR: 0.05555555555555555\n",
            "\tThe number of the top 10 books that were already previously shelved: 1\n",
            "\tThe number of the top 10 books that were also present in the future shelf: 0\n",
            "\tThe number of the top 10 books' authors that were also present in the future shelf: 2\n"
          ],
          "name": "stdout"
        }
      ]
    },
    {
      "cell_type": "code",
      "metadata": {
        "colab": {
          "base_uri": "https://localhost:8080/"
        },
        "id": "0O7XigD4vdn_",
        "outputId": "b026ed13-911f-418e-8ef2-c17449172b0c"
      },
      "source": [
        "list_books(179)"
      ],
      "execution_count": 26,
      "outputs": [
        {
          "output_type": "stream",
          "text": [
            "Books that the user has previously shelved:\n",
            "\tDan Brown / Angels & Demons  (Robert Langdon, #1)\n",
            "\tSuzanne Collins / The Hunger Games (The Hunger Games, #1)\n",
            "\tAntoine de Saint-Exupéry, Richard Howard, Dom Marcos Barbosa, Melina Karakosta / The Little Prince\n",
            "\tTruman Capote / Breakfast at Tiffany's\n",
            "\tDan Brown / The Da Vinci Code (Robert Langdon, #2)\n",
            "\tLaura Ingalls Wilder, Garth Williams / Little House on the Prairie (Little House, #2)\n",
            "\tMilan Kundera, Michael Henry Heim / The Unbearable Lightness of Being\n",
            "\tSuzanne Collins / Catching Fire (The Hunger Games, #2)\n",
            "\tJohn Grisham / The Client\n",
            "\tJ.R.R. Tolkien / The Lord of the Rings (The Lord of the Rings, #1-3)\n",
            "\tJ.R.R. Tolkien / The Hobbit\n",
            "\tMargaret Mitchell / Gone with the Wind\n",
            "\tNeil Gaiman / Stardust\n",
            "\tLaura Ingalls Wilder, Garth Williams / Little House in the Big Woods (Little House, #1)\n",
            "\tPearl S. Buck / The Good Earth (House of Earth, #1)\n",
            "\tDan Brown / Digital Fortress\n",
            "\tDaniel Keyes / Flowers for Algernon\n",
            "\tNeil Gaiman / Coraline\n",
            "\tDan Brown / Deception Point\n",
            "\tJohn Grisham / The Broker\n",
            "\tJohn Grisham / The Brethren\n",
            "\tAgatha Christie / Murder on the Orient Express (Hercule Poirot, #10)\n",
            "\tJohn Grisham / The King of Torts\n",
            "\tFlora Rheta Schreiber / Sybil: The Classic True Story of a Woman Possessed by Sixteen Personalities\n",
            "\tJohn Grisham / The Street Lawyer\n",
            "\tJohn Grisham / The Partner\n",
            "\tAnthony Bourdain / Kitchen Confidential: Adventures in the Culinary Underbelly\n",
            "\tJohn Grisham / The Rainmaker\n",
            "\tAstrid Lindgren, Lauren Child, Florence Lamborn, Nancy Seligsohn / Pippi Longstocking\n",
            "\tSidney Sheldon / If Tomorrow Comes (Tracy Whitney Series, #1)\n",
            "\n",
            "Books that the user will read in the future:\n",
            "\tSuzanne Collins / Mockingjay (The Hunger Games, #3)\n",
            "\tJ.K. Rowling, Mary GrandPré / Harry Potter and the Deathly Hallows (Harry Potter, #7)\n",
            "\tAgatha Christie, Ροζίτα Σώκου / The Mysterious Affair at Styles (Hercule Poirot, #1)\n",
            "\tJohn Grisham / The Testament\n",
            "\tJohn Grisham / The Innocent Man: Murder and Injustice in a Small Town\n",
            "\tJohn Grisham / A Painted House\n",
            "\tAgatha Christie / The Man in the Brown Suit\n",
            "\tJohn Grisham / The Summons\n",
            "\tPaulo Coelho / The Witch Of Portobello\n",
            "\tLaura Ingalls Wilder, Garth Williams / Little Town on the Prairie  (Little House, #7)\n",
            "\n",
            "Top 10 books that the user were recommended by BPRMF:\n",
            "\tJohn Grisham / The Partner\n",
            "\tJohn Grisham / The Pelican Brief\n",
            "\tJohn Grisham / The Client\n",
            "\tJohn Grisham / The Brethren\n",
            "\tJohn Grisham / The Street Lawyer\n",
            "\tJohn Grisham / The Broker\n",
            "\tJohn Grisham / The Rainmaker\n",
            "\tJohn Grisham / The King of Torts\n",
            "\tJ.K. Rowling, Mary GrandPré / Harry Potter and the Sorcerer's Stone (Harry Potter, #1)\n",
            "\tJohn Grisham / The Runaway Jury\n",
            "\n",
            "Summary:\n",
            "\tRR: 0.2\n",
            "\tThe number of the top 10 books that were already previously shelved: 7\n",
            "\tThe number of the top 10 books that were also present in the future shelf: 0\n",
            "\tThe number of the top 10 books' authors that were also present in the future shelf: 10\n"
          ],
          "name": "stdout"
        }
      ]
    },
    {
      "cell_type": "markdown",
      "metadata": {
        "id": "ES_zHeCkNBeC"
      },
      "source": [
        "# Part-C. Diversity of Recommendations\n",
        "\n",
        "This part of the exercise is concerned with diversification, as covered in Lecture 11."
      ]
    },
    {
      "cell_type": "markdown",
      "metadata": {
        "id": "pvBep-ROHWSX"
      },
      "source": [
        "## Task 5. Measuring Intra-List Diversity (ILD)\n",
        "\n",
        "For the BPR implicit factorisation model, implement the intra-list diversity measure (see Lecture 11) of the top 5 scored items based on their item embeddings in the `BPRMF` model. Implement your ILD as a function with the specification:\n",
        "```python\n",
        "def measure_ild(top_books: np.ndarray, K: int = 5) -> float\n",
        "```\n",
        "where:\n",
        "- `top_books` is a Numpy array of `iids` that have been returned for a particular user. For instance, it can be obtained from `get_top_K()`.\n",
        "- `K` is the number of top-ranked items to consider from `top_books`.\n",
        "- Your implementation should use the item emebddings stored in the `BPRMF` model.\n",
        "\n",
        "Calculate the ILD (with `K` = 5). Using your code for Task 4, identify the books previously shelved and recommended for the specific users requested in the quiz, and use these to analyse the recommendations.\n",
        "\n",
        "**Hints:**\n",
        "- As can be seen in `get_top_K()`, item embeddings can be obtained from `BPRMF._net.item_embeddings.weight[iid]`.\n",
        "- For obtaining the cosine similarity of PyTorch tensors, use `nn.functional.cosine_similarity(x, y, dim = 0)`."
      ]
    },
    {
      "cell_type": "code",
      "metadata": {
        "id": "4n2vBwcnYuM4"
      },
      "source": [
        "def measure_ild(top_books: np.ndarray, K: int = 5) -> float:\n",
        "  '''\n",
        "  Measure the ILD.\n",
        "\n",
        "  Parameters\n",
        "  ----------\n",
        "  top_books : the iids that have been returned for a particular user\n",
        "  K : the number of top-ranked items to consider from top_books\n",
        "\n",
        "  Returns\n",
        "  -------\n",
        "  ild : the ILD\n",
        "  '''\n",
        "\n",
        "  embeddings = BPRMF._net.item_embeddings.weight[top_books[:K]]  # Get corresponding K item embeddings.\n",
        "  cos = np.array([nn.functional.cosine_similarity(embeddings[i], embeddings[j], dim = 0).item() for i in range(K) for j in range(i + 1, K)])  # Compute cosine similarities for unique pairs.\n",
        "  return np.sum(1 - cos) / (K * (K - 1) / 2)  # ILD = SUM(1 - Similarities) / (n * (n - 1) / 2)"
      ],
      "execution_count": 27,
      "outputs": []
    },
    {
      "cell_type": "code",
      "metadata": {
        "colab": {
          "base_uri": "https://localhost:8080/"
        },
        "id": "pISpXF8kSaD0",
        "outputId": "e3445ae3-b33c-44b5-9364-98e9437f8dba"
      },
      "source": [
        "top_k_iids, _, _ = get_top_K(BPRMF, 1805, 5)\n",
        "measure_ild(top_k_iids)"
      ],
      "execution_count": 28,
      "outputs": [
        {
          "output_type": "execute_result",
          "data": {
            "text/plain": [
              "0.7484898872673511"
            ]
          },
          "metadata": {
            "tags": []
          },
          "execution_count": 28
        }
      ]
    },
    {
      "cell_type": "code",
      "metadata": {
        "colab": {
          "base_uri": "https://localhost:8080/"
        },
        "id": "i7lzeDS3S3D1",
        "outputId": "47dc8a79-ee04-4562-cc83-7487a61e1709"
      },
      "source": [
        "top_k_iids, _, _ = get_top_K(BPRMF, 179, 5)\n",
        "measure_ild(top_k_iids)"
      ],
      "execution_count": 29,
      "outputs": [
        {
          "output_type": "execute_result",
          "data": {
            "text/plain": [
              "0.27872883677482607"
            ]
          },
          "metadata": {
            "tags": []
          },
          "execution_count": 29
        }
      ]
    },
    {
      "cell_type": "markdown",
      "metadata": {
        "id": "0qwrP1jUpARF"
      },
      "source": [
        "## Task 6. Implement MMR Diversification\n",
        "\n",
        "Develop an Maximal Marginal Relevance (M**M**R) diversification technique, to re-rank the top-ranked recommendations for a given user. Your function should adhere to the specification as follows:\n",
        "```python\n",
        "def mmr(iids: Sequence[int], scores: Sequence[float], embs: np.ndarray, alpha: float) -> np.ndarray:\n",
        "```\n",
        "where `iids` is a list of iids, `scores` is their corresponding scores (in descending order), `embs` is their embeddings, and `alpha` controls the diversification trade-off. The function returns a re-ordering of `iids`. As in previous Exercises, type hints are provided for clarity.\n",
        "\n",
        "**Hints:**\n",
        "- As above, for obtaining the cosine similarity of PyTorch tensors, use `nn.functional.cosine_similarity(x, y, dim = 0)`.\n",
        "\n",
        "To use your `mmr()` function, provide it with the outputs of `get_top_K()`. For example, to obtain an MMR reordering of the top 10 predictions of `uid` 0, the following code could help:\n",
        "```\n",
        "mmr(*get_top_K(BPRMF, 0, 10), 0.5)\n",
        "```\n",
        "\n",
        "Thereafter, we provide test cases for your MMR implementation, which you  should report in the quiz. We also ask for the ILD values before and after the application of MMR."
      ]
    },
    {
      "cell_type": "code",
      "metadata": {
        "id": "1VkEMfRvIhKV"
      },
      "source": [
        "def mmr(iids: Sequence[int], scores: Sequence[float], embs: np.ndarray, alpha: float) -> np.ndarray:\n",
        "  '''\n",
        "  Re-rank the top-ranked recommendations for a given user based on MMR.\n",
        "\n",
        "  Parameters\n",
        "  ----------\n",
        "  iids : the iids for the top-ranked predictions of the specific user\n",
        "  scores : the normalised scores in descending order for the top-ranked predictions of the specific user\n",
        "  embs : the item embeddings for the top-ranked predictions of the specific user\n",
        "  alpha : the parameter for controlling the diversification trade-off in computing the MMR\n",
        "\n",
        "  Returns\n",
        "  -------\n",
        "  rtr_iids : a re-ordering of iids\n",
        "  '''\n",
        "\n",
        "  assert len(iids) == len(scores), 'Expected equal size of iids and scores.'\n",
        "  assert len(iids) == embs.shape[0], 'Expected equal size of iids and item embeddings.'\n",
        "  assert len(embs.size()) == 2, 'Expected correct shape of item embeddings.'\n",
        "  rank = []  # A rank list with indices sorted by MMR.\n",
        "\n",
        "  # Ensure a list is converted to an ndarray.\n",
        "  iids = np.array(iids)\n",
        "  scores = np.array(scores)\n",
        "\n",
        "  # Iterate for each iid. MMR = ARGMAX(Relevance - Novelty) = ARGMAX(alpha * Score - (1 - alpha) * Similarity)\n",
        "  for _ in range(len(iids)):\n",
        "    mmrs = []\n",
        "    waiting = np.delete(range(len(iids)), rank)  # The iids pending ranking.\n",
        "    \n",
        "    # Iterate for each iid NOT in rank.\n",
        "    for i in waiting:\n",
        "      novelties = [nn.functional.cosine_similarity(embs[i], embs[j], dim = 0).item() for j in rank]  # Iterate for each iid in rank.\n",
        "      mmrs.append(alpha * scores[i] - (0 if len(rank) == 0 else (1 - alpha) * np.max(novelties)))  # In Iteration 1, no element in rank, novelty equals 0, so the 1st rank is Index 0 of scores which is in descending order.\n",
        "\n",
        "    rank.append(waiting[np.argmax(mmrs)])  # Add the index of the iid with the maximum MMR in this iteration.\n",
        "\n",
        "  return iids[np.array(rank)]"
      ],
      "execution_count": 30,
      "outputs": []
    },
    {
      "cell_type": "code",
      "metadata": {
        "id": "34QWxFVTfrLM",
        "colab": {
          "base_uri": "https://localhost:8080/"
        },
        "outputId": "17c914e5-d162-4a10-af44-fb55d4c17f90"
      },
      "source": [
        "def run_MMR_testcases(mmr_fn) -> None:\n",
        "  '''\n",
        "  Run several MMR testcases.\n",
        "\n",
        "  Parameters\n",
        "  ----------\n",
        "  mmr_fn : the function (a first-class object) that re-ranks the top-ranked recommendations for a given user based on MMR.\n",
        "  '''\n",
        "\n",
        "  example_embeddings1 = torch.tensor([[1.0, 1.0], [1.0, 1.0], [0, 1.0], [0.1, 1.0]])\n",
        "  example_embeddings2 = torch.tensor([[1.0, 1.0], [1.0, 1.0], [0.02, 1.0], [0.01, 1.0]])\n",
        "  print('Testcase 0:', mmr_fn([1, 2, 3, 4], [0.5, 0.5, 0.5, 0.5], example_embeddings1, 0.5)[0])\n",
        "  print('Testcase 1:', mmr_fn([1, 2, 3, 4], [0.5, 0.5, 0.5, 0.5], example_embeddings1, 0.5)[1])\n",
        "  print('Testcase 2:', mmr_fn([1, 2, 3, 4], [4, 3, 2, 1], example_embeddings1, 1)[1])\n",
        "  print('Testcase 3:', mmr_fn([1, 2, 3, 4], [0.99, 0.98, 0.97, 0.001], example_embeddings2, 0.001)[1])\n",
        "  print('Testcase 4:', mmr_fn([1, 2, 3, 4], [0.99, 0.98, 0.97, 0.001], example_embeddings2, 0.5)[1])\n",
        "\n",
        "run_MMR_testcases(mmr)"
      ],
      "execution_count": 31,
      "outputs": [
        {
          "output_type": "stream",
          "text": [
            "Testcase 0: 1\n",
            "Testcase 1: 3\n",
            "Testcase 2: 2\n",
            "Testcase 3: 4\n",
            "Testcase 4: 3\n"
          ],
          "name": "stdout"
        }
      ]
    },
    {
      "cell_type": "markdown",
      "metadata": {
        "id": "vfm9mCWZmBPQ"
      },
      "source": [
        "Now we can analyse the impact of our MMR implementation. Let's consider again `uid` 179 (user u1331). Apply MMR on the top 10 results obtained from the BPRMF model using `get_top_K()`, with an alpha value of 0.5.\n",
        "\n",
        "Finally, anaylse the returned books. Calculate the ILD (with `k = 5`), and examine the authors and titles (using `get_author_title()`). \n",
        "\n",
        "Now answer the questions in Task 6 of the Moodle quiz.\n"
      ]
    },
    {
      "cell_type": "code",
      "metadata": {
        "id": "1wM7m8pOmCnM",
        "colab": {
          "base_uri": "https://localhost:8080/"
        },
        "outputId": "6daf4169-1243-4ace-ba90-1d07df798c99"
      },
      "source": [
        "iids, scores, embeddings = get_top_K(BPRMF, 179, 10)\n",
        "rtr_iids = mmr(iids, scores, embeddings, 0.5)\n",
        "print('ILD:', measure_ild(rtr_iids))\n",
        "print('Books (sorted by MMR):')\n",
        "\n",
        "for rtr_iid in rtr_iids:\n",
        "  print('\\t' + get_author_title(rtr_iid))\n",
        "\n",
        "print('Corresponding iids:', rtr_iids)"
      ],
      "execution_count": 32,
      "outputs": [
        {
          "output_type": "stream",
          "text": [
            "ILD: 0.5566449973732233\n",
            "Books (sorted by MMR):\n",
            "\tJohn Grisham / The Partner\n",
            "\tJ.K. Rowling, Mary GrandPré / Harry Potter and the Sorcerer's Stone (Harry Potter, #1)\n",
            "\tJohn Grisham / The Street Lawyer\n",
            "\tJohn Grisham / The Pelican Brief\n",
            "\tJohn Grisham / The Brethren\n",
            "\tJohn Grisham / The Rainmaker\n",
            "\tJohn Grisham / The Runaway Jury\n",
            "\tJohn Grisham / The Broker\n",
            "\tJohn Grisham / The Client\n",
            "\tJohn Grisham / The King of Torts\n",
            "Corresponding iids: [ 89   9  88 391 906  62 934  86  92  91]\n"
          ],
          "name": "stdout"
        }
      ]
    },
    {
      "cell_type": "markdown",
      "metadata": {
        "id": "49QoGVphnegD"
      },
      "source": [
        "# Task 7\n",
        "\n",
        "This task is not a practical task - instead there are questions that tests your understanding of some related content of the course in the quiz."
      ]
    },
    {
      "cell_type": "markdown",
      "metadata": {
        "id": "F8N-fEdkMKLD"
      },
      "source": [
        "# End of Exercise\n",
        "\n",
        "As part of your submission, you should complete the Exercise 3 quiz on Moodle.\n",
        "You will need to upload your notebook, complete with the **results** of executing the code."
      ]
    }
  ]
}